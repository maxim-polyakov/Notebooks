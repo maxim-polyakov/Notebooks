{
 "cells": [
  {
   "cell_type": "code",
   "execution_count": 1,
   "metadata": {},
   "outputs": [],
   "source": [
    "import pandas as pd\n",
    "import numpy as np\n",
    "\n",
    "import matplotlib.pyplot as plt\n",
    "import seaborn as sns\n",
    "\n",
    "import math\n",
    "from scipy import stats\n",
    "\n",
    "from typing import Callable\n",
    "\n",
    "RAND = 10"
   ]
  },
  {
   "cell_type": "markdown",
   "metadata": {},
   "source": [
    "# Загрузка данных"
   ]
  },
  {
   "cell_type": "code",
   "execution_count": 26,
   "metadata": {},
   "outputs": [
    {
     "ename": "FileNotFoundError",
     "evalue": "[Errno 2] No such file or directory: 'orders.csv'",
     "output_type": "error",
     "traceback": [
      "\u001b[1;31m---------------------------------------------------------------------------\u001b[0m",
      "\u001b[1;31mFileNotFoundError\u001b[0m                         Traceback (most recent call last)",
      "\u001b[1;32m~\\AppData\\Local\\Temp\\ipykernel_20440\\2677856942.py\u001b[0m in \u001b[0;36m<module>\u001b[1;34m\u001b[0m\n\u001b[1;32m----> 1\u001b[1;33m \u001b[0morders\u001b[0m \u001b[1;33m=\u001b[0m \u001b[0mpd\u001b[0m\u001b[1;33m.\u001b[0m\u001b[0mread_csv\u001b[0m\u001b[1;33m(\u001b[0m\u001b[1;34m'orders.csv'\u001b[0m\u001b[1;33m,\u001b[0m \u001b[0mparse_dates\u001b[0m\u001b[1;33m=\u001b[0m\u001b[1;33m[\u001b[0m\u001b[1;34m'date'\u001b[0m\u001b[1;33m]\u001b[0m\u001b[1;33m)\u001b[0m\u001b[1;33m\u001b[0m\u001b[1;33m\u001b[0m\u001b[0m\n\u001b[0m\u001b[0;32m      2\u001b[0m visitors = pd.read_csv('visitors.csv',\n\u001b[0;32m      3\u001b[0m                        parse_dates=['date'])\n",
      "\u001b[1;32mD:\\Anaconda\\lib\\site-packages\\pandas\\util\\_decorators.py\u001b[0m in \u001b[0;36mwrapper\u001b[1;34m(*args, **kwargs)\u001b[0m\n\u001b[0;32m    309\u001b[0m                     \u001b[0mstacklevel\u001b[0m\u001b[1;33m=\u001b[0m\u001b[0mstacklevel\u001b[0m\u001b[1;33m,\u001b[0m\u001b[1;33m\u001b[0m\u001b[1;33m\u001b[0m\u001b[0m\n\u001b[0;32m    310\u001b[0m                 )\n\u001b[1;32m--> 311\u001b[1;33m             \u001b[1;32mreturn\u001b[0m \u001b[0mfunc\u001b[0m\u001b[1;33m(\u001b[0m\u001b[1;33m*\u001b[0m\u001b[0margs\u001b[0m\u001b[1;33m,\u001b[0m \u001b[1;33m**\u001b[0m\u001b[0mkwargs\u001b[0m\u001b[1;33m)\u001b[0m\u001b[1;33m\u001b[0m\u001b[1;33m\u001b[0m\u001b[0m\n\u001b[0m\u001b[0;32m    312\u001b[0m \u001b[1;33m\u001b[0m\u001b[0m\n\u001b[0;32m    313\u001b[0m         \u001b[1;32mreturn\u001b[0m \u001b[0mwrapper\u001b[0m\u001b[1;33m\u001b[0m\u001b[1;33m\u001b[0m\u001b[0m\n",
      "\u001b[1;32mD:\\Anaconda\\lib\\site-packages\\pandas\\io\\parsers\\readers.py\u001b[0m in \u001b[0;36mread_csv\u001b[1;34m(filepath_or_buffer, sep, delimiter, header, names, index_col, usecols, squeeze, prefix, mangle_dupe_cols, dtype, engine, converters, true_values, false_values, skipinitialspace, skiprows, skipfooter, nrows, na_values, keep_default_na, na_filter, verbose, skip_blank_lines, parse_dates, infer_datetime_format, keep_date_col, date_parser, dayfirst, cache_dates, iterator, chunksize, compression, thousands, decimal, lineterminator, quotechar, quoting, doublequote, escapechar, comment, encoding, encoding_errors, dialect, error_bad_lines, warn_bad_lines, on_bad_lines, delim_whitespace, low_memory, memory_map, float_precision, storage_options)\u001b[0m\n\u001b[0;32m    676\u001b[0m     \u001b[0mkwds\u001b[0m\u001b[1;33m.\u001b[0m\u001b[0mupdate\u001b[0m\u001b[1;33m(\u001b[0m\u001b[0mkwds_defaults\u001b[0m\u001b[1;33m)\u001b[0m\u001b[1;33m\u001b[0m\u001b[1;33m\u001b[0m\u001b[0m\n\u001b[0;32m    677\u001b[0m \u001b[1;33m\u001b[0m\u001b[0m\n\u001b[1;32m--> 678\u001b[1;33m     \u001b[1;32mreturn\u001b[0m \u001b[0m_read\u001b[0m\u001b[1;33m(\u001b[0m\u001b[0mfilepath_or_buffer\u001b[0m\u001b[1;33m,\u001b[0m \u001b[0mkwds\u001b[0m\u001b[1;33m)\u001b[0m\u001b[1;33m\u001b[0m\u001b[1;33m\u001b[0m\u001b[0m\n\u001b[0m\u001b[0;32m    679\u001b[0m \u001b[1;33m\u001b[0m\u001b[0m\n\u001b[0;32m    680\u001b[0m \u001b[1;33m\u001b[0m\u001b[0m\n",
      "\u001b[1;32mD:\\Anaconda\\lib\\site-packages\\pandas\\io\\parsers\\readers.py\u001b[0m in \u001b[0;36m_read\u001b[1;34m(filepath_or_buffer, kwds)\u001b[0m\n\u001b[0;32m    573\u001b[0m \u001b[1;33m\u001b[0m\u001b[0m\n\u001b[0;32m    574\u001b[0m     \u001b[1;31m# Create the parser.\u001b[0m\u001b[1;33m\u001b[0m\u001b[1;33m\u001b[0m\u001b[0m\n\u001b[1;32m--> 575\u001b[1;33m     \u001b[0mparser\u001b[0m \u001b[1;33m=\u001b[0m \u001b[0mTextFileReader\u001b[0m\u001b[1;33m(\u001b[0m\u001b[0mfilepath_or_buffer\u001b[0m\u001b[1;33m,\u001b[0m \u001b[1;33m**\u001b[0m\u001b[0mkwds\u001b[0m\u001b[1;33m)\u001b[0m\u001b[1;33m\u001b[0m\u001b[1;33m\u001b[0m\u001b[0m\n\u001b[0m\u001b[0;32m    576\u001b[0m \u001b[1;33m\u001b[0m\u001b[0m\n\u001b[0;32m    577\u001b[0m     \u001b[1;32mif\u001b[0m \u001b[0mchunksize\u001b[0m \u001b[1;32mor\u001b[0m \u001b[0miterator\u001b[0m\u001b[1;33m:\u001b[0m\u001b[1;33m\u001b[0m\u001b[1;33m\u001b[0m\u001b[0m\n",
      "\u001b[1;32mD:\\Anaconda\\lib\\site-packages\\pandas\\io\\parsers\\readers.py\u001b[0m in \u001b[0;36m__init__\u001b[1;34m(self, f, engine, **kwds)\u001b[0m\n\u001b[0;32m    930\u001b[0m \u001b[1;33m\u001b[0m\u001b[0m\n\u001b[0;32m    931\u001b[0m         \u001b[0mself\u001b[0m\u001b[1;33m.\u001b[0m\u001b[0mhandles\u001b[0m\u001b[1;33m:\u001b[0m \u001b[0mIOHandles\u001b[0m \u001b[1;33m|\u001b[0m \u001b[1;32mNone\u001b[0m \u001b[1;33m=\u001b[0m \u001b[1;32mNone\u001b[0m\u001b[1;33m\u001b[0m\u001b[1;33m\u001b[0m\u001b[0m\n\u001b[1;32m--> 932\u001b[1;33m         \u001b[0mself\u001b[0m\u001b[1;33m.\u001b[0m\u001b[0m_engine\u001b[0m \u001b[1;33m=\u001b[0m \u001b[0mself\u001b[0m\u001b[1;33m.\u001b[0m\u001b[0m_make_engine\u001b[0m\u001b[1;33m(\u001b[0m\u001b[0mf\u001b[0m\u001b[1;33m,\u001b[0m \u001b[0mself\u001b[0m\u001b[1;33m.\u001b[0m\u001b[0mengine\u001b[0m\u001b[1;33m)\u001b[0m\u001b[1;33m\u001b[0m\u001b[1;33m\u001b[0m\u001b[0m\n\u001b[0m\u001b[0;32m    933\u001b[0m \u001b[1;33m\u001b[0m\u001b[0m\n\u001b[0;32m    934\u001b[0m     \u001b[1;32mdef\u001b[0m \u001b[0mclose\u001b[0m\u001b[1;33m(\u001b[0m\u001b[0mself\u001b[0m\u001b[1;33m)\u001b[0m\u001b[1;33m:\u001b[0m\u001b[1;33m\u001b[0m\u001b[1;33m\u001b[0m\u001b[0m\n",
      "\u001b[1;32mD:\\Anaconda\\lib\\site-packages\\pandas\\io\\parsers\\readers.py\u001b[0m in \u001b[0;36m_make_engine\u001b[1;34m(self, f, engine)\u001b[0m\n\u001b[0;32m   1214\u001b[0m             \u001b[1;31m# \"Union[str, PathLike[str], ReadCsvBuffer[bytes], ReadCsvBuffer[str]]\"\u001b[0m\u001b[1;33m\u001b[0m\u001b[1;33m\u001b[0m\u001b[0m\n\u001b[0;32m   1215\u001b[0m             \u001b[1;31m# , \"str\", \"bool\", \"Any\", \"Any\", \"Any\", \"Any\", \"Any\"\u001b[0m\u001b[1;33m\u001b[0m\u001b[1;33m\u001b[0m\u001b[0m\n\u001b[1;32m-> 1216\u001b[1;33m             self.handles = get_handle(  # type: ignore[call-overload]\n\u001b[0m\u001b[0;32m   1217\u001b[0m                 \u001b[0mf\u001b[0m\u001b[1;33m,\u001b[0m\u001b[1;33m\u001b[0m\u001b[1;33m\u001b[0m\u001b[0m\n\u001b[0;32m   1218\u001b[0m                 \u001b[0mmode\u001b[0m\u001b[1;33m,\u001b[0m\u001b[1;33m\u001b[0m\u001b[1;33m\u001b[0m\u001b[0m\n",
      "\u001b[1;32mD:\\Anaconda\\lib\\site-packages\\pandas\\io\\common.py\u001b[0m in \u001b[0;36mget_handle\u001b[1;34m(path_or_buf, mode, encoding, compression, memory_map, is_text, errors, storage_options)\u001b[0m\n\u001b[0;32m    784\u001b[0m         \u001b[1;32mif\u001b[0m \u001b[0mioargs\u001b[0m\u001b[1;33m.\u001b[0m\u001b[0mencoding\u001b[0m \u001b[1;32mand\u001b[0m \u001b[1;34m\"b\"\u001b[0m \u001b[1;32mnot\u001b[0m \u001b[1;32min\u001b[0m \u001b[0mioargs\u001b[0m\u001b[1;33m.\u001b[0m\u001b[0mmode\u001b[0m\u001b[1;33m:\u001b[0m\u001b[1;33m\u001b[0m\u001b[1;33m\u001b[0m\u001b[0m\n\u001b[0;32m    785\u001b[0m             \u001b[1;31m# Encoding\u001b[0m\u001b[1;33m\u001b[0m\u001b[1;33m\u001b[0m\u001b[0m\n\u001b[1;32m--> 786\u001b[1;33m             handle = open(\n\u001b[0m\u001b[0;32m    787\u001b[0m                 \u001b[0mhandle\u001b[0m\u001b[1;33m,\u001b[0m\u001b[1;33m\u001b[0m\u001b[1;33m\u001b[0m\u001b[0m\n\u001b[0;32m    788\u001b[0m                 \u001b[0mioargs\u001b[0m\u001b[1;33m.\u001b[0m\u001b[0mmode\u001b[0m\u001b[1;33m,\u001b[0m\u001b[1;33m\u001b[0m\u001b[1;33m\u001b[0m\u001b[0m\n",
      "\u001b[1;31mFileNotFoundError\u001b[0m: [Errno 2] No such file or directory: 'orders.csv'"
     ]
    }
   ],
   "source": [
    "orders = pd.read_csv('orders.csv', parse_dates=['date'])\n",
    "visitors = pd.read_csv('visitors.csv',\n",
    "                       parse_dates=['date'])"
   ]
  },
  {
   "cell_type": "code",
   "execution_count": null,
   "metadata": {},
   "outputs": [],
   "source": [
    "visitors[:4]"
   ]
  },
  {
   "cell_type": "code",
   "execution_count": 3,
   "metadata": {},
   "outputs": [
    {
     "ename": "NameError",
     "evalue": "name 'orders' is not defined",
     "output_type": "error",
     "traceback": [
      "\u001b[1;31m---------------------------------------------------------------------------\u001b[0m",
      "\u001b[1;31mNameError\u001b[0m                                 Traceback (most recent call last)",
      "\u001b[1;32m~\\AppData\\Local\\Temp\\ipykernel_20440\\4108531167.py\u001b[0m in \u001b[0;36m<module>\u001b[1;34m\u001b[0m\n\u001b[1;32m----> 1\u001b[1;33m \u001b[0morders\u001b[0m\u001b[1;33m[\u001b[0m\u001b[1;33m:\u001b[0m\u001b[1;36m4\u001b[0m\u001b[1;33m]\u001b[0m\u001b[1;33m\u001b[0m\u001b[1;33m\u001b[0m\u001b[0m\n\u001b[0m",
      "\u001b[1;31mNameError\u001b[0m: name 'orders' is not defined"
     ]
    }
   ],
   "source": [
    "orders[:4]"
   ]
  },
  {
   "cell_type": "code",
   "execution_count": 4,
   "metadata": {},
   "outputs": [
    {
     "ename": "NameError",
     "evalue": "name 'orders' is not defined",
     "output_type": "error",
     "traceback": [
      "\u001b[1;31m---------------------------------------------------------------------------\u001b[0m",
      "\u001b[1;31mNameError\u001b[0m                                 Traceback (most recent call last)",
      "\u001b[1;32m~\\AppData\\Local\\Temp\\ipykernel_20440\\1891489513.py\u001b[0m in \u001b[0;36m<module>\u001b[1;34m\u001b[0m\n\u001b[1;32m----> 1\u001b[1;33m \u001b[0munique_A\u001b[0m \u001b[1;33m=\u001b[0m \u001b[0morders\u001b[0m\u001b[1;33m[\u001b[0m\u001b[0morders\u001b[0m\u001b[1;33m[\u001b[0m\u001b[1;34m'group'\u001b[0m\u001b[1;33m]\u001b[0m \u001b[1;33m==\u001b[0m \u001b[1;34m'A'\u001b[0m\u001b[1;33m]\u001b[0m\u001b[1;33m[\u001b[0m\u001b[1;34m'visitorId'\u001b[0m\u001b[1;33m]\u001b[0m\u001b[1;33m.\u001b[0m\u001b[0munique\u001b[0m\u001b[1;33m(\u001b[0m\u001b[1;33m)\u001b[0m\u001b[1;33m\u001b[0m\u001b[1;33m\u001b[0m\u001b[0m\n\u001b[0m\u001b[0;32m      2\u001b[0m \u001b[0munique_B\u001b[0m \u001b[1;33m=\u001b[0m \u001b[0morders\u001b[0m\u001b[1;33m[\u001b[0m\u001b[0morders\u001b[0m\u001b[1;33m[\u001b[0m\u001b[1;34m'group'\u001b[0m\u001b[1;33m]\u001b[0m \u001b[1;33m==\u001b[0m \u001b[1;34m'B'\u001b[0m\u001b[1;33m]\u001b[0m\u001b[1;33m[\u001b[0m\u001b[1;34m'visitorId'\u001b[0m\u001b[1;33m]\u001b[0m\u001b[1;33m.\u001b[0m\u001b[0munique\u001b[0m\u001b[1;33m(\u001b[0m\u001b[1;33m)\u001b[0m\u001b[1;33m\u001b[0m\u001b[1;33m\u001b[0m\u001b[0m\n\u001b[0;32m      3\u001b[0m \u001b[1;33m\u001b[0m\u001b[0m\n\u001b[0;32m      4\u001b[0m \u001b[1;31m# убираем пересечения\u001b[0m\u001b[1;33m\u001b[0m\u001b[1;33m\u001b[0m\u001b[0m\n\u001b[0;32m      5\u001b[0m \u001b[0morders\u001b[0m \u001b[1;33m=\u001b[0m \u001b[0morders\u001b[0m\u001b[1;33m[\u001b[0m\u001b[1;33m~\u001b[0m\u001b[0morders\u001b[0m\u001b[1;33m[\u001b[0m\u001b[1;34m'visitorId'\u001b[0m\u001b[1;33m]\u001b[0m\u001b[1;33m.\u001b[0m\u001b[0misin\u001b[0m\u001b[1;33m(\u001b[0m\u001b[0mnp\u001b[0m\u001b[1;33m.\u001b[0m\u001b[0mintersect1d\u001b[0m\u001b[1;33m(\u001b[0m\u001b[0munique_A\u001b[0m\u001b[1;33m,\u001b[0m \u001b[0munique_B\u001b[0m\u001b[1;33m)\u001b[0m\u001b[1;33m)\u001b[0m\u001b[1;33m]\u001b[0m\u001b[1;33m\u001b[0m\u001b[1;33m\u001b[0m\u001b[0m\n",
      "\u001b[1;31mNameError\u001b[0m: name 'orders' is not defined"
     ]
    }
   ],
   "source": [
    "unique_A = orders[orders['group'] == 'A']['visitorId'].unique()\n",
    "unique_B = orders[orders['group'] == 'B']['visitorId'].unique()\n",
    "\n",
    "# убираем пересечения\n",
    "orders = orders[~orders['visitorId'].isin(np.intersect1d(unique_A, unique_B))]"
   ]
  },
  {
   "cell_type": "code",
   "execution_count": 5,
   "metadata": {},
   "outputs": [
    {
     "ename": "NameError",
     "evalue": "name 'orders' is not defined",
     "output_type": "error",
     "traceback": [
      "\u001b[1;31m---------------------------------------------------------------------------\u001b[0m",
      "\u001b[1;31mNameError\u001b[0m                                 Traceback (most recent call last)",
      "\u001b[1;32m~\\AppData\\Local\\Temp\\ipykernel_20440\\4108531167.py\u001b[0m in \u001b[0;36m<module>\u001b[1;34m\u001b[0m\n\u001b[1;32m----> 1\u001b[1;33m \u001b[0morders\u001b[0m\u001b[1;33m[\u001b[0m\u001b[1;33m:\u001b[0m\u001b[1;36m4\u001b[0m\u001b[1;33m]\u001b[0m\u001b[1;33m\u001b[0m\u001b[1;33m\u001b[0m\u001b[0m\n\u001b[0m",
      "\u001b[1;31mNameError\u001b[0m: name 'orders' is not defined"
     ]
    }
   ],
   "source": [
    "orders[:4]"
   ]
  },
  {
   "cell_type": "code",
   "execution_count": 6,
   "metadata": {
    "scrolled": true
   },
   "outputs": [
    {
     "ename": "NameError",
     "evalue": "name 'orders' is not defined",
     "output_type": "error",
     "traceback": [
      "\u001b[1;31m---------------------------------------------------------------------------\u001b[0m",
      "\u001b[1;31mNameError\u001b[0m                                 Traceback (most recent call last)",
      "\u001b[1;32m~\\AppData\\Local\\Temp\\ipykernel_20440\\4213341953.py\u001b[0m in \u001b[0;36m<module>\u001b[1;34m\u001b[0m\n\u001b[1;32m----> 1\u001b[1;33m orders.groupby(['date', 'group']).agg({\n\u001b[0m\u001b[0;32m      2\u001b[0m     \u001b[1;34m'transactionId'\u001b[0m\u001b[1;33m:\u001b[0m \u001b[1;34m'nunique'\u001b[0m\u001b[1;33m,\u001b[0m\u001b[1;33m\u001b[0m\u001b[1;33m\u001b[0m\u001b[0m\n\u001b[0;32m      3\u001b[0m     \u001b[1;34m'visitorId'\u001b[0m\u001b[1;33m:\u001b[0m \u001b[1;34m'nunique'\u001b[0m\u001b[1;33m,\u001b[0m\u001b[1;33m\u001b[0m\u001b[1;33m\u001b[0m\u001b[0m\n\u001b[0;32m      4\u001b[0m     'revenue': 'sum'}\n\u001b[0;32m      5\u001b[0m ).reset_index()[:4]\n",
      "\u001b[1;31mNameError\u001b[0m: name 'orders' is not defined"
     ]
    }
   ],
   "source": [
    "orders.groupby(['date', 'group']).agg({\n",
    "    'transactionId': 'nunique',\n",
    "    'visitorId': 'nunique',\n",
    "    'revenue': 'sum'}\n",
    ").reset_index()[:4]"
   ]
  },
  {
   "cell_type": "code",
   "execution_count": 7,
   "metadata": {},
   "outputs": [
    {
     "ename": "NameError",
     "evalue": "name 'orders' is not defined",
     "output_type": "error",
     "traceback": [
      "\u001b[1;31m---------------------------------------------------------------------------\u001b[0m",
      "\u001b[1;31mNameError\u001b[0m                                 Traceback (most recent call last)",
      "\u001b[1;32m~\\AppData\\Local\\Temp\\ipykernel_20440\\598307473.py\u001b[0m in \u001b[0;36m<module>\u001b[1;34m\u001b[0m\n\u001b[1;32m----> 1\u001b[1;33m orders_group = orders.groupby(['date', 'group']).agg({\n\u001b[0m\u001b[0;32m      2\u001b[0m     \u001b[1;34m'transactionId'\u001b[0m\u001b[1;33m:\u001b[0m \u001b[1;34m'nunique'\u001b[0m\u001b[1;33m,\u001b[0m\u001b[1;33m\u001b[0m\u001b[1;33m\u001b[0m\u001b[0m\n\u001b[0;32m      3\u001b[0m     \u001b[1;34m'visitorId'\u001b[0m\u001b[1;33m:\u001b[0m \u001b[1;34m'nunique'\u001b[0m\u001b[1;33m,\u001b[0m\u001b[1;33m\u001b[0m\u001b[1;33m\u001b[0m\u001b[0m\n\u001b[0;32m      4\u001b[0m     'revenue': 'sum'}\n\u001b[0;32m      5\u001b[0m ).reset_index()\n",
      "\u001b[1;31mNameError\u001b[0m: name 'orders' is not defined"
     ]
    }
   ],
   "source": [
    "orders_group = orders.groupby(['date', 'group']).agg({\n",
    "    'transactionId': 'nunique',\n",
    "    'visitorId': 'nunique',\n",
    "    'revenue': 'sum'}\n",
    ").reset_index()\n",
    "\n",
    "orders_group.columns = ['date', 'group',\n",
    "                        'trans_count', 'buyers_count', 'revenue']"
   ]
  },
  {
   "cell_type": "code",
   "execution_count": 8,
   "metadata": {},
   "outputs": [
    {
     "ename": "NameError",
     "evalue": "name 'orders_group' is not defined",
     "output_type": "error",
     "traceback": [
      "\u001b[1;31m---------------------------------------------------------------------------\u001b[0m",
      "\u001b[1;31mNameError\u001b[0m                                 Traceback (most recent call last)",
      "\u001b[1;32m~\\AppData\\Local\\Temp\\ipykernel_20440\\729720324.py\u001b[0m in \u001b[0;36m<module>\u001b[1;34m\u001b[0m\n\u001b[1;32m----> 1\u001b[1;33m \u001b[0morders_group\u001b[0m\u001b[1;33m[\u001b[0m\u001b[1;33m:\u001b[0m\u001b[1;36m5\u001b[0m\u001b[1;33m]\u001b[0m\u001b[1;33m\u001b[0m\u001b[1;33m\u001b[0m\u001b[0m\n\u001b[0m",
      "\u001b[1;31mNameError\u001b[0m: name 'orders_group' is not defined"
     ]
    }
   ],
   "source": [
    "orders_group[:5]"
   ]
  },
  {
   "cell_type": "code",
   "execution_count": 9,
   "metadata": {},
   "outputs": [
    {
     "ename": "NameError",
     "evalue": "name 'orders_group' is not defined",
     "output_type": "error",
     "traceback": [
      "\u001b[1;31m---------------------------------------------------------------------------\u001b[0m",
      "\u001b[1;31mNameError\u001b[0m                                 Traceback (most recent call last)",
      "\u001b[1;32m~\\AppData\\Local\\Temp\\ipykernel_20440\\2618385301.py\u001b[0m in \u001b[0;36m<module>\u001b[1;34m\u001b[0m\n\u001b[1;32m----> 1\u001b[1;33m \u001b[0morders_group\u001b[0m \u001b[1;33m=\u001b[0m \u001b[0mpd\u001b[0m\u001b[1;33m.\u001b[0m\u001b[0mmerge\u001b[0m\u001b[1;33m(\u001b[0m\u001b[0morders_group\u001b[0m\u001b[1;33m,\u001b[0m \u001b[0mvisitors\u001b[0m\u001b[1;33m,\u001b[0m \u001b[0mon\u001b[0m\u001b[1;33m=\u001b[0m\u001b[1;33m[\u001b[0m\u001b[1;34m'date'\u001b[0m\u001b[1;33m,\u001b[0m \u001b[1;34m'group'\u001b[0m\u001b[1;33m]\u001b[0m\u001b[1;33m)\u001b[0m\u001b[1;33m\u001b[0m\u001b[1;33m\u001b[0m\u001b[0m\n\u001b[0m",
      "\u001b[1;31mNameError\u001b[0m: name 'orders_group' is not defined"
     ]
    }
   ],
   "source": [
    "orders_group = pd.merge(orders_group, visitors, on=['date', 'group'])"
   ]
  },
  {
   "cell_type": "code",
   "execution_count": 10,
   "metadata": {},
   "outputs": [
    {
     "ename": "NameError",
     "evalue": "name 'orders_group' is not defined",
     "output_type": "error",
     "traceback": [
      "\u001b[1;31m---------------------------------------------------------------------------\u001b[0m",
      "\u001b[1;31mNameError\u001b[0m                                 Traceback (most recent call last)",
      "\u001b[1;32m~\\AppData\\Local\\Temp\\ipykernel_20440\\729720324.py\u001b[0m in \u001b[0;36m<module>\u001b[1;34m\u001b[0m\n\u001b[1;32m----> 1\u001b[1;33m \u001b[0morders_group\u001b[0m\u001b[1;33m[\u001b[0m\u001b[1;33m:\u001b[0m\u001b[1;36m5\u001b[0m\u001b[1;33m]\u001b[0m\u001b[1;33m\u001b[0m\u001b[1;33m\u001b[0m\u001b[0m\n\u001b[0m",
      "\u001b[1;31mNameError\u001b[0m: name 'orders_group' is not defined"
     ]
    }
   ],
   "source": [
    "orders_group[:5]"
   ]
  },
  {
   "cell_type": "markdown",
   "metadata": {},
   "source": [
    "# Анализ конверсии"
   ]
  },
  {
   "cell_type": "code",
   "execution_count": 11,
   "metadata": {},
   "outputs": [
    {
     "ename": "NameError",
     "evalue": "name 'orders_group' is not defined",
     "output_type": "error",
     "traceback": [
      "\u001b[1;31m---------------------------------------------------------------------------\u001b[0m",
      "\u001b[1;31mNameError\u001b[0m                                 Traceback (most recent call last)",
      "\u001b[1;32m~\\AppData\\Local\\Temp\\ipykernel_20440\\2844587113.py\u001b[0m in \u001b[0;36m<module>\u001b[1;34m\u001b[0m\n\u001b[0;32m      1\u001b[0m orders_group[\n\u001b[1;32m----> 2\u001b[1;33m     'convers'] = orders_group['buyers_count'] / orders_group['visitors'] * 100\n\u001b[0m",
      "\u001b[1;31mNameError\u001b[0m: name 'orders_group' is not defined"
     ]
    }
   ],
   "source": [
    "orders_group[\n",
    "    'convers'] = orders_group['buyers_count'] / orders_group['visitors'] * 100"
   ]
  },
  {
   "cell_type": "code",
   "execution_count": 12,
   "metadata": {},
   "outputs": [
    {
     "ename": "NameError",
     "evalue": "name 'orders_group' is not defined",
     "output_type": "error",
     "traceback": [
      "\u001b[1;31m---------------------------------------------------------------------------\u001b[0m",
      "\u001b[1;31mNameError\u001b[0m                                 Traceback (most recent call last)",
      "\u001b[1;32m~\\AppData\\Local\\Temp\\ipykernel_20440\\1699383625.py\u001b[0m in \u001b[0;36m<module>\u001b[1;34m\u001b[0m\n\u001b[0;32m      1\u001b[0m \u001b[0mplt\u001b[0m\u001b[1;33m.\u001b[0m\u001b[0mfigure\u001b[0m\u001b[1;33m(\u001b[0m\u001b[0mfigsize\u001b[0m\u001b[1;33m=\u001b[0m\u001b[1;33m(\u001b[0m\u001b[1;36m12\u001b[0m\u001b[1;33m,\u001b[0m \u001b[1;36m5\u001b[0m\u001b[1;33m)\u001b[0m\u001b[1;33m)\u001b[0m\u001b[1;33m\u001b[0m\u001b[1;33m\u001b[0m\u001b[0m\n\u001b[0;32m      2\u001b[0m \u001b[1;33m\u001b[0m\u001b[0m\n\u001b[1;32m----> 3\u001b[1;33m plt.plot(orders_group[orders_group.group == 'A']['date'],\n\u001b[0m\u001b[0;32m      4\u001b[0m          \u001b[0morders_group\u001b[0m\u001b[1;33m[\u001b[0m\u001b[0morders_group\u001b[0m\u001b[1;33m.\u001b[0m\u001b[0mgroup\u001b[0m \u001b[1;33m==\u001b[0m \u001b[1;34m'A'\u001b[0m\u001b[1;33m]\u001b[0m\u001b[1;33m[\u001b[0m\u001b[1;34m'convers'\u001b[0m\u001b[1;33m]\u001b[0m\u001b[1;33m,\u001b[0m\u001b[1;33m\u001b[0m\u001b[1;33m\u001b[0m\u001b[0m\n\u001b[0;32m      5\u001b[0m          label='A group')\n",
      "\u001b[1;31mNameError\u001b[0m: name 'orders_group' is not defined"
     ]
    },
    {
     "data": {
      "text/plain": [
       "<Figure size 1200x500 with 0 Axes>"
      ]
     },
     "metadata": {},
     "output_type": "display_data"
    }
   ],
   "source": [
    "plt.figure(figsize=(12, 5))\n",
    "\n",
    "plt.plot(orders_group[orders_group.group == 'A']['date'],\n",
    "         orders_group[orders_group.group == 'A']['convers'],\n",
    "         label='A group')\n",
    "plt.plot(orders_group[orders_group.group == 'B']['date'],\n",
    "         orders_group[orders_group.group == 'B']['convers'],\n",
    "         label='B group')\n",
    "\n",
    "plt.xlabel('Дата')\n",
    "plt.ylabel('Конверсия')\n",
    "plt.grid()\n",
    "plt.legend()\n",
    "plt.show()"
   ]
  },
  {
   "cell_type": "code",
   "execution_count": 13,
   "metadata": {},
   "outputs": [
    {
     "ename": "NameError",
     "evalue": "name 'orders_group' is not defined",
     "output_type": "error",
     "traceback": [
      "\u001b[1;31m---------------------------------------------------------------------------\u001b[0m",
      "\u001b[1;31mNameError\u001b[0m                                 Traceback (most recent call last)",
      "\u001b[1;32m~\\AppData\\Local\\Temp\\ipykernel_20440\\3059278487.py\u001b[0m in \u001b[0;36m<module>\u001b[1;34m\u001b[0m\n\u001b[0;32m      1\u001b[0m \u001b[0mfig\u001b[0m\u001b[1;33m,\u001b[0m \u001b[0maxes\u001b[0m \u001b[1;33m=\u001b[0m \u001b[0mplt\u001b[0m\u001b[1;33m.\u001b[0m\u001b[0msubplots\u001b[0m\u001b[1;33m(\u001b[0m\u001b[0mncols\u001b[0m\u001b[1;33m=\u001b[0m\u001b[1;36m2\u001b[0m\u001b[1;33m,\u001b[0m \u001b[0mfigsize\u001b[0m\u001b[1;33m=\u001b[0m\u001b[1;33m(\u001b[0m\u001b[1;36m15\u001b[0m\u001b[1;33m,\u001b[0m \u001b[1;36m5\u001b[0m\u001b[1;33m)\u001b[0m\u001b[1;33m)\u001b[0m\u001b[1;33m\u001b[0m\u001b[1;33m\u001b[0m\u001b[0m\n\u001b[0;32m      2\u001b[0m \u001b[1;33m\u001b[0m\u001b[0m\n\u001b[1;32m----> 3\u001b[1;33m sns.histplot(orders_group.query(\"group == 'A'\")['convers'],\n\u001b[0m\u001b[0;32m      4\u001b[0m              \u001b[0mkde\u001b[0m\u001b[1;33m=\u001b[0m\u001b[1;32mTrue\u001b[0m\u001b[1;33m,\u001b[0m\u001b[1;33m\u001b[0m\u001b[1;33m\u001b[0m\u001b[0m\n\u001b[0;32m      5\u001b[0m              \u001b[0max\u001b[0m\u001b[1;33m=\u001b[0m\u001b[0maxes\u001b[0m\u001b[1;33m[\u001b[0m\u001b[1;36m0\u001b[0m\u001b[1;33m]\u001b[0m\u001b[1;33m,\u001b[0m\u001b[1;33m\u001b[0m\u001b[1;33m\u001b[0m\u001b[0m\n",
      "\u001b[1;31mNameError\u001b[0m: name 'orders_group' is not defined"
     ]
    },
    {
     "data": {
      "image/png": "[encoded data removed]",
      "text/plain": [
       "<Figure size 1500x500 with 2 Axes>"
      ]
     },
     "metadata": {},
     "output_type": "display_data"
    }
   ],
   "source": [
    "fig, axes = plt.subplots(ncols=2, figsize=(15, 5))\n",
    "\n",
    "sns.histplot(orders_group.query(\"group == 'A'\")['convers'],\n",
    "             kde=True,\n",
    "             ax=axes[0],\n",
    "             color='orange')\n",
    "sns.histplot(orders_group.query(\"group == 'B'\")['convers'],\n",
    "             kde=True,\n",
    "             ax=axes[1]);\n",
    "axes[0].set_title('Группа A')\n",
    "axes[1].set_title('Группа B')\n",
    "plt.show()"
   ]
  },
  {
   "cell_type": "code",
   "execution_count": 14,
   "metadata": {},
   "outputs": [
    {
     "ename": "NameError",
     "evalue": "name 'orders_group' is not defined",
     "output_type": "error",
     "traceback": [
      "\u001b[1;31m---------------------------------------------------------------------------\u001b[0m",
      "\u001b[1;31mNameError\u001b[0m                                 Traceback (most recent call last)",
      "\u001b[1;32m~\\AppData\\Local\\Temp\\ipykernel_20440\\1276462463.py\u001b[0m in \u001b[0;36m<module>\u001b[1;34m\u001b[0m\n\u001b[1;32m----> 1\u001b[1;33m \u001b[0morders_group\u001b[0m\u001b[1;33m.\u001b[0m\u001b[0mquery\u001b[0m\u001b[1;33m(\u001b[0m\u001b[1;34m\"group == 'A'\"\u001b[0m\u001b[1;33m)\u001b[0m\u001b[1;33m.\u001b[0m\u001b[0mshape\u001b[0m\u001b[1;33m\u001b[0m\u001b[1;33m\u001b[0m\u001b[0m\n\u001b[0m",
      "\u001b[1;31mNameError\u001b[0m: name 'orders_group' is not defined"
     ]
    }
   ],
   "source": [
    "orders_group.query(\"group == 'A'\").shape"
   ]
  },
  {
   "cell_type": "code",
   "execution_count": 15,
   "metadata": {},
   "outputs": [
    {
     "ename": "NameError",
     "evalue": "name 'orders_group' is not defined",
     "output_type": "error",
     "traceback": [
      "\u001b[1;31m---------------------------------------------------------------------------\u001b[0m",
      "\u001b[1;31mNameError\u001b[0m                                 Traceback (most recent call last)",
      "\u001b[1;32m~\\AppData\\Local\\Temp\\ipykernel_20440\\494197099.py\u001b[0m in \u001b[0;36m<module>\u001b[1;34m\u001b[0m\n\u001b[1;32m----> 1\u001b[1;33m \u001b[0morders_group\u001b[0m\u001b[1;33m.\u001b[0m\u001b[0mquery\u001b[0m\u001b[1;33m(\u001b[0m\u001b[1;34m\"group == 'B'\"\u001b[0m\u001b[1;33m)\u001b[0m\u001b[1;33m.\u001b[0m\u001b[0mshape\u001b[0m\u001b[1;33m\u001b[0m\u001b[1;33m\u001b[0m\u001b[0m\n\u001b[0m",
      "\u001b[1;31mNameError\u001b[0m: name 'orders_group' is not defined"
     ]
    }
   ],
   "source": [
    "orders_group.query(\"group == 'B'\").shape"
   ]
  },
  {
   "cell_type": "code",
   "execution_count": 16,
   "metadata": {},
   "outputs": [],
   "source": [
    "def generation_sample_means(data: pd.Series, sample_size: int,\n",
    "                            count_generate: int) -> list:\n",
    "    \"\"\"\n",
    "    Генерация средних при помощи ЦПТ\n",
    "    \"\"\"\n",
    "    sample_means = []\n",
    "\n",
    "    for i in range(count_generate):\n",
    "        # replace - параметр возвращения\n",
    "        sample = data.sample(sample_size, replace=True)\n",
    "        sample_means.append(sample.mean())\n",
    "\n",
    "    return sample_means"
   ]
  },
  {
   "cell_type": "markdown",
   "metadata": {},
   "source": [
    "## Проверка гипотез"
   ]
  },
  {
   "cell_type": "markdown",
   "metadata": {},
   "source": [
    "### Двухвыборочный критерий t-Стьюдента"
   ]
  },
  {
   "cell_type": "markdown",
   "metadata": {},
   "source": [
    "Двухвыборочный критерий t-Стьюдента используется для **сравнения двух выборок между собой**, аналогично, мы также должны сначала проверять на нормальность наши распределения, пример с проверкой будем уже проходить на практике. Есть критерий для зависимых и независимых выборок, мы рассмотрим независимые выборки.\n",
    "\n",
    "Для этого рассмотрим конверсию в группах при помощи t-критерия.\n",
    "\n",
    "#### Для несвязных выборок"
   ]
  },
  {
   "cell_type": "code",
   "execution_count": 17,
   "metadata": {},
   "outputs": [
    {
     "ename": "NameError",
     "evalue": "name 'orders_group' is not defined",
     "output_type": "error",
     "traceback": [
      "\u001b[1;31m---------------------------------------------------------------------------\u001b[0m",
      "\u001b[1;31mNameError\u001b[0m                                 Traceback (most recent call last)",
      "\u001b[1;32m~\\AppData\\Local\\Temp\\ipykernel_20440\\4084168061.py\u001b[0m in \u001b[0;36m<module>\u001b[1;34m\u001b[0m\n\u001b[1;32m----> 1\u001b[1;33m \u001b[0morders_group_a\u001b[0m \u001b[1;33m=\u001b[0m \u001b[0morders_group\u001b[0m\u001b[1;33m.\u001b[0m\u001b[0mquery\u001b[0m\u001b[1;33m(\u001b[0m\u001b[1;34m\"group == 'A'\"\u001b[0m\u001b[1;33m)\u001b[0m\u001b[1;33m\u001b[0m\u001b[1;33m\u001b[0m\u001b[0m\n\u001b[0m\u001b[0;32m      2\u001b[0m \u001b[0morders_group_b\u001b[0m \u001b[1;33m=\u001b[0m \u001b[0morders_group\u001b[0m\u001b[1;33m.\u001b[0m\u001b[0mquery\u001b[0m\u001b[1;33m(\u001b[0m\u001b[1;34m\"group == 'B'\"\u001b[0m\u001b[1;33m)\u001b[0m\u001b[1;33m\u001b[0m\u001b[1;33m\u001b[0m\u001b[0m\n\u001b[0;32m      3\u001b[0m \u001b[1;33m\u001b[0m\u001b[0m\n\u001b[0;32m      4\u001b[0m \u001b[0morders_group_a\u001b[0m\u001b[1;33m.\u001b[0m\u001b[0mshape\u001b[0m\u001b[1;33m\u001b[0m\u001b[1;33m\u001b[0m\u001b[0m\n",
      "\u001b[1;31mNameError\u001b[0m: name 'orders_group' is not defined"
     ]
    }
   ],
   "source": [
    "orders_group_a = orders_group.query(\"group == 'A'\")\n",
    "orders_group_b = orders_group.query(\"group == 'B'\")\n",
    "\n",
    "orders_group_a.shape"
   ]
  },
  {
   "cell_type": "code",
   "execution_count": 18,
   "metadata": {},
   "outputs": [
    {
     "ename": "NameError",
     "evalue": "name 'orders_group_a' is not defined",
     "output_type": "error",
     "traceback": [
      "\u001b[1;31m---------------------------------------------------------------------------\u001b[0m",
      "\u001b[1;31mNameError\u001b[0m                                 Traceback (most recent call last)",
      "\u001b[1;32m~\\AppData\\Local\\Temp\\ipykernel_20440\\2206944294.py\u001b[0m in \u001b[0;36m<module>\u001b[1;34m\u001b[0m\n\u001b[0;32m      2\u001b[0m \u001b[1;31m# сгенерирвоать норм выборку\u001b[0m\u001b[1;33m\u001b[0m\u001b[1;33m\u001b[0m\u001b[0m\n\u001b[0;32m      3\u001b[0m \u001b[1;33m\u001b[0m\u001b[0m\n\u001b[1;32m----> 4\u001b[1;33m sample_means = generation_sample_means(orders_group_a.convers,\n\u001b[0m\u001b[0;32m      5\u001b[0m                                        \u001b[0msample_size\u001b[0m\u001b[1;33m=\u001b[0m\u001b[0morders_group_a\u001b[0m\u001b[1;33m.\u001b[0m\u001b[0mshape\u001b[0m\u001b[1;33m[\u001b[0m\u001b[1;36m0\u001b[0m\u001b[1;33m]\u001b[0m\u001b[1;33m,\u001b[0m\u001b[1;33m\u001b[0m\u001b[1;33m\u001b[0m\u001b[0m\n\u001b[0;32m      6\u001b[0m                                        count_generate=100)\n",
      "\u001b[1;31mNameError\u001b[0m: name 'orders_group_a' is not defined"
     ]
    }
   ],
   "source": [
    "# Так как распределение в группе А ненормальное, попробуем\n",
    "# сгенерирвоать норм выборку\n",
    "\n",
    "sample_means = generation_sample_means(orders_group_a.convers,\n",
    "                                       sample_size=orders_group_a.shape[0],\n",
    "                                       count_generate=100)\n",
    "\n",
    "if stats.shapiro(sample_means).pvalue >= 0.05:\n",
    "    print('Распределение нормальное')\n",
    "else:\n",
    "    print('Распределение не нормальное\\n')\n",
    "\n",
    "print(stats.shapiro(sample_means))"
   ]
  },
  {
   "cell_type": "code",
   "execution_count": 19,
   "metadata": {},
   "outputs": [
    {
     "ename": "NameError",
     "evalue": "name 'sample_means' is not defined",
     "output_type": "error",
     "traceback": [
      "\u001b[1;31m---------------------------------------------------------------------------\u001b[0m",
      "\u001b[1;31mNameError\u001b[0m                                 Traceback (most recent call last)",
      "\u001b[1;32m~\\AppData\\Local\\Temp\\ipykernel_20440\\4049910055.py\u001b[0m in \u001b[0;36m<module>\u001b[1;34m\u001b[0m\n\u001b[1;32m----> 1\u001b[1;33m \u001b[0msns\u001b[0m\u001b[1;33m.\u001b[0m\u001b[0mhistplot\u001b[0m\u001b[1;33m(\u001b[0m\u001b[0msample_means\u001b[0m\u001b[1;33m,\u001b[0m \u001b[0mkde\u001b[0m\u001b[1;33m=\u001b[0m\u001b[1;32mTrue\u001b[0m\u001b[1;33m,\u001b[0m \u001b[0mcolor\u001b[0m\u001b[1;33m=\u001b[0m\u001b[1;34m'orange'\u001b[0m\u001b[1;33m)\u001b[0m\u001b[1;33m;\u001b[0m\u001b[1;33m\u001b[0m\u001b[1;33m\u001b[0m\u001b[0m\n\u001b[0m",
      "\u001b[1;31mNameError\u001b[0m: name 'sample_means' is not defined"
     ]
    }
   ],
   "source": [
    "sns.histplot(sample_means, kde=True, color='orange');"
   ]
  },
  {
   "cell_type": "code",
   "execution_count": 20,
   "metadata": {},
   "outputs": [
    {
     "ename": "NameError",
     "evalue": "name 'sample_means' is not defined",
     "output_type": "error",
     "traceback": [
      "\u001b[1;31m---------------------------------------------------------------------------\u001b[0m",
      "\u001b[1;31mNameError\u001b[0m                                 Traceback (most recent call last)",
      "\u001b[1;32m~\\AppData\\Local\\Temp\\ipykernel_20440\\3912942140.py\u001b[0m in \u001b[0;36m<module>\u001b[1;34m\u001b[0m\n\u001b[1;32m----> 1\u001b[1;33m \u001b[0mprint\u001b[0m\u001b[1;33m(\u001b[0m\u001b[1;34mf\"Тест Шапиро-Уилка для A: {stats.shapiro(sample_means).pvalue}\"\u001b[0m\u001b[1;33m)\u001b[0m\u001b[1;33m\u001b[0m\u001b[1;33m\u001b[0m\u001b[0m\n\u001b[0m\u001b[0;32m      2\u001b[0m print(\n\u001b[0;32m      3\u001b[0m     \u001b[1;34mf\"Тест Шапиро-Уилка для B: {stats.shapiro(orders_group_b.convers).pvalue}\\n\"\u001b[0m\u001b[1;33m\u001b[0m\u001b[1;33m\u001b[0m\u001b[0m\n\u001b[0;32m      4\u001b[0m )\n\u001b[0;32m      5\u001b[0m \u001b[1;33m\u001b[0m\u001b[0m\n",
      "\u001b[1;31mNameError\u001b[0m: name 'sample_means' is not defined"
     ]
    }
   ],
   "source": [
    "print(f\"Тест Шапиро-Уилка для A: {stats.shapiro(sample_means).pvalue}\")\n",
    "print(\n",
    "    f\"Тест Шапиро-Уилка для B: {stats.shapiro(orders_group_b.convers).pvalue}\\n\"\n",
    ")\n",
    "\n",
    "print(f\"mean A = {np.mean(sample_means)}\")\n",
    "print(f\"mean B = {np.mean(orders_group_b.convers)}\\n\")"
   ]
  },
  {
   "cell_type": "code",
   "execution_count": 21,
   "metadata": {},
   "outputs": [
    {
     "ename": "NameError",
     "evalue": "name 'orders_group_a' is not defined",
     "output_type": "error",
     "traceback": [
      "\u001b[1;31m---------------------------------------------------------------------------\u001b[0m",
      "\u001b[1;31mNameError\u001b[0m                                 Traceback (most recent call last)",
      "\u001b[1;32m~\\AppData\\Local\\Temp\\ipykernel_20440\\4226753550.py\u001b[0m in \u001b[0;36m<module>\u001b[1;34m\u001b[0m\n\u001b[1;32m----> 1\u001b[1;33m \u001b[0mnp\u001b[0m\u001b[1;33m.\u001b[0m\u001b[0mmean\u001b[0m\u001b[1;33m(\u001b[0m\u001b[0morders_group_a\u001b[0m\u001b[1;33m.\u001b[0m\u001b[0mconvers\u001b[0m\u001b[1;33m)\u001b[0m\u001b[1;33m\u001b[0m\u001b[1;33m\u001b[0m\u001b[0m\n\u001b[0m",
      "\u001b[1;31mNameError\u001b[0m: name 'orders_group_a' is not defined"
     ]
    }
   ],
   "source": [
    "np.mean(orders_group_a.convers)"
   ]
  },
  {
   "cell_type": "code",
   "execution_count": 22,
   "metadata": {},
   "outputs": [
    {
     "ename": "NameError",
     "evalue": "name 'sample_means' is not defined",
     "output_type": "error",
     "traceback": [
      "\u001b[1;31m---------------------------------------------------------------------------\u001b[0m",
      "\u001b[1;31mNameError\u001b[0m                                 Traceback (most recent call last)",
      "\u001b[1;32m~\\AppData\\Local\\Temp\\ipykernel_20440\\2089441010.py\u001b[0m in \u001b[0;36m<module>\u001b[1;34m\u001b[0m\n\u001b[0;32m      1\u001b[0m \u001b[1;31m# equal_var - нет информации о том, что дисперсия одинакова\u001b[0m\u001b[1;33m\u001b[0m\u001b[1;33m\u001b[0m\u001b[0m\n\u001b[0;32m      2\u001b[0m \u001b[1;31m# alternative='two-sided' - по умолчанию\u001b[0m\u001b[1;33m\u001b[0m\u001b[1;33m\u001b[0m\u001b[0m\n\u001b[1;32m----> 3\u001b[1;33m if stats.ttest_ind(sample_means, orders_group_b.convers,\n\u001b[0m\u001b[0;32m      4\u001b[0m                    equal_var=False).pvalue >= 0.05:\n\u001b[0;32m      5\u001b[0m     \u001b[0mprint\u001b[0m\u001b[1;33m(\u001b[0m\u001b[1;34m\"Средние двух выборок схожи\"\u001b[0m\u001b[1;33m)\u001b[0m\u001b[1;33m\u001b[0m\u001b[1;33m\u001b[0m\u001b[0m\n",
      "\u001b[1;31mNameError\u001b[0m: name 'sample_means' is not defined"
     ]
    }
   ],
   "source": [
    "# equal_var - нет информации о том, что дисперсия одинакова\n",
    "# alternative='two-sided' - по умолчанию\n",
    "if stats.ttest_ind(sample_means, orders_group_b.convers,\n",
    "                   equal_var=False).pvalue >= 0.05:\n",
    "    print(\"Средние двух выборок схожи\")\n",
    "else:\n",
    "    print(\"Средние двух выборок различны\")"
   ]
  },
  {
   "cell_type": "code",
   "execution_count": 23,
   "metadata": {},
   "outputs": [
    {
     "ename": "NameError",
     "evalue": "name 'sample_means' is not defined",
     "output_type": "error",
     "traceback": [
      "\u001b[1;31m---------------------------------------------------------------------------\u001b[0m",
      "\u001b[1;31mNameError\u001b[0m                                 Traceback (most recent call last)",
      "\u001b[1;32m~\\AppData\\Local\\Temp\\ipykernel_20440\\3996972227.py\u001b[0m in \u001b[0;36m<module>\u001b[1;34m\u001b[0m\n\u001b[1;32m----> 1\u001b[1;33m stats.ttest_ind(sample_means, orders_group_b.convers,\n\u001b[0m\u001b[0;32m      2\u001b[0m                    equal_var=False).pvalue\n",
      "\u001b[1;31mNameError\u001b[0m: name 'sample_means' is not defined"
     ]
    }
   ],
   "source": [
    "stats.ttest_ind(sample_means, orders_group_b.convers,\n",
    "                   equal_var=False).pvalue"
   ]
  },
  {
   "cell_type": "code",
   "execution_count": 24,
   "metadata": {},
   "outputs": [
    {
     "ename": "NameError",
     "evalue": "name 'sample_means' is not defined",
     "output_type": "error",
     "traceback": [
      "\u001b[1;31m---------------------------------------------------------------------------\u001b[0m",
      "\u001b[1;31mNameError\u001b[0m                                 Traceback (most recent call last)",
      "\u001b[1;32m~\\AppData\\Local\\Temp\\ipykernel_20440\\2049084315.py\u001b[0m in \u001b[0;36m<module>\u001b[1;34m\u001b[0m\n\u001b[1;32m----> 1\u001b[1;33m \u001b[0mlen\u001b[0m\u001b[1;33m(\u001b[0m\u001b[0msample_means\u001b[0m\u001b[1;33m)\u001b[0m\u001b[1;33m\u001b[0m\u001b[1;33m\u001b[0m\u001b[0m\n\u001b[0m",
      "\u001b[1;31mNameError\u001b[0m: name 'sample_means' is not defined"
     ]
    }
   ],
   "source": [
    "len(sample_means)"
   ]
  },
  {
   "cell_type": "markdown",
   "metadata": {},
   "source": [
    "#### Для связных выборок"
   ]
  },
  {
   "cell_type": "code",
   "execution_count": 25,
   "metadata": {},
   "outputs": [
    {
     "ename": "NameError",
     "evalue": "name 'orders_group_b' is not defined",
     "output_type": "error",
     "traceback": [
      "\u001b[1;31m---------------------------------------------------------------------------\u001b[0m",
      "\u001b[1;31mNameError\u001b[0m                                 Traceback (most recent call last)",
      "\u001b[1;32m~\\AppData\\Local\\Temp\\ipykernel_20440\\1966609407.py\u001b[0m in \u001b[0;36m<module>\u001b[1;34m\u001b[0m\n\u001b[1;32m----> 1\u001b[1;33m \u001b[0morders_group_b\u001b[0m\u001b[1;33m.\u001b[0m\u001b[0mshape\u001b[0m\u001b[1;33m\u001b[0m\u001b[1;33m\u001b[0m\u001b[0m\n\u001b[0m",
      "\u001b[1;31mNameError\u001b[0m: name 'orders_group_b' is not defined"
     ]
    }
   ],
   "source": [
    "orders_group_b.shape"
   ]
  },
  {
   "cell_type": "code",
   "execution_count": 26,
   "metadata": {},
   "outputs": [
    {
     "data": {
      "text/plain": [
       "(31, 7)"
      ]
     },
     "execution_count": 26,
     "metadata": {},
     "output_type": "execute_result"
    }
   ],
   "source": [
    "orders_group_a.shape"
   ]
  },
  {
   "cell_type": "code",
   "execution_count": 28,
   "metadata": {},
   "outputs": [
    {
     "name": "stdout",
     "output_type": "stream",
     "text": [
      "Распределение нормальное\n",
      "ShapiroResult(statistic=0.9558926820755005, pvalue=0.22639721632003784)\n"
     ]
    }
   ],
   "source": [
    "# Так как распределение в группе А ненормальное, попробуем сгенерирвоать норм выборку\n",
    "# мы должны взять две выборки одинакового размера\n",
    "sample_size = len(orders_group_b)\n",
    "\n",
    "sample_means = generation_sample_means(orders_group_a.convers,\n",
    "                                       sample_size=orders_group_a.shape[0],\n",
    "                                       count_generate=orders_group_b.shape[0])\n",
    "\n",
    "if stats.shapiro(sample_means).pvalue >= 0.05:\n",
    "    print('Распределение нормальное')\n",
    "else:\n",
    "    print('Распределение не нормальное\\n')\n",
    "\n",
    "print(stats.shapiro(sample_means))"
   ]
  },
  {
   "cell_type": "code",
   "execution_count": 29,
   "metadata": {},
   "outputs": [
    {
     "name": "stdout",
     "output_type": "stream",
     "text": [
      "Тест Шапиро-Уилка для A: 0.22639721632003784\n",
      "Тест Шапиро-Уилка для B: 0.476170152425766\n",
      "\n",
      "mean A = 2.7272429394294213\n",
      "mean B = 3.3023424949185674\n",
      "\n"
     ]
    }
   ],
   "source": [
    "print(f\"Тест Шапиро-Уилка для A: {stats.shapiro(sample_means).pvalue}\")\n",
    "print(\n",
    "    f\"Тест Шапиро-Уилка для B: {stats.shapiro(orders_group_b.convers).pvalue}\\n\"\n",
    ")\n",
    "\n",
    "print(f\"mean A = {np.mean(sample_means)}\")\n",
    "print(f\"mean B = {np.mean(orders_group_b.convers)}\\n\")"
   ]
  },
  {
   "cell_type": "code",
   "execution_count": 30,
   "metadata": {},
   "outputs": [
    {
     "name": "stdout",
     "output_type": "stream",
     "text": [
      "Средние двух выборок различны\n"
     ]
    }
   ],
   "source": [
    "# размеры должны совпадать!!!\n",
    "# alternative='two-sided' - по умолчанию\n",
    "if stats.ttest_rel(sample_means, orders_group_b.convers).pvalue >= 0.05:\n",
    "    print(\"Средние двух выборок схожи\")\n",
    "else:\n",
    "    print(\"Средние двух выборок различны\")"
   ]
  },
  {
   "cell_type": "markdown",
   "metadata": {},
   "source": [
    "### Непараметрические критерии. Критерии Манна-Уитни"
   ]
  },
  {
   "cell_type": "markdown",
   "metadata": {},
   "source": [
    "- Непараметрические методы наиболее приемлемы, когда **объем выборок мал**. Если данных много (например, n > 100), то не имеет смысла использовать непараметрические статистики. \n",
    "- Дело в том, что когда выборки становятся очень большими, то выборочные средние подчиняются нормальному закону, даже если исходная переменная не является нормальной или измерена с погрешностью. \n",
    "- Непараметрические тесты имеют меньшую статистическую мощность (менее чувствительны), чем их параметрические конкуренты, и если важно обнаружить даже слабые отклонения, следует особенно внимательно выбирать статистику критерия. \n",
    "\n",
    "Для независимых выборок"
   ]
  },
  {
   "cell_type": "code",
   "execution_count": 32,
   "metadata": {},
   "outputs": [
    {
     "data": {
      "text/plain": [
       "MannwhitneyuResult(statistic=6.5, pvalue=0.5555555555555556)"
      ]
     },
     "execution_count": 32,
     "metadata": {},
     "output_type": "execute_result"
    }
   ],
   "source": [
    "n1 = [1, 3, 4, 2]\n",
    "n2 = [2, 2, 5, 3,6]\n",
    "\n",
    "# alternative='two-sided' - по умолчанию\n",
    "stats.mannwhitneyu(n1, n2, method='exact', alternative='two-sided')"
   ]
  },
  {
   "cell_type": "code",
   "execution_count": 34,
   "metadata": {},
   "outputs": [
    {
     "name": "stdout",
     "output_type": "stream",
     "text": [
      "Mean A = 2.7511948901461585\n",
      "Mean B = 3.3023424949185674\n",
      "\n",
      "Средние двух выборок различны\n",
      "0.03283643244953482\n"
     ]
    }
   ],
   "source": [
    "# Мы тут уже не генерируем НОРМ распределение, оно нам не важно!!\n",
    "print(f'Mean A = {orders_group_a.convers.mean()}')\n",
    "print(f'Mean B = {orders_group_b.convers.mean()}\\n')\n",
    "\n",
    "p_val_mu = stats.mannwhitneyu(orders_group_a.convers,\n",
    "                              orders_group_b.convers,\n",
    "                              method='exact').pvalue\n",
    "if p_val_mu >= 0.05:\n",
    "    print(\"Средние двух выборок схожи\")\n",
    "else:\n",
    "    print(\"Средние двух выборок различны\")\n",
    "\n",
    "print(p_val_mu)"
   ]
  },
  {
   "cell_type": "code",
   "execution_count": 37,
   "metadata": {},
   "outputs": [
    {
     "data": {
      "image/png": "[encoded data removed]",
      "text/plain": [
       "<Figure size 432x288 with 1 Axes>"
      ]
     },
     "metadata": {
      "needs_background": "light"
     },
     "output_type": "display_data"
    }
   ],
   "source": [
    "sns.kdeplot(data=orders_group, x='convers', hue='group', fill=True)\n",
    "\n",
    "min_ylim, max_ylim = plt.ylim()\n",
    "\n",
    "sa = orders_group[orders_group.group == 'A'].convers.mean()\n",
    "sb = orders_group[orders_group.group == 'B'].convers.mean()\n",
    "\n",
    "\n",
    "plt.axvline(sa, color='b', linestyle='dashed', linewidth=1)\n",
    "plt.text(sa-3, max_ylim*0.8,\n",
    "         f'Mean A: {round(sa,2)}', fontdict={'fontsize': 16})\n",
    "\n",
    "plt.axvline(sb, color='r', linestyle='dashed', linewidth=1)\n",
    "plt.text(sb*1.13, max_ylim*0.9,\n",
    "         f'Mean B: {round(sb,2)}', fontdict={'fontsize': 16});"
   ]
  },
  {
   "cell_type": "markdown",
   "metadata": {},
   "source": [
    "Попробуем посмотреть, когда средние равны"
   ]
  },
  {
   "cell_type": "code",
   "execution_count": 38,
   "metadata": {},
   "outputs": [],
   "source": [
    "test_b_1 = orders_group[orders_group.group == 'B'].sample(15, random_state=10)\n",
    "test_b_2 = orders_group[orders_group.group == 'B'].sample(15, random_state=42)"
   ]
  },
  {
   "cell_type": "code",
   "execution_count": 39,
   "metadata": {
    "scrolled": true
   },
   "outputs": [
    {
     "data": {
      "text/html": [
       "<div>\n",
       "<style scoped>\n",
       "    .dataframe tbody tr th:only-of-type {\n",
       "        vertical-align: middle;\n",
       "    }\n",
       "\n",
       "    .dataframe tbody tr th {\n",
       "        vertical-align: top;\n",
       "    }\n",
       "\n",
       "    .dataframe thead th {\n",
       "        text-align: right;\n",
       "    }\n",
       "</style>\n",
       "<table border=\"1\" class=\"dataframe\">\n",
       "  <thead>\n",
       "    <tr style=\"text-align: right;\">\n",
       "      <th></th>\n",
       "      <th>date</th>\n",
       "      <th>group</th>\n",
       "      <th>trans_count</th>\n",
       "      <th>buyers_count</th>\n",
       "      <th>revenue</th>\n",
       "      <th>visitors</th>\n",
       "      <th>convers</th>\n",
       "    </tr>\n",
       "  </thead>\n",
       "  <tbody>\n",
       "    <tr>\n",
       "      <th>41</th>\n",
       "      <td>2021-03-21</td>\n",
       "      <td>B</td>\n",
       "      <td>12</td>\n",
       "      <td>12</td>\n",
       "      <td>139825</td>\n",
       "      <td>638</td>\n",
       "      <td>1.880878</td>\n",
       "    </tr>\n",
       "    <tr>\n",
       "      <th>15</th>\n",
       "      <td>2021-03-08</td>\n",
       "      <td>B</td>\n",
       "      <td>22</td>\n",
       "      <td>22</td>\n",
       "      <td>148910</td>\n",
       "      <td>628</td>\n",
       "      <td>3.503185</td>\n",
       "    </tr>\n",
       "    <tr>\n",
       "      <th>11</th>\n",
       "      <td>2021-03-06</td>\n",
       "      <td>B</td>\n",
       "      <td>23</td>\n",
       "      <td>22</td>\n",
       "      <td>213999</td>\n",
       "      <td>576</td>\n",
       "      <td>3.819444</td>\n",
       "    </tr>\n",
       "    <tr>\n",
       "      <th>5</th>\n",
       "      <td>2021-03-03</td>\n",
       "      <td>B</td>\n",
       "      <td>14</td>\n",
       "      <td>14</td>\n",
       "      <td>66386</td>\n",
       "      <td>419</td>\n",
       "      <td>3.341289</td>\n",
       "    </tr>\n",
       "    <tr>\n",
       "      <th>7</th>\n",
       "      <td>2021-03-04</td>\n",
       "      <td>B</td>\n",
       "      <td>14</td>\n",
       "      <td>13</td>\n",
       "      <td>96158</td>\n",
       "      <td>776</td>\n",
       "      <td>1.675258</td>\n",
       "    </tr>\n",
       "    <tr>\n",
       "      <th>43</th>\n",
       "      <td>2021-03-22</td>\n",
       "      <td>B</td>\n",
       "      <td>21</td>\n",
       "      <td>21</td>\n",
       "      <td>140725</td>\n",
       "      <td>562</td>\n",
       "      <td>3.736655</td>\n",
       "    </tr>\n",
       "    <tr>\n",
       "      <th>27</th>\n",
       "      <td>2021-03-14</td>\n",
       "      <td>B</td>\n",
       "      <td>14</td>\n",
       "      <td>14</td>\n",
       "      <td>106749</td>\n",
       "      <td>687</td>\n",
       "      <td>2.037846</td>\n",
       "    </tr>\n",
       "    <tr>\n",
       "      <th>55</th>\n",
       "      <td>2021-03-28</td>\n",
       "      <td>B</td>\n",
       "      <td>22</td>\n",
       "      <td>22</td>\n",
       "      <td>60443</td>\n",
       "      <td>646</td>\n",
       "      <td>3.405573</td>\n",
       "    </tr>\n",
       "    <tr>\n",
       "      <th>25</th>\n",
       "      <td>2021-03-13</td>\n",
       "      <td>B</td>\n",
       "      <td>20</td>\n",
       "      <td>20</td>\n",
       "      <td>116877</td>\n",
       "      <td>701</td>\n",
       "      <td>2.853067</td>\n",
       "    </tr>\n",
       "    <tr>\n",
       "      <th>3</th>\n",
       "      <td>2021-03-02</td>\n",
       "      <td>B</td>\n",
       "      <td>23</td>\n",
       "      <td>22</td>\n",
       "      <td>161192</td>\n",
       "      <td>560</td>\n",
       "      <td>3.928571</td>\n",
       "    </tr>\n",
       "    <tr>\n",
       "      <th>39</th>\n",
       "      <td>2021-03-20</td>\n",
       "      <td>B</td>\n",
       "      <td>20</td>\n",
       "      <td>20</td>\n",
       "      <td>146660</td>\n",
       "      <td>512</td>\n",
       "      <td>3.906250</td>\n",
       "    </tr>\n",
       "    <tr>\n",
       "      <th>29</th>\n",
       "      <td>2021-03-15</td>\n",
       "      <td>B</td>\n",
       "      <td>26</td>\n",
       "      <td>26</td>\n",
       "      <td>309021</td>\n",
       "      <td>545</td>\n",
       "      <td>4.770642</td>\n",
       "    </tr>\n",
       "    <tr>\n",
       "      <th>37</th>\n",
       "      <td>2021-03-19</td>\n",
       "      <td>B</td>\n",
       "      <td>21</td>\n",
       "      <td>20</td>\n",
       "      <td>1429099</td>\n",
       "      <td>410</td>\n",
       "      <td>4.878049</td>\n",
       "    </tr>\n",
       "    <tr>\n",
       "      <th>13</th>\n",
       "      <td>2021-03-07</td>\n",
       "      <td>B</td>\n",
       "      <td>23</td>\n",
       "      <td>23</td>\n",
       "      <td>218240</td>\n",
       "      <td>632</td>\n",
       "      <td>3.639241</td>\n",
       "    </tr>\n",
       "    <tr>\n",
       "      <th>23</th>\n",
       "      <td>2021-03-12</td>\n",
       "      <td>B</td>\n",
       "      <td>19</td>\n",
       "      <td>19</td>\n",
       "      <td>103297</td>\n",
       "      <td>492</td>\n",
       "      <td>3.861789</td>\n",
       "    </tr>\n",
       "  </tbody>\n",
       "</table>\n",
       "</div>"
      ],
      "text/plain": [
       "         date group  trans_count  buyers_count  revenue  visitors   convers\n",
       "41 2021-03-21     B           12            12   139825       638  1.880878\n",
       "15 2021-03-08     B           22            22   148910       628  3.503185\n",
       "11 2021-03-06     B           23            22   213999       576  3.819444\n",
       "5  2021-03-03     B           14            14    66386       419  3.341289\n",
       "7  2021-03-04     B           14            13    96158       776  1.675258\n",
       "43 2021-03-22     B           21            21   140725       562  3.736655\n",
       "27 2021-03-14     B           14            14   106749       687  2.037846\n",
       "55 2021-03-28     B           22            22    60443       646  3.405573\n",
       "25 2021-03-13     B           20            20   116877       701  2.853067\n",
       "3  2021-03-02     B           23            22   161192       560  3.928571\n",
       "39 2021-03-20     B           20            20   146660       512  3.906250\n",
       "29 2021-03-15     B           26            26   309021       545  4.770642\n",
       "37 2021-03-19     B           21            20  1429099       410  4.878049\n",
       "13 2021-03-07     B           23            23   218240       632  3.639241\n",
       "23 2021-03-12     B           19            19   103297       492  3.861789"
      ]
     },
     "execution_count": 39,
     "metadata": {},
     "output_type": "execute_result"
    }
   ],
   "source": [
    "test_b_1"
   ]
  },
  {
   "cell_type": "code",
   "execution_count": 40,
   "metadata": {
    "scrolled": true
   },
   "outputs": [
    {
     "data": {
      "text/html": [
       "<div>\n",
       "<style scoped>\n",
       "    .dataframe tbody tr th:only-of-type {\n",
       "        vertical-align: middle;\n",
       "    }\n",
       "\n",
       "    .dataframe tbody tr th {\n",
       "        vertical-align: top;\n",
       "    }\n",
       "\n",
       "    .dataframe thead th {\n",
       "        text-align: right;\n",
       "    }\n",
       "</style>\n",
       "<table border=\"1\" class=\"dataframe\">\n",
       "  <thead>\n",
       "    <tr style=\"text-align: right;\">\n",
       "      <th></th>\n",
       "      <th>date</th>\n",
       "      <th>group</th>\n",
       "      <th>trans_count</th>\n",
       "      <th>buyers_count</th>\n",
       "      <th>revenue</th>\n",
       "      <th>visitors</th>\n",
       "      <th>convers</th>\n",
       "    </tr>\n",
       "  </thead>\n",
       "  <tbody>\n",
       "    <tr>\n",
       "      <th>55</th>\n",
       "      <td>2021-03-28</td>\n",
       "      <td>B</td>\n",
       "      <td>22</td>\n",
       "      <td>22</td>\n",
       "      <td>60443</td>\n",
       "      <td>646</td>\n",
       "      <td>3.405573</td>\n",
       "    </tr>\n",
       "    <tr>\n",
       "      <th>31</th>\n",
       "      <td>2021-03-16</td>\n",
       "      <td>B</td>\n",
       "      <td>18</td>\n",
       "      <td>18</td>\n",
       "      <td>113488</td>\n",
       "      <td>359</td>\n",
       "      <td>5.013928</td>\n",
       "    </tr>\n",
       "    <tr>\n",
       "      <th>47</th>\n",
       "      <td>2021-03-24</td>\n",
       "      <td>B</td>\n",
       "      <td>14</td>\n",
       "      <td>14</td>\n",
       "      <td>87288</td>\n",
       "      <td>376</td>\n",
       "      <td>3.723404</td>\n",
       "    </tr>\n",
       "    <tr>\n",
       "      <th>35</th>\n",
       "      <td>2021-03-18</td>\n",
       "      <td>B</td>\n",
       "      <td>7</td>\n",
       "      <td>7</td>\n",
       "      <td>35016</td>\n",
       "      <td>666</td>\n",
       "      <td>1.051051</td>\n",
       "    </tr>\n",
       "    <tr>\n",
       "      <th>17</th>\n",
       "      <td>2021-03-09</td>\n",
       "      <td>B</td>\n",
       "      <td>19</td>\n",
       "      <td>19</td>\n",
       "      <td>102769</td>\n",
       "      <td>539</td>\n",
       "      <td>3.525046</td>\n",
       "    </tr>\n",
       "    <tr>\n",
       "      <th>19</th>\n",
       "      <td>2021-03-10</td>\n",
       "      <td>B</td>\n",
       "      <td>22</td>\n",
       "      <td>22</td>\n",
       "      <td>104300</td>\n",
       "      <td>360</td>\n",
       "      <td>6.111111</td>\n",
       "    </tr>\n",
       "    <tr>\n",
       "      <th>59</th>\n",
       "      <td>2021-03-30</td>\n",
       "      <td>B</td>\n",
       "      <td>21</td>\n",
       "      <td>21</td>\n",
       "      <td>208365</td>\n",
       "      <td>412</td>\n",
       "      <td>5.097087</td>\n",
       "    </tr>\n",
       "    <tr>\n",
       "      <th>49</th>\n",
       "      <td>2021-03-25</td>\n",
       "      <td>B</td>\n",
       "      <td>12</td>\n",
       "      <td>12</td>\n",
       "      <td>78719</td>\n",
       "      <td>625</td>\n",
       "      <td>1.920000</td>\n",
       "    </tr>\n",
       "    <tr>\n",
       "      <th>25</th>\n",
       "      <td>2021-03-13</td>\n",
       "      <td>B</td>\n",
       "      <td>20</td>\n",
       "      <td>20</td>\n",
       "      <td>116877</td>\n",
       "      <td>701</td>\n",
       "      <td>2.853067</td>\n",
       "    </tr>\n",
       "    <tr>\n",
       "      <th>1</th>\n",
       "      <td>2021-03-01</td>\n",
       "      <td>B</td>\n",
       "      <td>17</td>\n",
       "      <td>17</td>\n",
       "      <td>59242</td>\n",
       "      <td>631</td>\n",
       "      <td>2.694136</td>\n",
       "    </tr>\n",
       "    <tr>\n",
       "      <th>9</th>\n",
       "      <td>2021-03-05</td>\n",
       "      <td>B</td>\n",
       "      <td>21</td>\n",
       "      <td>21</td>\n",
       "      <td>88969</td>\n",
       "      <td>609</td>\n",
       "      <td>3.448276</td>\n",
       "    </tr>\n",
       "    <tr>\n",
       "      <th>33</th>\n",
       "      <td>2021-03-17</td>\n",
       "      <td>B</td>\n",
       "      <td>13</td>\n",
       "      <td>13</td>\n",
       "      <td>80183</td>\n",
       "      <td>395</td>\n",
       "      <td>3.291139</td>\n",
       "    </tr>\n",
       "    <tr>\n",
       "      <th>11</th>\n",
       "      <td>2021-03-06</td>\n",
       "      <td>B</td>\n",
       "      <td>23</td>\n",
       "      <td>22</td>\n",
       "      <td>213999</td>\n",
       "      <td>576</td>\n",
       "      <td>3.819444</td>\n",
       "    </tr>\n",
       "    <tr>\n",
       "      <th>27</th>\n",
       "      <td>2021-03-14</td>\n",
       "      <td>B</td>\n",
       "      <td>14</td>\n",
       "      <td>14</td>\n",
       "      <td>106749</td>\n",
       "      <td>687</td>\n",
       "      <td>2.037846</td>\n",
       "    </tr>\n",
       "    <tr>\n",
       "      <th>23</th>\n",
       "      <td>2021-03-12</td>\n",
       "      <td>B</td>\n",
       "      <td>19</td>\n",
       "      <td>19</td>\n",
       "      <td>103297</td>\n",
       "      <td>492</td>\n",
       "      <td>3.861789</td>\n",
       "    </tr>\n",
       "  </tbody>\n",
       "</table>\n",
       "</div>"
      ],
      "text/plain": [
       "         date group  trans_count  buyers_count  revenue  visitors   convers\n",
       "55 2021-03-28     B           22            22    60443       646  3.405573\n",
       "31 2021-03-16     B           18            18   113488       359  5.013928\n",
       "47 2021-03-24     B           14            14    87288       376  3.723404\n",
       "35 2021-03-18     B            7             7    35016       666  1.051051\n",
       "17 2021-03-09     B           19            19   102769       539  3.525046\n",
       "19 2021-03-10     B           22            22   104300       360  6.111111\n",
       "59 2021-03-30     B           21            21   208365       412  5.097087\n",
       "49 2021-03-25     B           12            12    78719       625  1.920000\n",
       "25 2021-03-13     B           20            20   116877       701  2.853067\n",
       "1  2021-03-01     B           17            17    59242       631  2.694136\n",
       "9  2021-03-05     B           21            21    88969       609  3.448276\n",
       "33 2021-03-17     B           13            13    80183       395  3.291139\n",
       "11 2021-03-06     B           23            22   213999       576  3.819444\n",
       "27 2021-03-14     B           14            14   106749       687  2.037846\n",
       "23 2021-03-12     B           19            19   103297       492  3.861789"
      ]
     },
     "execution_count": 40,
     "metadata": {},
     "output_type": "execute_result"
    }
   ],
   "source": [
    "test_b_2"
   ]
  },
  {
   "cell_type": "code",
   "execution_count": 42,
   "metadata": {},
   "outputs": [
    {
     "name": "stdout",
     "output_type": "stream",
     "text": [
      "Mean B1 = 3.4158490175588887\n",
      "Mean B2 = 3.4568598479920722\n",
      "\n",
      "Средние двух выборок схожи\n",
      "MannwhitneyuResult(statistic=118.5, pvalue=0.8381347767808562)\n"
     ]
    }
   ],
   "source": [
    "# Мы тут уже не генерируем НОРМ распределение, оно нам не важно!!\n",
    "print(f'Mean B1 = {test_b_1.convers.mean()}')\n",
    "print(f'Mean B2 = {test_b_2.convers.mean()}\\n')\n",
    "\n",
    "if stats.mannwhitneyu(test_b_1.convers, test_b_2.convers).pvalue >= 0.05:\n",
    "    print(\"Средние двух выборок схожи\")\n",
    "else:\n",
    "    print(\"Средние двух выборок различны\")\n",
    "\n",
    "print(\n",
    "    stats.mannwhitneyu(test_b_1.convers,\n",
    "                       test_b_2.convers,\n",
    "                       method='exact'))"
   ]
  },
  {
   "cell_type": "markdown",
   "metadata": {},
   "source": [
    "### Bootstrap"
   ]
  },
  {
   "cell_type": "code",
   "execution_count": 54,
   "metadata": {},
   "outputs": [],
   "source": [
    "def check_pvalue(pvalue: float) -> None:\n",
    "    \"\"\"\n",
    "    Вывод результата по значению p_value\n",
    "    \"\"\"\n",
    "    try:\n",
    "        if pvalue >= 0.05:\n",
    "            print(f'Средние схожи, p-value={pvalue}')\n",
    "        else:\n",
    "            print(f'Средние различны, p-value={pvalue}')\n",
    "    except TypeError as ex:\n",
    "        print(f'message: {ex}')\n",
    "\n",
    "\n",
    "def bootstrap_compare(data1: pd.Series,\n",
    "                      data2: pd.Series,\n",
    "                      function: Callable,\n",
    "                      alpha: float = 0.05,\n",
    "                      count_generate: int = 9999,\n",
    "                      random_state: int = 42) -> tuple:\n",
    "    \"\"\"\n",
    "    Сравнение выборок при помощи Bootstrap\n",
    "    \"\"\"\n",
    "    np.random.seed(random_state)\n",
    "    sample_size = max(len(data1), len(data2))\n",
    "    diff_sample = []\n",
    "\n",
    "    for i in range(count_generate):\n",
    "        sample1 = data1.sample(sample_size, replace=True).values\n",
    "        sample2 = data2.sample(sample_size, replace=True).values\n",
    "\n",
    "        diff = function(sample1 - sample2)\n",
    "        diff_sample.append(diff)\n",
    "\n",
    "    # нижний и верхние квантили\n",
    "    low = alpha / 2\n",
    "    high = 1 - alpha / 2\n",
    "\n",
    "    # интервал\n",
    "    ci = (np.quantile(diff_sample, low), np.quantile(diff_sample, high))\n",
    "\n",
    "    # p-value\n",
    "    # Кумулятивная функция распределения (CDF) распределения вероятностей \n",
    "    # содержит вероятности того, что случайная величина X меньше или равна X\n",
    "    # 0 - в том случае, если разницы нет, среднее должно быть в нуле\n",
    "    p1 = stats.norm.cdf(0, loc=np.mean(diff_sample), scale=np.std(diff_sample))\n",
    "    p2 = 1 - p1\n",
    "    p_value = min(p1, p2) * 2\n",
    "    check_pvalue(p_value)\n",
    "\n",
    "    return diff_sample, ci, p_value"
   ]
  },
  {
   "cell_type": "code",
   "execution_count": 97,
   "metadata": {},
   "outputs": [
    {
     "data": {
      "image/png": "[encoded data removed]",
      "text/plain": [
       "<Figure size 1080x360 with 2 Axes>"
      ]
     },
     "metadata": {
      "needs_background": "light"
     },
     "output_type": "display_data"
    }
   ],
   "source": [
    "# ПРИМЕР как влияет среднее распределения на линию уровня\n",
    "fig, axes = plt.subplots(ncols=2, figsize=(15, 5))\n",
    "\n",
    "norm_1 = np.random.normal(loc=2.5, scale=1.0, size=1000)\n",
    "norm_2 = np.random.normal(loc=-2.5, scale=1.0, size=1000)\n",
    "\n",
    "cdf_norm_1 = stats.norm.cdf(0, loc=np.mean(norm_1), scale=np.std(norm_1))\n",
    "cdf_norm_2 = stats.norm.cdf(0, loc=np.mean(norm_2), scale=np.std(norm_2))\n",
    "\n",
    "sns.ecdfplot(norm_1, color='orange', ax=axes[0])\n",
    "axes[0].vlines(0, 0, 1, colors='orange', linestyles='--')\n",
    "axes[0].text(x=0.2, y=0.2, s=f'Линия уровня p = {round(cdf_norm_1, 2)}', fontsize=15)\n",
    "axes[0].text(x=0.2, y=0.1, s=f'Mean 1 = {round(np.mean(norm_1), 2)}', fontsize=15)\n",
    "\n",
    "\n",
    "sns.ecdfplot(norm_2, ax=axes[1])\n",
    "axes[1].vlines(0, 0, 1, linestyles='--')\n",
    "axes[1].text(x=0.2, y=0.2, s=f'Линия уровня p = {round(cdf_norm_2, 2)}', fontsize=15)\n",
    "axes[1].text(x=0.2, y=0.1, s=f'Mean 2 = {round(np.mean(norm_2), 2)}', fontsize=15)\n",
    "plt.show()"
   ]
  },
  {
   "cell_type": "code",
   "execution_count": 100,
   "metadata": {},
   "outputs": [
    {
     "data": {
      "text/plain": [
       "<seaborn.axisgrid.FacetGrid at 0x7fcd7b7d9ca0>"
      ]
     },
     "execution_count": 100,
     "metadata": {},
     "output_type": "execute_result"
    },
    {
     "data": {
      "image/png": "[encoded data removed]",
      "text/plain": [
       "<Figure size 360x360 with 1 Axes>"
      ]
     },
     "metadata": {
      "needs_background": "light"
     },
     "output_type": "display_data"
    }
   ],
   "source": [
    "sns.displot(norm_1, color='orange')"
   ]
  },
  {
   "cell_type": "code",
   "execution_count": 101,
   "metadata": {},
   "outputs": [
    {
     "data": {
      "text/plain": [
       "<seaborn.axisgrid.FacetGrid at 0x7fcd6a214820>"
      ]
     },
     "execution_count": 101,
     "metadata": {},
     "output_type": "execute_result"
    },
    {
     "data": {
      "image/png": "[encoded data removed]",
      "text/plain": [
       "<Figure size 360x360 with 1 Axes>"
      ]
     },
     "metadata": {
      "needs_background": "light"
     },
     "output_type": "display_data"
    }
   ],
   "source": [
    "sns.displot(norm_2)"
   ]
  },
  {
   "cell_type": "markdown",
   "metadata": {},
   "source": [
    "Чем меньше наш p_value, тем больше мы уверены в том, что различия есть, принимаем $H_1$\n",
    "\n",
    "Чем больше наш p_value, тем больше мы уверены в том, что различий нет, принимаем $H_0$ "
   ]
  },
  {
   "cell_type": "code",
   "execution_count": 59,
   "metadata": {},
   "outputs": [
    {
     "name": "stdout",
     "output_type": "stream",
     "text": [
      "Средние схожи, p-value=0.06847451958495498\n",
      "CI = (-1.1447738115311237, 0.050720314941186694)\n"
     ]
    },
    {
     "data": {
      "image/png": "[encoded data removed]",
      "text/plain": [
       "<Figure size 1080x288 with 1 Axes>"
      ]
     },
     "metadata": {
      "needs_background": "light"
     },
     "output_type": "display_data"
    }
   ],
   "source": [
    "diff_sample, ci, pvalue = bootstrap_compare(orders_group_a.convers,\n",
    "                                            orders_group_b.convers,\n",
    "                                            function=np.mean)\n",
    "\n",
    "fig, ax = plt.subplots(figsize=(15, 4))\n",
    "\n",
    "plt.title('Распределение разности группы А и B')\n",
    "sns.kdeplot(diff_sample, fill=True)\n",
    "\n",
    "_, max_ylim = plt.ylim()\n",
    "plt.vlines(ci,\n",
    "           color='orange',\n",
    "           ymin=0,\n",
    "           ymax=max_ylim,\n",
    "           linestyle='--',\n",
    "           linewidth=2)\n",
    "plt.vlines(0, ymin=0, ymax=max_ylim, linestyle='--', linewidth=2)\n",
    "print(f'CI = {ci}')"
   ]
  },
  {
   "cell_type": "markdown",
   "metadata": {},
   "source": [
    "## Кореляция"
   ]
  },
  {
   "cell_type": "markdown",
   "metadata": {},
   "source": [
    "Корреляция – статистическая взаимосвязь двух или более случайных величин (либо величин, которые можно с некоторой допустимой степенью точности считать таковыми). При этом изменения значений одной или нескольких из этих величин сопутствуют систематическому изменению значений другой или других величин. \n",
    "\n",
    "**Коэффициент Пирсона** – мера силы линейной зависимости, это математическое ожидание произведения отклонений случайных величин от своих математических ожиданий, деленное на корень из дисперсии этих случайных величин.\n",
    "\n",
    "Заметьте, что по умолчанию в .corr() используется method='pearson' метод Пирсона, только для числовых данных"
   ]
  },
  {
   "cell_type": "code",
   "execution_count": 60,
   "metadata": {},
   "outputs": [
    {
     "data": {
      "text/html": [
       "<div>\n",
       "<style scoped>\n",
       "    .dataframe tbody tr th:only-of-type {\n",
       "        vertical-align: middle;\n",
       "    }\n",
       "\n",
       "    .dataframe tbody tr th {\n",
       "        vertical-align: top;\n",
       "    }\n",
       "\n",
       "    .dataframe thead th {\n",
       "        text-align: right;\n",
       "    }\n",
       "</style>\n",
       "<table border=\"1\" class=\"dataframe\">\n",
       "  <thead>\n",
       "    <tr style=\"text-align: right;\">\n",
       "      <th></th>\n",
       "      <th>date</th>\n",
       "      <th>group</th>\n",
       "      <th>trans_count</th>\n",
       "      <th>buyers_count</th>\n",
       "      <th>revenue</th>\n",
       "      <th>visitors</th>\n",
       "      <th>convers</th>\n",
       "    </tr>\n",
       "  </thead>\n",
       "  <tbody>\n",
       "    <tr>\n",
       "      <th>0</th>\n",
       "      <td>2021-03-01</td>\n",
       "      <td>A</td>\n",
       "      <td>23</td>\n",
       "      <td>19</td>\n",
       "      <td>141459</td>\n",
       "      <td>682</td>\n",
       "      <td>2.785924</td>\n",
       "    </tr>\n",
       "    <tr>\n",
       "      <th>1</th>\n",
       "      <td>2021-03-01</td>\n",
       "      <td>B</td>\n",
       "      <td>17</td>\n",
       "      <td>17</td>\n",
       "      <td>59242</td>\n",
       "      <td>631</td>\n",
       "      <td>2.694136</td>\n",
       "    </tr>\n",
       "    <tr>\n",
       "      <th>2</th>\n",
       "      <td>2021-03-02</td>\n",
       "      <td>A</td>\n",
       "      <td>19</td>\n",
       "      <td>18</td>\n",
       "      <td>90960</td>\n",
       "      <td>564</td>\n",
       "      <td>3.191489</td>\n",
       "    </tr>\n",
       "    <tr>\n",
       "      <th>3</th>\n",
       "      <td>2021-03-02</td>\n",
       "      <td>B</td>\n",
       "      <td>23</td>\n",
       "      <td>22</td>\n",
       "      <td>161192</td>\n",
       "      <td>560</td>\n",
       "      <td>3.928571</td>\n",
       "    </tr>\n",
       "  </tbody>\n",
       "</table>\n",
       "</div>"
      ],
      "text/plain": [
       "        date group  trans_count  buyers_count  revenue  visitors   convers\n",
       "0 2021-03-01     A           23            19   141459       682  2.785924\n",
       "1 2021-03-01     B           17            17    59242       631  2.694136\n",
       "2 2021-03-02     A           19            18    90960       564  3.191489\n",
       "3 2021-03-02     B           23            22   161192       560  3.928571"
      ]
     },
     "execution_count": 60,
     "metadata": {},
     "output_type": "execute_result"
    }
   ],
   "source": [
    "orders_group[:4]"
   ]
  },
  {
   "cell_type": "code",
   "execution_count": 61,
   "metadata": {},
   "outputs": [
    {
     "data": {
      "text/html": [
       "<div>\n",
       "<style scoped>\n",
       "    .dataframe tbody tr th:only-of-type {\n",
       "        vertical-align: middle;\n",
       "    }\n",
       "\n",
       "    .dataframe tbody tr th {\n",
       "        vertical-align: top;\n",
       "    }\n",
       "\n",
       "    .dataframe thead th {\n",
       "        text-align: right;\n",
       "    }\n",
       "</style>\n",
       "<table border=\"1\" class=\"dataframe\">\n",
       "  <thead>\n",
       "    <tr style=\"text-align: right;\">\n",
       "      <th></th>\n",
       "      <th>trans_count</th>\n",
       "      <th>buyers_count</th>\n",
       "      <th>revenue</th>\n",
       "      <th>visitors</th>\n",
       "      <th>convers</th>\n",
       "    </tr>\n",
       "  </thead>\n",
       "  <tbody>\n",
       "    <tr>\n",
       "      <th>trans_count</th>\n",
       "      <td>1.000000</td>\n",
       "      <td>0.990129</td>\n",
       "      <td>0.300920</td>\n",
       "      <td>-0.058667</td>\n",
       "      <td>0.760499</td>\n",
       "    </tr>\n",
       "    <tr>\n",
       "      <th>buyers_count</th>\n",
       "      <td>0.990129</td>\n",
       "      <td>1.000000</td>\n",
       "      <td>0.285710</td>\n",
       "      <td>-0.076462</td>\n",
       "      <td>0.780468</td>\n",
       "    </tr>\n",
       "    <tr>\n",
       "      <th>revenue</th>\n",
       "      <td>0.300920</td>\n",
       "      <td>0.285710</td>\n",
       "      <td>1.000000</td>\n",
       "      <td>-0.164067</td>\n",
       "      <td>0.318926</td>\n",
       "    </tr>\n",
       "    <tr>\n",
       "      <th>visitors</th>\n",
       "      <td>-0.058667</td>\n",
       "      <td>-0.076462</td>\n",
       "      <td>-0.164067</td>\n",
       "      <td>1.000000</td>\n",
       "      <td>-0.635712</td>\n",
       "    </tr>\n",
       "    <tr>\n",
       "      <th>convers</th>\n",
       "      <td>0.760499</td>\n",
       "      <td>0.780468</td>\n",
       "      <td>0.318926</td>\n",
       "      <td>-0.635712</td>\n",
       "      <td>1.000000</td>\n",
       "    </tr>\n",
       "  </tbody>\n",
       "</table>\n",
       "</div>"
      ],
      "text/plain": [
       "              trans_count  buyers_count   revenue  visitors   convers\n",
       "trans_count      1.000000      0.990129  0.300920 -0.058667  0.760499\n",
       "buyers_count     0.990129      1.000000  0.285710 -0.076462  0.780468\n",
       "revenue          0.300920      0.285710  1.000000 -0.164067  0.318926\n",
       "visitors        -0.058667     -0.076462 -0.164067  1.000000 -0.635712\n",
       "convers          0.760499      0.780468  0.318926 -0.635712  1.000000"
      ]
     },
     "execution_count": 61,
     "metadata": {},
     "output_type": "execute_result"
    }
   ],
   "source": [
    "orders_group.corr()"
   ]
  },
  {
   "cell_type": "code",
   "execution_count": 62,
   "metadata": {},
   "outputs": [
    {
     "data": {
      "image/png": "[encoded data removed]",
      "text/plain": [
       "<Figure size 432x288 with 2 Axes>"
      ]
     },
     "metadata": {
      "needs_background": "light"
     },
     "output_type": "display_data"
    }
   ],
   "source": [
    "sns.heatmap(orders_group.corr());"
   ]
  },
  {
   "cell_type": "code",
   "execution_count": 64,
   "metadata": {},
   "outputs": [],
   "source": [
    "# plt.imshow(orders_group.corr(), cmap='hot', interpolation='nearest')\n",
    "# plt.show()"
   ]
  },
  {
   "cell_type": "markdown",
   "metadata": {},
   "source": [
    "Корреляция Спирмена позволяет решить нам проблемы, с которыми не справляется корреляция Пирсона (неустойчивость к выбросам), но оставшиеся проблемы не решает.\n",
    "\n",
    "**Коэффициент корреляции Спирмена** — мера линейной связи между случайными величинами. Корреляция Спирмена является ранговой, то есть для оценки силы связи используются не численные значения, а соответствующие им ранги. "
   ]
  },
  {
   "cell_type": "code",
   "execution_count": 65,
   "metadata": {},
   "outputs": [
    {
     "data": {
      "text/html": [
       "<div>\n",
       "<style scoped>\n",
       "    .dataframe tbody tr th:only-of-type {\n",
       "        vertical-align: middle;\n",
       "    }\n",
       "\n",
       "    .dataframe tbody tr th {\n",
       "        vertical-align: top;\n",
       "    }\n",
       "\n",
       "    .dataframe thead th {\n",
       "        text-align: right;\n",
       "    }\n",
       "</style>\n",
       "<table border=\"1\" class=\"dataframe\">\n",
       "  <thead>\n",
       "    <tr style=\"text-align: right;\">\n",
       "      <th></th>\n",
       "      <th>trans_count</th>\n",
       "      <th>buyers_count</th>\n",
       "      <th>revenue</th>\n",
       "      <th>visitors</th>\n",
       "      <th>convers</th>\n",
       "    </tr>\n",
       "  </thead>\n",
       "  <tbody>\n",
       "    <tr>\n",
       "      <th>trans_count</th>\n",
       "      <td>1.000000</td>\n",
       "      <td>0.985254</td>\n",
       "      <td>0.607678</td>\n",
       "      <td>-0.089308</td>\n",
       "      <td>0.793330</td>\n",
       "    </tr>\n",
       "    <tr>\n",
       "      <th>buyers_count</th>\n",
       "      <td>0.985254</td>\n",
       "      <td>1.000000</td>\n",
       "      <td>0.609507</td>\n",
       "      <td>-0.127834</td>\n",
       "      <td>0.823799</td>\n",
       "    </tr>\n",
       "    <tr>\n",
       "      <th>revenue</th>\n",
       "      <td>0.607678</td>\n",
       "      <td>0.609507</td>\n",
       "      <td>1.000000</td>\n",
       "      <td>-0.118761</td>\n",
       "      <td>0.566014</td>\n",
       "    </tr>\n",
       "    <tr>\n",
       "      <th>visitors</th>\n",
       "      <td>-0.089308</td>\n",
       "      <td>-0.127834</td>\n",
       "      <td>-0.118761</td>\n",
       "      <td>1.000000</td>\n",
       "      <td>-0.611508</td>\n",
       "    </tr>\n",
       "    <tr>\n",
       "      <th>convers</th>\n",
       "      <td>0.793330</td>\n",
       "      <td>0.823799</td>\n",
       "      <td>0.566014</td>\n",
       "      <td>-0.611508</td>\n",
       "      <td>1.000000</td>\n",
       "    </tr>\n",
       "  </tbody>\n",
       "</table>\n",
       "</div>"
      ],
      "text/plain": [
       "              trans_count  buyers_count   revenue  visitors   convers\n",
       "trans_count      1.000000      0.985254  0.607678 -0.089308  0.793330\n",
       "buyers_count     0.985254      1.000000  0.609507 -0.127834  0.823799\n",
       "revenue          0.607678      0.609507  1.000000 -0.118761  0.566014\n",
       "visitors        -0.089308     -0.127834 -0.118761  1.000000 -0.611508\n",
       "convers          0.793330      0.823799  0.566014 -0.611508  1.000000"
      ]
     },
     "execution_count": 65,
     "metadata": {},
     "output_type": "execute_result"
    }
   ],
   "source": [
    "orders_group.corr(method='spearman')"
   ]
  },
  {
   "cell_type": "code",
   "execution_count": 68,
   "metadata": {},
   "outputs": [
    {
     "data": {
      "image/png": "[encoded data removed]",
      "text/plain": [
       "<Figure size 720x720 with 4 Axes>"
      ]
     },
     "metadata": {
      "needs_background": "light"
     },
     "output_type": "display_data"
    }
   ],
   "source": [
    "fig, ax = plt.subplots(2, 1, figsize=(10, 10))\n",
    "\n",
    "sns.heatmap(orders_group.corr(method='spearman'),\n",
    "            annot=True,\n",
    "            fmt='.2f',\n",
    "            ax=ax[0])\n",
    "sns.heatmap(orders_group.corr(), annot=True, fmt='.2f', ax=ax[1])\n",
    "\n",
    "ax[0].set_title('Корреляция Спирмена')\n",
    "ax[1].set_title('Корреляция Пирсона')\n",
    "plt.show()"
   ]
  },
  {
   "cell_type": "code",
   "execution_count": 71,
   "metadata": {
    "scrolled": true
   },
   "outputs": [
    {
     "data": {
      "image/png": "[encoded data removed]",
      "text/plain": [
       "<Figure size 900x900 with 30 Axes>"
      ]
     },
     "metadata": {
      "needs_background": "light"
     },
     "output_type": "display_data"
    }
   ],
   "source": [
    "sns.pairplot(orders_group);"
   ]
  },
  {
   "cell_type": "code",
   "execution_count": 72,
   "metadata": {},
   "outputs": [
    {
     "data": {
      "text/plain": [
       "trans_count     0.990129\n",
       "buyers_count    1.000000\n",
       "convers         0.780468\n",
       "Name: buyers_count, dtype: float64"
      ]
     },
     "execution_count": 72,
     "metadata": {},
     "output_type": "execute_result"
    }
   ],
   "source": [
    "orders_group.corr()[orders_group.corr()['buyers_count']>0.6]['buyers_count']"
   ]
  },
  {
   "cell_type": "code",
   "execution_count": 73,
   "metadata": {},
   "outputs": [
    {
     "data": {
      "text/plain": [
       "visitors      convers        -0.635712\n",
       "              revenue        -0.164067\n",
       "              buyers_count   -0.076462\n",
       "trans_count   visitors       -0.058667\n",
       "buyers_count  revenue         0.285710\n",
       "revenue       trans_count     0.300920\n",
       "convers       revenue         0.318926\n",
       "              trans_count     0.760499\n",
       "              buyers_count    0.780468\n",
       "buyers_count  trans_count     0.990129\n",
       "trans_count   trans_count     1.000000\n",
       "dtype: float64"
      ]
     },
     "execution_count": 73,
     "metadata": {},
     "output_type": "execute_result"
    }
   ],
   "source": [
    "orders_group.corr().unstack().sort_values(kind=\"quicksort\").drop_duplicates()"
   ]
  },
  {
   "cell_type": "code",
   "execution_count": 75,
   "metadata": {},
   "outputs": [
    {
     "data": {
      "text/plain": [
       "trans_count  buyers_count    0.990129\n",
       "dtype: float64"
      ]
     },
     "execution_count": 75,
     "metadata": {},
     "output_type": "execute_result"
    }
   ],
   "source": [
    "def corr_filter(x: pd.DataFrame, bound: float) -> pd.Series:\n",
    "    \"\"\"\n",
    "    Поиск признаков, где корреляция выше, чем заданный порог\n",
    "    \"\"\"\n",
    "    x_corr = x.corr()\n",
    "    x_filter = x_corr[((x_corr >= bound) | (x_corr <= -bound))\n",
    "                      & (x_corr != 1.000)]\n",
    "    x_flatten = x_filter.unstack().sort_values().drop_duplicates()\n",
    "    return x_flatten.dropna()\n",
    "\n",
    "\n",
    "corr_filter(orders_group, .95)"
   ]
  },
  {
   "cell_type": "code",
   "execution_count": null,
   "metadata": {},
   "outputs": [],
   "source": [
    "# треугольное представление\n",
    "# upper = df.corr().where(np.triu(np.ones(df.corr().shape), k=1).astype(np.bool))"
   ]
  },
  {
   "cell_type": "code",
   "execution_count": 92,
   "metadata": {},
   "outputs": [],
   "source": [
    "lower = orders_group.corr().where(\n",
    "    np.tril(np.ones(orders_group.corr().shape), k=-1).astype(bool))"
   ]
  },
  {
   "cell_type": "code",
   "execution_count": 93,
   "metadata": {},
   "outputs": [
    {
     "data": {
      "text/html": [
       "<div>\n",
       "<style scoped>\n",
       "    .dataframe tbody tr th:only-of-type {\n",
       "        vertical-align: middle;\n",
       "    }\n",
       "\n",
       "    .dataframe tbody tr th {\n",
       "        vertical-align: top;\n",
       "    }\n",
       "\n",
       "    .dataframe thead th {\n",
       "        text-align: right;\n",
       "    }\n",
       "</style>\n",
       "<table border=\"1\" class=\"dataframe\">\n",
       "  <thead>\n",
       "    <tr style=\"text-align: right;\">\n",
       "      <th></th>\n",
       "      <th>trans_count</th>\n",
       "      <th>buyers_count</th>\n",
       "      <th>revenue</th>\n",
       "      <th>visitors</th>\n",
       "      <th>convers</th>\n",
       "    </tr>\n",
       "  </thead>\n",
       "  <tbody>\n",
       "    <tr>\n",
       "      <th>trans_count</th>\n",
       "      <td>NaN</td>\n",
       "      <td>NaN</td>\n",
       "      <td>NaN</td>\n",
       "      <td>NaN</td>\n",
       "      <td>NaN</td>\n",
       "    </tr>\n",
       "    <tr>\n",
       "      <th>buyers_count</th>\n",
       "      <td>0.990129</td>\n",
       "      <td>NaN</td>\n",
       "      <td>NaN</td>\n",
       "      <td>NaN</td>\n",
       "      <td>NaN</td>\n",
       "    </tr>\n",
       "    <tr>\n",
       "      <th>revenue</th>\n",
       "      <td>0.300920</td>\n",
       "      <td>0.285710</td>\n",
       "      <td>NaN</td>\n",
       "      <td>NaN</td>\n",
       "      <td>NaN</td>\n",
       "    </tr>\n",
       "    <tr>\n",
       "      <th>visitors</th>\n",
       "      <td>-0.058667</td>\n",
       "      <td>-0.076462</td>\n",
       "      <td>-0.164067</td>\n",
       "      <td>NaN</td>\n",
       "      <td>NaN</td>\n",
       "    </tr>\n",
       "    <tr>\n",
       "      <th>convers</th>\n",
       "      <td>0.760499</td>\n",
       "      <td>0.780468</td>\n",
       "      <td>0.318926</td>\n",
       "      <td>-0.635712</td>\n",
       "      <td>NaN</td>\n",
       "    </tr>\n",
       "  </tbody>\n",
       "</table>\n",
       "</div>"
      ],
      "text/plain": [
       "              trans_count  buyers_count   revenue  visitors  convers\n",
       "trans_count           NaN           NaN       NaN       NaN      NaN\n",
       "buyers_count     0.990129           NaN       NaN       NaN      NaN\n",
       "revenue          0.300920      0.285710       NaN       NaN      NaN\n",
       "visitors        -0.058667     -0.076462 -0.164067       NaN      NaN\n",
       "convers          0.760499      0.780468  0.318926 -0.635712      NaN"
      ]
     },
     "execution_count": 93,
     "metadata": {},
     "output_type": "execute_result"
    }
   ],
   "source": [
    "lower"
   ]
  },
  {
   "cell_type": "code",
   "execution_count": 94,
   "metadata": {},
   "outputs": [
    {
     "data": {
      "image/png": "[encoded data removed]",
      "text/plain": [
       "<Figure size 432x288 with 2 Axes>"
      ]
     },
     "metadata": {
      "needs_background": "light"
     },
     "output_type": "display_data"
    }
   ],
   "source": [
    "sns.heatmap(lower, annot=True);"
   ]
  },
  {
   "cell_type": "code",
   "execution_count": 88,
   "metadata": {},
   "outputs": [],
   "source": [
    "upper = orders_group.corr().where(\n",
    "    np.triu(np.ones(orders_group.corr().shape), k=1).astype(bool))"
   ]
  },
  {
   "cell_type": "code",
   "execution_count": 90,
   "metadata": {},
   "outputs": [
    {
     "data": {
      "image/png": "[encoded data removed]",
      "text/plain": [
       "<Figure size 432x288 with 2 Axes>"
      ]
     },
     "metadata": {
      "needs_background": "light"
     },
     "output_type": "display_data"
    }
   ],
   "source": [
    "sns.heatmap(upper, annot=True);"
   ]
  }
 ],
 "metadata": {
  "hide_input": false,
  "kernelspec": {
   "display_name": "Python 3 (ipykernel)",
   "language": "python",
   "name": "python3"
  },
  "language_info": {
   "codemirror_mode": {
    "name": "ipython",
    "version": 3
   },
   "file_extension": ".py",
   "mimetype": "text/x-python",
   "name": "python",
   "nbconvert_exporter": "python",
   "pygments_lexer": "ipython3",
   "version": "3.11.4"
  },
  "toc": {
   "base_numbering": 1,
   "nav_menu": {},
   "number_sections": true,
   "sideBar": true,
   "skip_h1_title": false,
   "title_cell": "Table of Contents",
   "title_sidebar": "Contents",
   "toc_cell": false,
   "toc_position": {
    "height": "calc(100% - 180px)",
    "left": "10px",
    "top": "150px",
    "width": "247.7389678955078px"
   },
   "toc_section_display": true,
   "toc_window_display": false
  }
 },
 "nbformat": 4,
 "nbformat_minor": 4
}
