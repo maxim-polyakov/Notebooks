{
 "cells": [
  {
   "cell_type": "code",
   "execution_count": 1,
   "metadata": {},
   "outputs": [],
   "source": [
    "import pandas as pd\n",
    "\n",
    "RAND = 10"
   ]
  },
  {
   "cell_type": "markdown",
   "metadata": {},
   "source": [
    "Клиенты разделены на сегменты, внутри которых они схожи в определенных аспектах таких как: пол, возраст, семейное положение и т.д.\n",
    "\n",
    "Сегментация клиентов-это практика разделения клиентской базы на группы людей, которые схожи в определенных аспектах, имеющих отношение к маркетингу, таких как возраст, пол, интересы и привычки к расходам.\n",
    "\n",
    "Необходимо преобразовать признаки и обучить модель для определения к какому сегменту будут относиться новые люди, а также вывести топ-фичи для каждого сегмента"
   ]
  },
  {
   "cell_type": "markdown",
   "metadata": {},
   "source": [
    "# Загрузка и первичный анализ данных"
   ]
  },
  {
   "cell_type": "markdown",
   "metadata": {},
   "source": [
    "1) Прочитать файл customer_segmentation.csv и записать в переменную df"
   ]
  },
  {
   "cell_type": "code",
   "execution_count": 2,
   "metadata": {},
   "outputs": [],
   "source": [
    "df = pd.read_csv('customer_segmentation.csv')"
   ]
  },
  {
   "cell_type": "markdown",
   "metadata": {},
   "source": [
    "2) Вывести первые пять строк"
   ]
  },
  {
   "cell_type": "code",
   "execution_count": 3,
   "metadata": {},
   "outputs": [
    {
     "data": {
      "text/html": [
       "<div>\n",
       "<style scoped>\n",
       "    .dataframe tbody tr th:only-of-type {\n",
       "        vertical-align: middle;\n",
       "    }\n",
       "\n",
       "    .dataframe tbody tr th {\n",
       "        vertical-align: top;\n",
       "    }\n",
       "\n",
       "    .dataframe thead th {\n",
       "        text-align: right;\n",
       "    }\n",
       "</style>\n",
       "<table border=\"1\" class=\"dataframe\">\n",
       "  <thead>\n",
       "    <tr style=\"text-align: right;\">\n",
       "      <th></th>\n",
       "      <th>ID</th>\n",
       "      <th>Gender</th>\n",
       "      <th>Ever_Married</th>\n",
       "      <th>Age</th>\n",
       "      <th>Graduated</th>\n",
       "      <th>Profession</th>\n",
       "      <th>Work_Experience</th>\n",
       "      <th>Spending_Score</th>\n",
       "      <th>Family_Size</th>\n",
       "      <th>Var_1</th>\n",
       "      <th>Segmentation</th>\n",
       "    </tr>\n",
       "  </thead>\n",
       "  <tbody>\n",
       "    <tr>\n",
       "      <th>0</th>\n",
       "      <td>462809</td>\n",
       "      <td>Male</td>\n",
       "      <td>No</td>\n",
       "      <td>22</td>\n",
       "      <td>No</td>\n",
       "      <td>Healthcare</td>\n",
       "      <td>1.0</td>\n",
       "      <td>Low</td>\n",
       "      <td>4.0</td>\n",
       "      <td>Cat_4</td>\n",
       "      <td>D</td>\n",
       "    </tr>\n",
       "    <tr>\n",
       "      <th>1</th>\n",
       "      <td>462643</td>\n",
       "      <td>Female</td>\n",
       "      <td>Yes</td>\n",
       "      <td>38</td>\n",
       "      <td>Yes</td>\n",
       "      <td>Engineer</td>\n",
       "      <td>NaN</td>\n",
       "      <td>Average</td>\n",
       "      <td>3.0</td>\n",
       "      <td>Cat_4</td>\n",
       "      <td>A</td>\n",
       "    </tr>\n",
       "    <tr>\n",
       "      <th>2</th>\n",
       "      <td>466315</td>\n",
       "      <td>Female</td>\n",
       "      <td>Yes</td>\n",
       "      <td>67</td>\n",
       "      <td>Yes</td>\n",
       "      <td>Engineer</td>\n",
       "      <td>1.0</td>\n",
       "      <td>Low</td>\n",
       "      <td>1.0</td>\n",
       "      <td>Cat_6</td>\n",
       "      <td>B</td>\n",
       "    </tr>\n",
       "    <tr>\n",
       "      <th>3</th>\n",
       "      <td>461735</td>\n",
       "      <td>Male</td>\n",
       "      <td>Yes</td>\n",
       "      <td>67</td>\n",
       "      <td>Yes</td>\n",
       "      <td>Lawyer</td>\n",
       "      <td>0.0</td>\n",
       "      <td>High</td>\n",
       "      <td>2.0</td>\n",
       "      <td>Cat_6</td>\n",
       "      <td>B</td>\n",
       "    </tr>\n",
       "    <tr>\n",
       "      <th>4</th>\n",
       "      <td>462669</td>\n",
       "      <td>Female</td>\n",
       "      <td>Yes</td>\n",
       "      <td>40</td>\n",
       "      <td>Yes</td>\n",
       "      <td>Entertainment</td>\n",
       "      <td>NaN</td>\n",
       "      <td>High</td>\n",
       "      <td>6.0</td>\n",
       "      <td>Cat_6</td>\n",
       "      <td>A</td>\n",
       "    </tr>\n",
       "  </tbody>\n",
       "</table>\n",
       "</div>"
      ],
      "text/plain": [
       "       ID  Gender Ever_Married  Age Graduated     Profession  Work_Experience  \\\n",
       "0  462809    Male           No   22        No     Healthcare              1.0   \n",
       "1  462643  Female          Yes   38       Yes       Engineer              NaN   \n",
       "2  466315  Female          Yes   67       Yes       Engineer              1.0   \n",
       "3  461735    Male          Yes   67       Yes         Lawyer              0.0   \n",
       "4  462669  Female          Yes   40       Yes  Entertainment              NaN   \n",
       "\n",
       "  Spending_Score  Family_Size  Var_1 Segmentation  \n",
       "0            Low          4.0  Cat_4            D  \n",
       "1        Average          3.0  Cat_4            A  \n",
       "2            Low          1.0  Cat_6            B  \n",
       "3           High          2.0  Cat_6            B  \n",
       "4           High          6.0  Cat_6            A  "
      ]
     },
     "execution_count": 3,
     "metadata": {},
     "output_type": "execute_result"
    }
   ],
   "source": [
    "df.head()"
   ]
  },
  {
   "cell_type": "markdown",
   "metadata": {},
   "source": [
    "3) Выведите размер датасета"
   ]
  },
  {
   "cell_type": "code",
   "execution_count": 4,
   "metadata": {},
   "outputs": [
    {
     "name": "stdout",
     "output_type": "stream",
     "text": [
      "<class 'pandas.core.frame.DataFrame'>\n",
      "RangeIndex: 8068 entries, 0 to 8067\n",
      "Data columns (total 11 columns):\n",
      " #   Column           Non-Null Count  Dtype  \n",
      "---  ------           --------------  -----  \n",
      " 0   ID               8068 non-null   int64  \n",
      " 1   Gender           8068 non-null   object \n",
      " 2   Ever_Married     7928 non-null   object \n",
      " 3   Age              8068 non-null   int64  \n",
      " 4   Graduated        7990 non-null   object \n",
      " 5   Profession       7944 non-null   object \n",
      " 6   Work_Experience  7239 non-null   float64\n",
      " 7   Spending_Score   8068 non-null   object \n",
      " 8   Family_Size      7733 non-null   float64\n",
      " 9   Var_1            7992 non-null   object \n",
      " 10  Segmentation     8068 non-null   object \n",
      "dtypes: float64(2), int64(2), object(7)\n",
      "memory usage: 693.5+ KB\n"
     ]
    }
   ],
   "source": [
    "df.info()"
   ]
  },
  {
   "cell_type": "markdown",
   "metadata": {},
   "source": [
    "4) Вывести общую информацию о датафрейме при помощи метода info()"
   ]
  },
  {
   "cell_type": "code",
   "execution_count": 5,
   "metadata": {},
   "outputs": [
    {
     "name": "stdout",
     "output_type": "stream",
     "text": [
      "<class 'pandas.core.frame.DataFrame'>\n",
      "RangeIndex: 8068 entries, 0 to 8067\n",
      "Data columns (total 11 columns):\n",
      " #   Column           Non-Null Count  Dtype  \n",
      "---  ------           --------------  -----  \n",
      " 0   ID               8068 non-null   int64  \n",
      " 1   Gender           8068 non-null   object \n",
      " 2   Ever_Married     7928 non-null   object \n",
      " 3   Age              8068 non-null   int64  \n",
      " 4   Graduated        7990 non-null   object \n",
      " 5   Profession       7944 non-null   object \n",
      " 6   Work_Experience  7239 non-null   float64\n",
      " 7   Spending_Score   8068 non-null   object \n",
      " 8   Family_Size      7733 non-null   float64\n",
      " 9   Var_1            7992 non-null   object \n",
      " 10  Segmentation     8068 non-null   object \n",
      "dtypes: float64(2), int64(2), object(7)\n",
      "memory usage: 693.5+ KB\n"
     ]
    }
   ],
   "source": [
    "df.info()"
   ]
  },
  {
   "cell_type": "code",
   "execution_count": 6,
   "metadata": {
    "scrolled": true
   },
   "outputs": [
    {
     "name": "stdout",
     "output_type": "stream",
     "text": [
      "<class 'pandas.core.frame.DataFrame'>\n",
      "RangeIndex: 8068 entries, 0 to 8067\n",
      "Data columns (total 11 columns):\n",
      " #   Column           Non-Null Count  Dtype  \n",
      "---  ------           --------------  -----  \n",
      " 0   ID               8068 non-null   int64  \n",
      " 1   Gender           8068 non-null   object \n",
      " 2   Ever_Married     7928 non-null   object \n",
      " 3   Age              8068 non-null   int64  \n",
      " 4   Graduated        7990 non-null   object \n",
      " 5   Profession       7944 non-null   object \n",
      " 6   Work_Experience  7239 non-null   float64\n",
      " 7   Spending_Score   8068 non-null   object \n",
      " 8   Family_Size      7733 non-null   float64\n",
      " 9   Var_1            7992 non-null   object \n",
      " 10  Segmentation     8068 non-null   object \n",
      "dtypes: float64(2), int64(2), object(7)\n",
      "memory usage: 693.5+ KB\n"
     ]
    }
   ],
   "source": [
    "df.info()"
   ]
  },
  {
   "cell_type": "markdown",
   "metadata": {},
   "source": [
    "5) Проанализировать кол-во пропусков, а также посмотреть сколько это в процентах от размера датасета (кол-ва строк)"
   ]
  },
  {
   "cell_type": "code",
   "execution_count": 7,
   "metadata": {},
   "outputs": [],
   "source": [
    "# Ваш код"
   ]
  },
  {
   "cell_type": "markdown",
   "metadata": {},
   "source": [
    "6) Вывести основные описательные статистики для числовых признаков"
   ]
  },
  {
   "cell_type": "code",
   "execution_count": 8,
   "metadata": {},
   "outputs": [],
   "source": [
    "# Ваш код"
   ]
  },
  {
   "cell_type": "code",
   "execution_count": 9,
   "metadata": {},
   "outputs": [
    {
     "ename": "NameError",
     "evalue": "name 'df' is not defined",
     "output_type": "error",
     "traceback": [
      "\u001b[1;31m---------------------------------------------------------------------------\u001b[0m",
      "\u001b[1;31mNameError\u001b[0m                                 Traceback (most recent call last)",
      "Cell \u001b[1;32mIn[9], line 1\u001b[0m\n\u001b[1;32m----> 1\u001b[0m df\u001b[38;5;241m.\u001b[39miloc[:,\u001b[38;5;241m1\u001b[39m:]\u001b[38;5;241m.\u001b[39mdescribe()\n",
      "\u001b[1;31mNameError\u001b[0m: name 'df' is not defined"
     ]
    }
   ],
   "source": [
    "df.iloc[:,1:].describe()"
   ]
  },
  {
   "cell_type": "markdown",
   "metadata": {},
   "source": [
    "7) Вывести основные описательные статистики для категориальных признаков"
   ]
  },
  {
   "cell_type": "code",
   "execution_count": 10,
   "metadata": {},
   "outputs": [],
   "source": [
    "# Ваш код"
   ]
  },
  {
   "cell_type": "markdown",
   "metadata": {},
   "source": [
    "# EDA"
   ]
  },
  {
   "cell_type": "markdown",
   "metadata": {},
   "source": [
    "8) Посчитайте **в процентах** сколько клиентов в каждом из сегментом Segmentation и визуализируйте при помощи barplot. \n",
    "\n",
    "Чтобы отобразить числа над можете прописать следующий код:"
   ]
  },
  {
   "cell_type": "code",
   "execution_count": 11,
   "metadata": {},
   "outputs": [
    {
     "ename": "SyntaxError",
     "evalue": "invalid syntax (4182472252.py, line 2)",
     "output_type": "error",
     "traceback": [
      "\u001b[1;36m  Cell \u001b[1;32mIn[11], line 2\u001b[1;36m\u001b[0m\n\u001b[1;33m    segment_values =  # ваш код\u001b[0m\n\u001b[1;37m                      ^\u001b[0m\n\u001b[1;31mSyntaxError\u001b[0m\u001b[1;31m:\u001b[0m invalid syntax\n"
     ]
    }
   ],
   "source": [
    "ax = plt.figure(figsize=(10,6))\n",
    "segment_values =  # ваш код\n",
    "ax = sns.barplot(  # ваш код)\n",
    "\n",
    "# внутри можно ничего не менять\n",
    "for p in ax.patches:\n",
    "    ax.annotate(format(p.get_height()*100, '.1f'),\n",
    "                   (p.get_x() + p.get_width() / 2., p.get_height()),\n",
    "                   ha='center', va='center',\n",
    "                   xytext=(0, 4),\n",
    "                   textcoords='offset points')\n",
    "\n",
    "# Выведите также наименование графика и подписи по осям при помощи title и других методов из matplolib\n",
    "# Ваш код"
   ]
  },
  {
   "cell_type": "markdown",
   "metadata": {},
   "source": [
    "9) Отобразите график **распределения возраста (seaborn.displot) в разрезе сегмента**. Не забывайте про common_norm=False. \n",
    "\n",
    "**Какие выводы вы можете сделать? напишите кратко**"
   ]
  },
  {
   "cell_type": "code",
   "execution_count": 12,
   "metadata": {},
   "outputs": [],
   "source": [
    "# Ваш код"
   ]
  },
  {
   "cell_type": "markdown",
   "metadata": {},
   "source": [
    "10) Отобразите **график распределения возраста в разрезе пола**. Не забывайте про common_norm=False.\n",
    "\n",
    "**Какие выводы вы можете сделать? напишите кратко**"
   ]
  },
  {
   "cell_type": "code",
   "execution_count": 13,
   "metadata": {},
   "outputs": [],
   "source": [
    "# Ваш код"
   ]
  },
  {
   "cell_type": "markdown",
   "metadata": {},
   "source": [
    "11) Отобразите на графике долю людей (ось OY) в разрезе пола (ось OX) по каждому сегменту (hue).\n",
    "\n",
    "- Данные должны быть **нормированы** на  кол-во людей в каждом из сегментов, **пример был в ноутбке по EDA анализу**.\n",
    "\n",
    "- Не забудьте указать цифры (%) на графике для каждого бара, как это делалось ранее. \n",
    "\n",
    "Например, если в сегменте А всего 120 людей, мужчин 20, а женщин 100, то тогда мужчин - 16,7%, женщин 83,3%\n",
    "\n",
    "**Какие выводы вы можете сделать? напишите кратко**"
   ]
  },
  {
   "cell_type": "code",
   "execution_count": 14,
   "metadata": {},
   "outputs": [],
   "source": [
    "# Ваш код"
   ]
  },
  {
   "cell_type": "markdown",
   "metadata": {},
   "source": [
    "12) Отобразите на графике долю людей (ось OY) в разрезе профессии Profession (ось OX) по каждому сегменту (hue).\n",
    "\n",
    "- Данные должны быть **нормированы** на  кол-во людей в каждом из сегментов, **пример был в ноутбке по EDA анализу**.\n",
    "\n",
    "- Не забудьте указать цифры (%) на графике для каждого бара, как это делалось ранее. \n",
    "\n",
    "**Какие выводы вы можете сделать? напишите кратко**"
   ]
  },
  {
   "cell_type": "code",
   "execution_count": 15,
   "metadata": {},
   "outputs": [],
   "source": [
    "# Ваш код"
   ]
  },
  {
   "cell_type": "markdown",
   "metadata": {},
   "source": [
    "13) Отобразите на графике долю людей (ось OY) в разрезе образования Graduated (ось OX) по каждому сегменту (hue).\n",
    "\n",
    "- Данные должны быть **нормированы** на  кол-во людей в каждом из сегментов, **пример был в ноутбке по EDA анализу**.\n",
    "\n",
    "- Не забудьте указать цифры (%) на графике для каждого бара, как это делалось ранее. \n",
    "\n",
    "**Какие выводы вы можете сделать? напишите кратко**"
   ]
  },
  {
   "cell_type": "code",
   "execution_count": 16,
   "metadata": {},
   "outputs": [],
   "source": [
    "# Ваш код"
   ]
  },
  {
   "cell_type": "markdown",
   "metadata": {},
   "source": [
    "14) Отобразите график **распределения опыта работы в разрезе от сегмента**. Не забывайте про common_norm=False.\n",
    "\n",
    "**Какие выводы вы можете сделать? напишите кратко**"
   ]
  },
  {
   "cell_type": "code",
   "execution_count": 17,
   "metadata": {},
   "outputs": [],
   "source": [
    "# Ваш код"
   ]
  },
  {
   "cell_type": "markdown",
   "metadata": {},
   "source": [
    "15) Отобразите график, на котором бы вы сравнили среднее значение (медианное) опыта работы в разрезе сегментов. \n",
    "\n",
    "**Какие выводы вы можете сделать? напишите кратко**"
   ]
  },
  {
   "cell_type": "code",
   "execution_count": 18,
   "metadata": {},
   "outputs": [],
   "source": [
    "# Ваш код"
   ]
  },
  {
   "cell_type": "markdown",
   "metadata": {},
   "source": [
    "16) Отобразите на графике долю людей (ось OY) в разрезе Spending_Score (ось OX) по каждому сегменту (hue).\n",
    "\n",
    "- Данные должны быть **нормированы** на  кол-во людей в каждом из сегментов, **пример был в ноутбке по EDA анализу**.\n",
    "\n",
    "- Не забудьте указать цифры (%) на графике для каждого бара, как это делалось ранее. \n",
    "\n",
    "**Какие выводы вы можете сделать? напишите кратко**"
   ]
  },
  {
   "cell_type": "code",
   "execution_count": 19,
   "metadata": {},
   "outputs": [],
   "source": [
    "# Ваш код"
   ]
  },
  {
   "cell_type": "markdown",
   "metadata": {},
   "source": [
    "16) Отобразите скрипичную диаграмму (seaborn.violinplot) кол-ва членов в семье Family_Size (ось OY) в разрезе сегментов (ось OX)\n",
    "\n",
    "**Какие выводы вы можете сделать? напишите кратко**"
   ]
  },
  {
   "cell_type": "code",
   "execution_count": 20,
   "metadata": {},
   "outputs": [],
   "source": [
    "# Ваш код"
   ]
  },
  {
   "cell_type": "markdown",
   "metadata": {},
   "source": [
    "17) **Заполнение пропусков**\n",
    "\n",
    "Заполните пропуски в признаках при помощи **группировки по Age**:\n",
    "- модой для признаков Ever_Married, Graduated, Profession, Var_1\n",
    "- медианой для признаков Work_Experience, Family_Size.\n",
    "\n",
    "Подсказки:\n",
    "- dataset[column].fillna(dataset.groupby('Age')[column].transform(function)\n",
    "\n",
    "- Как подставить моду в transform: transform(lambda x: x.mode()[0])"
   ]
  },
  {
   "cell_type": "code",
   "execution_count": 21,
   "metadata": {},
   "outputs": [],
   "source": [
    "# Ваш код"
   ]
  },
  {
   "cell_type": "markdown",
   "metadata": {},
   "source": [
    "18) Проверьте, остались ли пропуски в данных"
   ]
  },
  {
   "cell_type": "code",
   "execution_count": 22,
   "metadata": {},
   "outputs": [],
   "source": [
    "# Ваш код"
   ]
  },
  {
   "cell_type": "markdown",
   "metadata": {},
   "source": [
    "19) Построить heatmap и посмотреть на корреляцию признаков, что можно отметить?"
   ]
  },
  {
   "cell_type": "code",
   "execution_count": 23,
   "metadata": {},
   "outputs": [],
   "source": [
    "# Ваш код"
   ]
  },
  {
   "cell_type": "markdown",
   "metadata": {},
   "source": [
    "# Feature engineering"
   ]
  },
  {
   "cell_type": "markdown",
   "metadata": {},
   "source": [
    "20) Закодировать признаки **Ever_Married, Graduated, Spending_Score** при помощи цифр.\n",
    "\n",
    "учесть, что например такой признак как Spending_Score имеет нарастающие значения Low, Average, High"
   ]
  },
  {
   "cell_type": "code",
   "execution_count": 24,
   "metadata": {},
   "outputs": [],
   "source": [
    "# Ваш код"
   ]
  },
  {
   "cell_type": "markdown",
   "metadata": {},
   "source": [
    "# Modeling"
   ]
  },
  {
   "cell_type": "markdown",
   "metadata": {},
   "source": [
    "21) Разбиение данных на тренировочные тестовые\n",
    "\n",
    "- Удалить столбец ID\n",
    "- Преобразовать категориальные признаки в бинарный вид (pandas.get_dummies(drop_first=True))\n",
    "- Стандартизуйте данные (не забываем, что fit_transform для train и transform для test)\n",
    "- Закодировать целевую переменную Segmentation при помощи LabelEncoder()\n",
    "- Разделить выборку на train и test данные, используя стратификацию stratify, где test_size=0.2, а также RAND как random_state\n",
    "- Чтобы потом использовать roc_auc_score не забывайте про label_binarize() - пример был в лекции"
   ]
  },
  {
   "cell_type": "code",
   "execution_count": 25,
   "metadata": {},
   "outputs": [],
   "source": [
    "# Ваш код"
   ]
  },
  {
   "cell_type": "markdown",
   "metadata": {},
   "source": [
    "22) Обучите в качестве baseline логистическую регрессию, использовав метод из sklearn **каждый против каждого, зафиксируйте только random_state=RAND**"
   ]
  },
  {
   "cell_type": "code",
   "execution_count": 26,
   "metadata": {},
   "outputs": [],
   "source": [
    "# Ваш код"
   ]
  },
  {
   "cell_type": "markdown",
   "metadata": {},
   "source": [
    "23) Выведите матрицу ошибок в **одной строке (2 графика в одной строке в двух столбцах)** используя функцию plot_confusion_matrix() для train и test (пример в лекции).\n",
    "\n",
    "Не забывайте, что при выводе на графике исходных значений сегментов в буквенном варианте, необходимо сделать инвертирование inverse_transform()"
   ]
  },
  {
   "cell_type": "code",
   "execution_count": 27,
   "metadata": {},
   "outputs": [],
   "source": [
    "# Ваш код"
   ]
  },
  {
   "cell_type": "markdown",
   "metadata": {},
   "source": [
    "24) Какие результаты по основным метрикам вы получили на test? Что можно сказать про модель?\n",
    "\n",
    "Запишите результат в переменную metrics, используя функцию как в лекции ниже\n",
    "\n",
    "Может ли она разделять классы?"
   ]
  },
  {
   "cell_type": "code",
   "execution_count": 28,
   "metadata": {},
   "outputs": [],
   "source": [
    "def get_metrics_multiclass(y_test_bin, y_test, y_pred, y_prob, name,\n",
    "                           type_multi):\n",
    "    \"\"\"\n",
    "    y_test_bin - бинаризованные тестовые метки класса\n",
    "    y_test - метки класса без бинаризации\n",
    "    y_prob - предсказанные вероятности классов\n",
    "    name - название модели/подхода\n",
    "    type_multi - тип многоклассовой классификации для ROC-AUC (ovo/ovr)\n",
    "    \"\"\"\n",
    "\n",
    "    df_metrics = pd.DataFrame()\n",
    "\n",
    "    df_metrics['model'] = [name]\n",
    "\n",
    "    df_metrics['ROC_AUC'] = roc_auc_score(y_test_bin,\n",
    "                                          y_prob,\n",
    "                                          multi_class=type_multi)\n",
    "    df_metrics['Precision_micro'] = precision_score(y_test,\n",
    "                                                    y_pred,\n",
    "                                                    average='micro')\n",
    "    df_metrics['Precision_macro'] = precision_score(y_test,\n",
    "                                                    y_pred,\n",
    "                                                    average='macro')\n",
    "    df_metrics['Recall_micro'] = recall_score(y_test, y_pred, average='micro')\n",
    "    df_metrics['Recall_macro'] = recall_score(y_test, y_pred, average='macro')\n",
    "    df_metrics['F1_micro'] = f1_score(y_test, y_pred, average='micro')\n",
    "    df_metrics['F1_macro'] = f1_score(y_test, y_pred, average='macro')\n",
    "    df_metrics['Logloss'] = log_loss(y_test, y_prob)\n",
    "\n",
    "    return df_metrics"
   ]
  },
  {
   "cell_type": "code",
   "execution_count": 29,
   "metadata": {},
   "outputs": [],
   "source": [
    "# Ваш код"
   ]
  },
  {
   "cell_type": "markdown",
   "metadata": {},
   "source": [
    "## RandomizedSearch"
   ]
  },
  {
   "cell_type": "markdown",
   "metadata": {},
   "source": [
    "25) Найдите параметры для LogisticRegression при помощи подхода **каждый против каждого**, используя StratifiedKFold с 3 фолдами, при помощи **RandomizedSearchCV**\n",
    "\n",
    "- Метрика для поиска параметров scoring = 'f1_macro'\n",
    "- Не забывайте фиксировать random_state в StratifiedKFold, а также при поиске гиперпараметров"
   ]
  },
  {
   "cell_type": "code",
   "execution_count": 30,
   "metadata": {},
   "outputs": [],
   "source": [
    "# Ваш код"
   ]
  },
  {
   "cell_type": "markdown",
   "metadata": {},
   "source": [
    "26) Выведите наилучшие значения метрик и параметры после обучения RandomizedSearchCV"
   ]
  },
  {
   "cell_type": "code",
   "execution_count": 31,
   "metadata": {},
   "outputs": [],
   "source": [
    "# Ваш код"
   ]
  },
  {
   "cell_type": "markdown",
   "metadata": {},
   "source": [
    "27) Какие результаты по основным метрикам вы получили на test? Запишите результат в переменную metrics, используя ранее  функцию get_metrics_multiclass()\n",
    "\n",
    "Есть ли улучшения по сравнения с baseline (предыдущее обучение без подбора параметров)? \n",
    "\n",
    "**Если вы получили f1_macro меньше 0.487, то нужно тщательнее подобрать параметры для RandomizedSearchCV**"
   ]
  },
  {
   "cell_type": "code",
   "execution_count": 32,
   "metadata": {},
   "outputs": [],
   "source": [
    "# Ваш код"
   ]
  },
  {
   "cell_type": "markdown",
   "metadata": {},
   "source": [
    "28) Выведите матрицу ошибок в **одной строке (2 графика в одной строке в двух столбцах)** plot_confusion_matrix для train и test.\n",
    "\n",
    "- Не забывайте, что при выводе на графике исходных значений сегментов в буквенном варианте, необходимо сделать инвертирование inverse_transform()\n",
    "- Сделайте сравнение при помощи subplots матрицы ошибок для baseline и поиска по сетке, подпишите названия каждого графика использовать массив осей (ax)"
   ]
  },
  {
   "cell_type": "code",
   "execution_count": 33,
   "metadata": {},
   "outputs": [],
   "source": [
    "# Ваш код"
   ]
  },
  {
   "cell_type": "markdown",
   "metadata": {},
   "source": [
    "29) **Важность признаков**\n",
    "\n",
    "- Необходимо найти веса для каждого из признаков, использовав обученные модели при помощи RandomizedSearchCV в прошлом задании\n",
    "- Для вывода наилучшей модели использовать grid_cv.best_estimator_.estimators_\n",
    "- Чтобы получить веса, например, для модели под индексом 0: grid_cv.best_estimator_.estimators_[i].coef_[0]\n",
    "- Записать в новый датафрейм **feature_importance** названия признаков и соответствующее усредненное значение веса: \n",
    "    - столбец **feature** - название признака\n",
    "    - столбец **value** - среднее значение веса для этого признака и отсортировать по убыванию\n",
    "\n",
    "- Подсказка:\n",
    "\n",
    "Ко-во классификаторов для OVO  всегда четное 𝐾=𝑁(𝑁−1)/2. Поэтому необходимо усреднить значения весов по всем классификаторам."
   ]
  },
  {
   "cell_type": "code",
   "execution_count": null,
   "metadata": {},
   "outputs": [],
   "source": [
    "# Ваш код"
   ]
  }
 ],
 "metadata": {
  "hide_input": false,
  "kernelspec": {
   "display_name": "Python 3 (ipykernel)",
   "language": "python",
   "name": "python3"
  },
  "language_info": {
   "codemirror_mode": {
    "name": "ipython",
    "version": 3
   },
   "file_extension": ".py",
   "mimetype": "text/x-python",
   "name": "python",
   "nbconvert_exporter": "python",
   "pygments_lexer": "ipython3",
   "version": "3.11.4"
  },
  "toc": {
   "base_numbering": 1,
   "nav_menu": {},
   "number_sections": true,
   "sideBar": true,
   "skip_h1_title": false,
   "title_cell": "Table of Contents",
   "title_sidebar": "Contents",
   "toc_cell": false,
   "toc_position": {
    "height": "calc(100% - 180px)",
    "left": "10px",
    "top": "150px",
    "width": "201.268372px"
   },
   "toc_section_display": true,
   "toc_window_display": true
  }
 },
 "nbformat": 4,
 "nbformat_minor": 4
}
