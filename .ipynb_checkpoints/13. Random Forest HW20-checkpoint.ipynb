{
 "cells": [
  {
   "cell_type": "code",
   "execution_count": 1,
   "metadata": {},
   "outputs": [],
   "source": [
    "import pandas as pd"
   ]
  },
  {
   "cell_type": "markdown",
   "metadata": {},
   "source": [
    "Это набор данных из одного банка в Соединенных Штатах. Помимо обычных услуг, этот банк также предоставляет услуги по страхованию автомобилей. Банк регулярно организует кампании по привлечению новых клиентов. У банка есть данные потенциальных клиентов, и сотрудники банка звонят им для рекламы доступных вариантов страхования автомобилей. Нам предоставляется общая информация о клиентах (возраст, работа и т.д.), А также более конкретная информация о текущей кампании по продаже страховых услуг (общение, последний день контакта) и предыдущих кампаниях (такие атрибуты, как предыдущие попытки, результат).\n",
    "У вас есть данные о 4000 клиентах, с которыми связывались во время последней кампании и для которых известны результаты кампании (купил клиент страховку или нет).\n",
    "\n",
    "Задача состоит в том, чтобы написать модель, которая будет предсказывать для клиентов, с которыми связались во время текущей кампании, **будут ли они покупать страховку автомобиля или нет**.\n",
    "\n",
    "\n",
    "**Атрибуты**:\n",
    "\n",
    "- Id - уникальный идентификатор клиента\n",
    "- Age - Возраст\n",
    "- Job - Работа\n",
    "- Marital - Семейное положение\n",
    "- Education - Образование\n",
    "- Default - Имеет ли кредит по умолчанию?\n",
    "- Balance - Среднегодовой баланс, в долларах США\n",
    "- HHInsurance - Застраховано ли домашнее хозяйство\n",
    "- CarLoan - Имеет ли клиент автокредит\n",
    "- Communication - Тип контактной связи\n",
    "- LastContactDay - День последнего контакта\n",
    "- LastContactMonth - Месяц последнего контакта\n",
    "- NoOfContacts - Количество контактов, выполненных в ходе этой кампании для данного клиента\n",
    "- DaysPassed - Количество дней, прошедших с момента последнего контакта с клиентом из предыдущей кампании (числовое значение; -1 означает, что с клиентом ранее не связывались)\n",
    "- PrevAttempts - Количество контактов, выполненных до этой кампании и для данного клиента\n",
    "- Outcome - Результаты предыдущей маркетинговой кампании\n",
    "- CallStart - Время начала последнего звонка\n",
    "- CallEnd - Время конца последнего звонка\n",
    "- CarInsurance - Оформил ли клиент страховку автомобиля?\n",
    "\n",
    "**Установите с самом начале (в качестве random_state) RAND=10**"
   ]
  },
  {
   "cell_type": "markdown",
   "metadata": {},
   "source": [
    "# Import data"
   ]
  },
  {
   "cell_type": "markdown",
   "metadata": {},
   "source": [
    "1) Прочитать файл carInsurance_train.csv и записать в переменную ```df```"
   ]
  },
  {
   "cell_type": "code",
   "execution_count": 2,
   "metadata": {},
   "outputs": [],
   "source": [
    "df = pd.read_csv('orders.csv', parse_dates=['date'])"
   ]
  },
  {
   "cell_type": "markdown",
   "metadata": {},
   "source": [
    "2) Вывести общую информацию о датасете при помощи метода ```info()```, а также основные описательные статистики для числовых и категориальных признаков"
   ]
  },
  {
   "cell_type": "code",
   "execution_count": null,
   "metadata": {},
   "outputs": [],
   "source": [
    "# Ваш код"
   ]
  },
  {
   "cell_type": "markdown",
   "metadata": {},
   "source": [
    "# EDA"
   ]
  },
  {
   "cell_type": "markdown",
   "metadata": {},
   "source": [
    "3) Посмотрите на целевую переменную **CarInsurance**, есть ли дисбаланс классов? Отобразите на графике процентное содержание объектов в каждом классе (пример в лекции по EDA)"
   ]
  },
  {
   "cell_type": "code",
   "execution_count": null,
   "metadata": {},
   "outputs": [],
   "source": [
    "# Ваш код"
   ]
  },
  {
   "cell_type": "markdown",
   "metadata": {},
   "source": [
    "4) При помощи признака **CallEnd** создать новый признак **time_of_day** - сутки, где:\n",
    "- Если значение в CallEnd больше или равно 12 часам, то значение в признаке ```time_of_day='Afternoon'```\n",
    "- Иначе ```'Morning'```\n",
    "\n",
    "Подсказка: можно преобразовать признак CallEnd при помощи ```pd.to_datetime``` (используйте часы из даты!), далее использовать``` transform``` и ```lambda```, сделать это можно в одной строке."
   ]
  },
  {
   "cell_type": "code",
   "execution_count": null,
   "metadata": {},
   "outputs": [],
   "source": [
    "# Ваш код"
   ]
  },
  {
   "cell_type": "markdown",
   "metadata": {},
   "source": [
    "5) Создайте новый признак **call_duration** - длительность последнего звонка **в секундах** тип ```int```, должно быть положительное значение!\n",
    "\n",
    "- использовать для вычисления **call_duration** признаки **CallEnd** и **CallStart** (подсказка ```pd.to_datetime``` и далее для вычисления секунд ```transform``` с ```lambda```)\n",
    "- после чего **удалите признаки CallEnd и CallStart**"
   ]
  },
  {
   "cell_type": "code",
   "execution_count": null,
   "metadata": {},
   "outputs": [],
   "source": [
    "# Ваш код"
   ]
  },
  {
   "cell_type": "markdown",
   "metadata": {},
   "source": [
    "6) Создайте признаки:\n",
    "\n",
    "- **Age_bins** - на основе признака Age при помощи функции ```get_bins_age()``` ниже\n",
    "- **Balance_bins** - на основе признака Balance при помощи функции ```get_bins_balance()``` ниже"
   ]
  },
  {
   "cell_type": "code",
   "execution_count": null,
   "metadata": {},
   "outputs": [],
   "source": [
    "def get_bins_age(data: int) -> str:\n",
    "    \"\"\"\n",
    "    Генерация бинов для признака \"возраст\"\n",
    "    \"\"\"\n",
    "    if isinstance(data, (int, float)):\n",
    "        if data <= 35:\n",
    "            return 'young'\n",
    "        elif 35 < data <= 55:\n",
    "            return 'middle-aged'\n",
    "        elif data > 55:\n",
    "            return 'older'"
   ]
  },
  {
   "cell_type": "code",
   "execution_count": null,
   "metadata": {},
   "outputs": [],
   "source": [
    "def get_bins_balance(data: int) -> str:\n",
    "    \"\"\"\n",
    "    Генерация бинов для признака \"доход/зарплата\"\n",
    "    \"\"\"\n",
    "    if isinstance(data, (int, float)):\n",
    "        if data <= 1000:\n",
    "            return 'low'\n",
    "        elif 1000 < data <= 5000:\n",
    "            return 'middle'\n",
    "        elif data > 5000:\n",
    "            return 'high'"
   ]
  },
  {
   "cell_type": "code",
   "execution_count": null,
   "metadata": {},
   "outputs": [],
   "source": [
    "# Ваш код"
   ]
  },
  {
   "cell_type": "markdown",
   "metadata": {},
   "source": [
    "7) Проверьте, есть ли пропуски? Если есть заполните ```'None'``` - для object и медианой для числовых данных"
   ]
  },
  {
   "cell_type": "code",
   "execution_count": null,
   "metadata": {},
   "outputs": [],
   "source": [
    "# Ваш код"
   ]
  },
  {
   "cell_type": "markdown",
   "metadata": {},
   "source": [
    "8) Преобразуйте категориальные данные в бинарные при помощи ```pd.get_dummies()```, а также удалите колонку **'Id'**. Запишите результат в новую переменную ```df_label```\n",
    "\n",
    "Параметр ```drop_first``` использовать не нужно! "
   ]
  },
  {
   "cell_type": "code",
   "execution_count": null,
   "metadata": {},
   "outputs": [],
   "source": [
    "# Ваш код"
   ]
  },
  {
   "cell_type": "markdown",
   "metadata": {},
   "source": [
    "# Modeling"
   ]
  },
  {
   "cell_type": "markdown",
   "metadata": {},
   "source": [
    "9) Разделите выборку на train и test данные. Используйте стратификацию stratify, test_size=0.2, а также фиксацию random_state. Целевая переменная **CarInsurance**"
   ]
  },
  {
   "cell_type": "code",
   "execution_count": null,
   "metadata": {},
   "outputs": [],
   "source": [
    "# Ваш код"
   ]
  },
  {
   "cell_type": "markdown",
   "metadata": {},
   "source": [
    "## Baseline"
   ]
  },
  {
   "cell_type": "markdown",
   "metadata": {},
   "source": [
    "10) Обучение бейзлайнов:\n",
    "\n",
    "- Обучите бейзлайны **BaggingClassifier** и **RandomForestlassifier**, не забудьте везде зафиксировать random_state\n",
    "- Добавьте **для каждого алгоритма** результаты в датасет с метриками, датасет с метриками сохраните в переменную ```metrics```\n",
    "- Сравните результаты по метрикам\n",
    "- Проверьте, не переобучились ли модели\n",
    "\n",
    "**Внимание!**\n",
    "\n",
    "Baseline - модель с параметрами по умолчанию!!! Можно зафиксировать только random_state"
   ]
  },
  {
   "cell_type": "code",
   "execution_count": null,
   "metadata": {},
   "outputs": [],
   "source": [
    "# Ваш код"
   ]
  },
  {
   "cell_type": "code",
   "execution_count": null,
   "metadata": {},
   "outputs": [],
   "source": [
    "metrics = "
   ]
  },
  {
   "cell_type": "markdown",
   "metadata": {},
   "source": [
    "## GridSearchCV"
   ]
  },
  {
   "cell_type": "markdown",
   "metadata": {},
   "source": [
    "11) Выберите лучший бейзлайн (алгоритм) и найдите лучшие параметры помощи Gridsearch, также используйте кросс-валидацию со стратификацией внутри ```GridSearchCV``` на 3 фолдах. \n",
    "\n",
    "**Подсказка:** возьмите 100 деревьев, так как датасет небольшой\n",
    "\n",
    "Находить параметры вы можете долго ~ 10-30 минут, поставьте n_jobs=-1, чтобы алгоритм быстрее обучался "
   ]
  },
  {
   "cell_type": "code",
   "execution_count": null,
   "metadata": {},
   "outputs": [],
   "source": [
    "# Ваш код"
   ]
  },
  {
   "cell_type": "markdown",
   "metadata": {},
   "source": [
    "## Learn model with best params (holdout)"
   ]
  },
  {
   "cell_type": "markdown",
   "metadata": {},
   "source": [
    "12) Обучение выбранную ранее модель на лучших параметрах\n",
    "\n",
    "- Далее используйте кросс-валидацию со стратификацией **StratifiedKFold с 3мя фолдами**\n",
    "- Не забудьте для StratifiedKFold зафиксировать **random_state**\n",
    "- Подайте на вход выбранной ранее модели **лучшие параметры**, полученные путем поиска по сетке\n",
    "- В качестве метрики возьмите **ROC_AUC**\n",
    "- На каждом фолде подсчитать значение **ROC-AUC на validation** данных и **вывести**\n",
    "- Выведите по итогу **среднее значение ROC-AUC** полученное на всех фолдах"
   ]
  },
  {
   "cell_type": "code",
   "execution_count": null,
   "metadata": {},
   "outputs": [],
   "source": [
    "# Ваш код"
   ]
  },
  {
   "cell_type": "markdown",
   "metadata": {},
   "source": [
    "13) Получите **предсказанные значения на Holdout** данных при помощи усреднения значений (для вероятностй) и моды (для меток классов), полученных при обучении на фолдах\n",
    "\n",
    "**Сравните** результат ROC-AUC на validation (OOF) и на test данных (Holdout)"
   ]
  },
  {
   "cell_type": "code",
   "execution_count": null,
   "metadata": {},
   "outputs": [],
   "source": [
    "# Ваш код"
   ]
  },
  {
   "cell_type": "markdown",
   "metadata": {},
   "source": [
    "14) Добавьте в датасет с метриками ```metrics``` результаты обучения модели с **StratifiedKFold на Holdout данных**.\n",
    "\n",
    "Где вы получили самые наилучшие результаты?"
   ]
  },
  {
   "cell_type": "code",
   "execution_count": null,
   "metadata": {},
   "outputs": [],
   "source": [
    "# Ваш код"
   ]
  },
  {
   "cell_type": "markdown",
   "metadata": {},
   "source": [
    "**Если вы получили ROC-AUC на Holdout меньше 0.92, то нужно тщательнее подобрать параметры в GridSearchCV, иначе работа не будет засчитана**"
   ]
  },
  {
   "cell_type": "markdown",
   "metadata": {},
   "source": [
    "# Feature importance"
   ]
  },
  {
   "cell_type": "markdown",
   "metadata": {},
   "source": [
    "15) Важные признаки\n",
    "\n",
    "- Чтобы нам было чуть проще, обучите выбранную модель из **12 задания** на наилучших подобранных для нее параметрах, **кросс-валидация не нужна**\n",
    "- Выведите feature importance для лучшего алгоритма с подобранными параметрами 2-мя способами:\n",
    "    - **Permutation Importance**\n",
    "    - Библиотеку **SHAP** (подсказка, можно рассмотреть только для одного класса ```shap_values[:, :, 1]``` - 1ый класс) \n",
    "- Какие первые три признака оказывают наибольшее влияние на то, что клиент оформит/не оформит страховку?"
   ]
  },
  {
   "cell_type": "code",
   "execution_count": null,
   "metadata": {},
   "outputs": [],
   "source": [
    "# Ваш код"
   ]
  },
  {
   "cell_type": "markdown",
   "metadata": {},
   "source": [
    "# Задание со звездочкой"
   ]
  },
  {
   "cell_type": "markdown",
   "metadata": {},
   "source": [
    "16) Попробуйте изучить первые ТОП-5 признаков (можно permutation использовать, либо shap) из задания 15 при помощи различных графиков. Лучше НЕ использовать бинаризованный датасет для анализа различных значений в признаке.\n",
    "\n",
    "Сделайте **выводы** на основании графиков и дайте **рекомендации бизнесу** (написать в 3-4 предложениях) по тому, на каких клиентов стоит обратить внимание, либо на какие-то аспекты в работе (зависит от набора признаков)"
   ]
  },
  {
   "cell_type": "code",
   "execution_count": null,
   "metadata": {},
   "outputs": [],
   "source": [
    "# Ваш код"
   ]
  }
 ],
 "metadata": {
  "hide_input": false,
  "kernelspec": {
   "display_name": "Python 3 (ipykernel)",
   "language": "python",
   "name": "python3"
  },
  "language_info": {
   "codemirror_mode": {
    "name": "ipython",
    "version": 3
   },
   "file_extension": ".py",
   "mimetype": "text/x-python",
   "name": "python",
   "nbconvert_exporter": "python",
   "pygments_lexer": "ipython3",
   "version": "3.11.4"
  },
  "toc": {
   "base_numbering": 1,
   "nav_menu": {},
   "number_sections": true,
   "sideBar": true,
   "skip_h1_title": false,
   "title_cell": "Table of Contents",
   "title_sidebar": "Contents",
   "toc_cell": false,
   "toc_position": {
    "height": "calc(100% - 180px)",
    "left": "10px",
    "top": "150px",
    "width": "165px"
   },
   "toc_section_display": true,
   "toc_window_display": true
  }
 },
 "nbformat": 4,
 "nbformat_minor": 4
}
