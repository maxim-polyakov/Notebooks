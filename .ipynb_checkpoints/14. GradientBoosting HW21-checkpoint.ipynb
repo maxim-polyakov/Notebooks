{
 "cells": [
  {
   "cell_type": "code",
   "execution_count": 1,
   "metadata": {},
   "outputs": [],
   "source": [
    "import pandas as pd"
   ]
  },
  {
   "cell_type": "markdown",
   "metadata": {},
   "source": [
    "Спрогнозируйте вероятность того, что кандидат будет работать на компанию\n",
    "\n",
    "\n",
    "**Атрибуты**:\n",
    "\n",
    "- enrolle_id - Уникальный идентификатор кандидата\n",
    "- city - Код города\n",
    "- city_ development _index - Индекс развития города (масштабированный)\n",
    "- gender - пол кандидата\n",
    "- relevent_experience - релевантный опыт кандидата\n",
    "- enrolled_university - тип обучения в университете (если был)\n",
    "- education_level - уровень образования кандидата\n",
    "- major_discipline - основная специальность по образованию\n",
    "- experience - общий стаж кандидата в годах\n",
    "- company_size - размер компании в работниках\n",
    "- company_type - тип работодателя\n",
    "- lastnewjob - дельта в годах между предыдущей и текущей работах\n",
    "- training_hours - кол-во завершенных часов обучения\n",
    "- target 0 – Не ищу новую работу\n",
    "- target 1 – Ищу новую работу\n",
    "\n",
    "**Установите с самом начале (в качестве random_state) RAND=10**"
   ]
  },
  {
   "cell_type": "code",
   "execution_count": 2,
   "metadata": {},
   "outputs": [],
   "source": [
    "RAND = 10\n",
    "N_FOLDS = 5"
   ]
  },
  {
   "cell_type": "markdown",
   "metadata": {},
   "source": [
    "# Import data"
   ]
  },
  {
   "cell_type": "markdown",
   "metadata": {},
   "source": [
    "1) Прочитать файл aug_train.csv и записать в переменную `df`"
   ]
  },
  {
   "cell_type": "code",
   "execution_count": 3,
   "metadata": {},
   "outputs": [],
   "source": [
    "df = pd.read_csv('aug_train.csv')"
   ]
  },
  {
   "cell_type": "markdown",
   "metadata": {},
   "source": [
    "# EDA"
   ]
  },
  {
   "cell_type": "markdown",
   "metadata": {},
   "source": [
    "2) Замените в значениях признаках `last_new_job`, `experience` и `company_size`:\n",
    "    \n",
    "- символ '>' на 'more_'\n",
    "- символ '<' на 'less_'\n",
    "\n",
    "\n",
    "Лучше всего написать функцию и далее применить ее к признаку при помощи `map()`"
   ]
  },
  {
   "cell_type": "code",
   "execution_count": null,
   "metadata": {},
   "outputs": [],
   "source": [
    "# пример функции\n",
    "\n",
    "def replace_more_less(text):\n",
    "    \"\"\"Преобразование more less\"\"\"\n",
    "    # Ваш код"
   ]
  },
  {
   "cell_type": "code",
   "execution_count": null,
   "metadata": {},
   "outputs": [],
   "source": [
    "# Ваш код"
   ]
  },
  {
   "cell_type": "markdown",
   "metadata": {},
   "source": [
    "3) Вывести общую информацию о датасете при помощи метода `info()`, а также основные описательные статистики для числовых и категориальных признаков"
   ]
  },
  {
   "cell_type": "code",
   "execution_count": null,
   "metadata": {
    "scrolled": true
   },
   "outputs": [],
   "source": [
    "# Ваш код"
   ]
  },
  {
   "cell_type": "markdown",
   "metadata": {},
   "source": [
    "4) Посмотрите на целевую переменную `target`, есть ли дисбаланс классов? Отобразите на графике процентное содержание объектов в каждом классе (пример в лекции по EDA) "
   ]
  },
  {
   "cell_type": "code",
   "execution_count": null,
   "metadata": {},
   "outputs": [],
   "source": [
    "# Ваш код"
   ]
  },
  {
   "cell_type": "markdown",
   "metadata": {},
   "source": [
    "5) Сравнить при помощи `displot` значение индекса города для тех кто ищет и кто не ищет работу (похожее задание было в ДЗ EDA). Есть ли разница?\n",
    "\n",
    "Не забывайте про `common_norm=False`"
   ]
  },
  {
   "cell_type": "code",
   "execution_count": null,
   "metadata": {},
   "outputs": [],
   "source": [
    "# Ваш код"
   ]
  },
  {
   "cell_type": "markdown",
   "metadata": {},
   "source": [
    "6) Сравнить при помощи `displot` кол-во завершенных часов обучения для тех кто ищет и кто не ищет работу (похожее задание было в ДЗ EDA). Есть ли разница?\n",
    "\n",
    "Не забывайте про `common_norm=False`"
   ]
  },
  {
   "cell_type": "code",
   "execution_count": null,
   "metadata": {},
   "outputs": [],
   "source": [
    "# Ваш код"
   ]
  },
  {
   "cell_type": "markdown",
   "metadata": {},
   "source": [
    "7) Построить график `boxplot` для такого параметра как `city_development_index` (по OY) в разрезе `relevent_experience` (по OX), сравнив все эти показатели относительно `target` (hue).\n",
    "\n",
    "Что можно сказать, глядя на график?"
   ]
  },
  {
   "cell_type": "code",
   "execution_count": null,
   "metadata": {},
   "outputs": [],
   "source": [
    "# Ваш код"
   ]
  },
  {
   "cell_type": "markdown",
   "metadata": {},
   "source": [
    "8) Отобразите на одном графике долю людей, которые ищут/не ищут работу, в разрезе по каждого признака из списка ниже:\n",
    "\n",
    "`['gender', 'relevent_experience', 'enrolled_university', 'education_level', 'major_discipline', 'experience', 'company_size', 'company_type', 'last_new_job']`\n",
    "\n",
    "- Можно написать отдельный метод (будет выводить вам график), в который вы будете подавать датасет, колонку_1 для анализа (список выше), колонку_2 - `target`\n",
    "- Графики можно вывести в цикле путем прохождения по списку признаков выше и подачи их в метод для построения графиков\n",
    "- Каждое уникальное значение признака вы должны рассматривать в разрезе `target`, с учетом этого нормирование должно быть на кол-во объектов в `target`\n",
    "- Не забудьте указать цифры (%) на графике для каждого бара, как это делалось ранее\n",
    "- **Какие выводы** вы можете сделать? напишите кратко\n",
    "\n",
    "**Пример:**\n",
    "\n",
    "- Всего человек 100\n",
    "    - Из них искало работу (target=1) = 30\n",
    "        - мужчин = 20 -> 20/30*100% = `67%`\n",
    "        - женщин = 10 -> 10/30*100% = `33%`\n",
    "    - Из них не искало работу (target=0) = 70\n",
    "        - мужчин = 20 -> 20/70*100% = `28%`\n",
    "        - женщин = 50 -> 50/70*100% = `72%`\n",
    "        \n",
    "**Подсказка:**\n",
    "- `groupby` + `value_counts(normalize=True)`"
   ]
  },
  {
   "cell_type": "code",
   "execution_count": null,
   "metadata": {},
   "outputs": [],
   "source": [
    "# Ваш код"
   ]
  },
  {
   "cell_type": "markdown",
   "metadata": {},
   "source": [
    "9) Сгенерируйте дополнительные признаки (бины), добавьте их в датасет, использовать метод `pandas.cut()`:\n",
    "\n",
    "- `city_development_bins` - на основе признака `city_development_index`, параметры:\n",
    "    - `bins=[0, 0.5, 0.6, 1], right=True, labels=['low', 'middle', 'high']`\n",
    "\n",
    "\n",
    "- `training_hours_bins` - на основе признака `training_hours`, параметры:\n",
    "    - `bins=[0, 50, 200, 500], right=True, labels=['low', 'middle', 'high']`"
   ]
  },
  {
   "cell_type": "code",
   "execution_count": null,
   "metadata": {},
   "outputs": [],
   "source": [
    "# Ваш код"
   ]
  },
  {
   "cell_type": "markdown",
   "metadata": {},
   "source": [
    "10) Заполните пропуски в датасете"
   ]
  },
  {
   "cell_type": "code",
   "execution_count": null,
   "metadata": {},
   "outputs": [],
   "source": [
    "# Ваш код"
   ]
  },
  {
   "cell_type": "markdown",
   "metadata": {},
   "source": [
    "11) Перевести признаки типа `object` в категориальный тип данных"
   ]
  },
  {
   "cell_type": "code",
   "execution_count": null,
   "metadata": {},
   "outputs": [],
   "source": [
    "# Ваш код"
   ]
  },
  {
   "cell_type": "markdown",
   "metadata": {},
   "source": [
    "# Modeling\n",
    "## XGBoost\n",
    "### Baseline\n",
    "\n",
    "12) Обучите Baseline XGBoost:\n",
    "\n",
    "- с ранней остановкой `early_stopping_rounds`\n",
    "- предварительно разбейте данные на train/validation/test (**бинаризуйте категориальный признаки**)\n",
    "    - как пример без создания новой переменной: ```X = pd.get_dummies(df.drop(['enrollee_id', 'target'], axis=1))```\n",
    "- если ваша версия xgboost позволяет обрабатывать категориальные признаки, то используйте датасет с category признаками\n",
    "- не забывайте про фиксацию `random_state`\n",
    "- не забываем про `stratify`\n",
    "- в качесте `eval_metric` возьмите \"auc\"\n",
    "- также учесть, что у вас дисбаланс классов (использовать `scale_pos_weight`)\n",
    "- добавьте результаты в датасет с метриками - **metrics**\n",
    "- проверьте, не **переобучилась** ли модель\n",
    "\n",
    "Аккуратно вычисляйте scale_pos_weight, ручной способ не использовать!"
   ]
  },
  {
   "cell_type": "code",
   "execution_count": null,
   "metadata": {},
   "outputs": [],
   "source": [
    "# Ваш код"
   ]
  },
  {
   "cell_type": "markdown",
   "metadata": {},
   "source": [
    "## LightGBM\n",
    "### Baseline\n",
    "\n",
    "13) Обучите Baseline LightGBM:\n",
    "\n",
    "- с ранней остановкой `early_stopping_rounds`\n",
    "- предварительно разбейте данные на train/validation/test - **для категориальный данных**, то есть прошлые разбиения для XGBoost не используем!\n",
    "- не забывайте про фиксацию random_state\n",
    "- в качесте `eval_metric` возьмите \"auc\"\n",
    "- также учесть, что у вас дисбаланс классов (использовать `scale_pos_weight`)\n",
    "- добавьте результаты в датасет с метриками - metrics\n",
    "- проверьте, не **переобучилась** ли модель"
   ]
  },
  {
   "cell_type": "code",
   "execution_count": null,
   "metadata": {},
   "outputs": [],
   "source": [
    "# Ваш код"
   ]
  },
  {
   "cell_type": "markdown",
   "metadata": {},
   "source": [
    "## Catboost\n",
    "### baseline\n",
    "\n",
    "14) Обучите Baseline Catboost:\n",
    "\n",
    "- с ранней остановкой `early_stopping_rounds`\n",
    "- Можно использовать разбиения train/validation/test на предыдущей итерации в LightGBM\n",
    "- не забывайте про фиксацию `random_state`\n",
    "- в качесте `eval_metric` возьмите \"AUC\" (подается в экземпляр класса)\n",
    "- также учесть, что у вас дисбаланс классов (использовать `scale_pos_weight`)\n",
    "- добавьте результаты в датасет с метриками - metrics\n",
    "- проверьте, не **переобучилась** ли модель"
   ]
  },
  {
   "cell_type": "code",
   "execution_count": null,
   "metadata": {},
   "outputs": [],
   "source": [
    "# Ваш код"
   ]
  },
  {
   "cell_type": "markdown",
   "metadata": {},
   "source": [
    "# Tuning"
   ]
  },
  {
   "cell_type": "markdown",
   "metadata": {},
   "source": [
    "15) Выберите лучший Baseline:\n",
    "    \n",
    "- найдите для него оптимальные параметры (лучше всего использовать Optuna, можно также RandomSearch, но для Catboost точно RandomSearch)\n",
    "- показатели на тесте должны **быть лучшими среди предыдущих результатов** (ориентируемся на ROC-AUC)\n",
    "- можете также попробовать использовать pruning в Optuna\n",
    "- обучите модель на лучших параметрах (пока без использования кросс-валидации)\n",
    "- добавьте результаты в датасет с метриками - metrics"
   ]
  },
  {
   "cell_type": "markdown",
   "metadata": {},
   "source": [
    "## Catboost"
   ]
  },
  {
   "cell_type": "code",
   "execution_count": null,
   "metadata": {},
   "outputs": [],
   "source": [
    "# Ваш код"
   ]
  },
  {
   "cell_type": "markdown",
   "metadata": {},
   "source": [
    "# Holdout\n",
    "\n",
    "16) Обучите выбранный ранее алгоритм из 15 задания, используя кросс-валидацию\n",
    "\n",
    "- Проанализируйте метрики на OOF и Holdout\n",
    "- Добавьте в датасет с метриками результаты на Holdout данных\n",
    "\n",
    "Удалось ли улучшить показатели по сравнению с бейзлайном?"
   ]
  },
  {
   "cell_type": "code",
   "execution_count": null,
   "metadata": {},
   "outputs": [],
   "source": [
    "# Ваш код"
   ]
  }
 ],
 "metadata": {
  "hide_input": false,
  "kernelspec": {
   "display_name": "Python 3 (ipykernel)",
   "language": "python",
   "name": "python3"
  },
  "language_info": {
   "codemirror_mode": {
    "name": "ipython",
    "version": 3
   },
   "file_extension": ".py",
   "mimetype": "text/x-python",
   "name": "python",
   "nbconvert_exporter": "python",
   "pygments_lexer": "ipython3",
   "version": "3.11.4"
  },
  "toc": {
   "base_numbering": 1,
   "nav_menu": {},
   "number_sections": true,
   "sideBar": true,
   "skip_h1_title": false,
   "title_cell": "Table of Contents",
   "title_sidebar": "Contents",
   "toc_cell": false,
   "toc_position": {
    "height": "501px",
    "left": "43px",
    "top": "110px",
    "width": "220.3125px"
   },
   "toc_section_display": true,
   "toc_window_display": true
  }
 },
 "nbformat": 4,
 "nbformat_minor": 4
}
