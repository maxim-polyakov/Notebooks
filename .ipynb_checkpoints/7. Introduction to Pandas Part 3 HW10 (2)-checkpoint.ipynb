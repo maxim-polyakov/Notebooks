{
 "cells": [
  {
   "cell_type": "markdown",
   "metadata": {},
   "source": [
    "# Pandas. Доверительный интервал. Меры различий"
   ]
  },
  {
   "cell_type": "code",
   "execution_count": null,
   "metadata": {},
   "outputs": [],
   "source": [
    "# ваш импорт"
   ]
  },
  {
   "cell_type": "markdown",
   "metadata": {},
   "source": [
    "1) Загрузка и первичная предобработка\n",
    "\n",
    "- Загрузить данные **orders.csv** и **visitors.csv** в датафреймы и записать в соответвующие переменные **orders** и **visitors**\n",
    "- При считывании обоих файлов при помощи read_csv() установите параметр parse_dates=['date'] для перевода даты из типа str в Timestamp\n",
    "- Удалить пересечения по клиентам (visitorId) в группе A и B (код можно взять из лекции, таблицу visitors не трогать в этом случае!) и записать результат в переменную **orders**\n",
    "\n",
    "ВСЕ ПРИМЕРЫ ЕСТЬ В ЛЕКЦИИ"
   ]
  },
  {
   "cell_type": "code",
   "execution_count": null,
   "metadata": {},
   "outputs": [],
   "source": [
    "# ваш код\n",
    "orders = \n",
    "visitors = "
   ]
  },
  {
   "cell_type": "code",
   "execution_count": null,
   "metadata": {},
   "outputs": [],
   "source": [
    "# ваш код\n",
    "orders = "
   ]
  },
  {
   "cell_type": "markdown",
   "metadata": {},
   "source": [
    "2) Создать новую таблицу **orders_group**, произведя группировку таблицы **orders** по полям 'date', 'group' и подсчитав: \n",
    "- кол-во уникальных транзакций\n",
    "- кол-во уникальных клиентов\n",
    "- сумму прибыли revenue \n",
    "\n",
    "Далее объединить получившийся датасет после группировки с таблицей **visitors** по полям 'date' и 'group' и записать в переменную **orders_group**\n",
    "\n",
    "ВСЕ ПРИМЕРЫ ЕСТЬ В ЛЕКЦИИ"
   ]
  },
  {
   "cell_type": "code",
   "execution_count": null,
   "metadata": {},
   "outputs": [],
   "source": [
    "# ваш код\n",
    "orders_group = "
   ]
  },
  {
   "cell_type": "markdown",
   "metadata": {},
   "source": [
    "3) Создайте новую колонку **purchase_mean** в таблице **orders_group** - средний чек, разделив сумму дохода на кол-во уникальных транзакци (пример в лекции)"
   ]
  },
  {
   "cell_type": "code",
   "execution_count": null,
   "metadata": {},
   "outputs": [],
   "source": [
    "# ваш код"
   ]
  },
  {
   "cell_type": "markdown",
   "metadata": {},
   "source": [
    "4) Создайте две переменные **orders_group_a** и **orders_group_b**, куда запишите данные группы А и группы B соответственно (пример в лекции)"
   ]
  },
  {
   "cell_type": "code",
   "execution_count": null,
   "metadata": {},
   "outputs": [],
   "source": [
    "# ваш код\n",
    "orders_group_a = \n",
    "orders_group_b = "
   ]
  },
  {
   "cell_type": "markdown",
   "metadata": {},
   "source": [
    "5) Построить графики распределений (histplot) среднего чека отдельно для A и B групп.\n",
    "\n",
    "Отобразить графики **в ОДНОЙ строке, но в РАЗНЫХ столбцах и с РАЗНЫМИ цветами**"
   ]
  },
  {
   "cell_type": "code",
   "execution_count": null,
   "metadata": {},
   "outputs": [],
   "source": [
    "# ваш код"
   ]
  },
  {
   "cell_type": "markdown",
   "metadata": {},
   "source": [
    "6) Проверка на нормальность:\n",
    "\n",
    "- Напишите функцию **check_normal()** для проверки на нормальность по критерию Шапиро-Уилка, которая будет выводить **относится ли распределение к нормальному или не**т, а также **выводить значение p-value с 3мя знаками после запятой**\n",
    "\n",
    "- Проверьте распределения среднего чека (признак purchase_mean) **для группы A** на нормальность, используя написанную функцию\n",
    "- Проверьте распределения среднего чека (признак purchase_mean) **для группы B** на нормальность, используя написанную функцию"
   ]
  },
  {
   "cell_type": "code",
   "execution_count": null,
   "metadata": {},
   "outputs": [],
   "source": [
    "# ваш код"
   ]
  },
  {
   "cell_type": "markdown",
   "metadata": {},
   "source": [
    "7) Напишите функцию **get_interval()** (пока без применения), которая бы:\n",
    "\n",
    "- вычисляла доверительный интервал **при помощи z критерия** при известной дисперсии (использовать дисперсию при вычислении, которую будете подавать на вход функции)\n",
    "- вычисляла доверительный интервал **при помощи t-критерия**, если дисперсия неизвестна\n",
    "- выводила как и сам интервал, так и условие: известна дисперсия, либо не известна\n",
    "- также нужно учесть, что функция должна принимать на вход:\n",
    "    - данные\n",
    "    - дисперсию (при известной дисперсии) - по умолчанию = None\n",
    "    - уровень доверия, по умолчанию $\\beta=0.95$ **здесь аккуратнее!!** см в лекции почему\n",
    "    \n",
    "У вас должна получиться **ОДНА функция**, которая вычисляет интервал для разных случаев"
   ]
  },
  {
   "cell_type": "code",
   "execution_count": null,
   "metadata": {},
   "outputs": [],
   "source": [
    "# ваш код"
   ]
  },
  {
   "cell_type": "markdown",
   "metadata": {},
   "source": [
    "8) Найти доверительные интервалы **для каждой из групп A и B по отдельности** при помощи написанной функции **get_interval()** из задания №7 для признака **purchase_mean** при уровне доверия $\\beta=0.99$!!!:\n",
    "   - при известной дисперсии\n",
    "\n",
    "- За известную дисперсию возьмите значение для группы A = 11088900\n",
    "- За известную дисперсию возьмите значение для группы B = 122102500\n",
    "\n",
    "\n",
    "**Будьте внимательны**, так как в лекции брали пример с 95%, то с каждой стороны мы брали по 2.5%"
   ]
  },
  {
   "cell_type": "code",
   "execution_count": null,
   "metadata": {},
   "outputs": [],
   "source": [
    "# ваш код"
   ]
  },
  {
   "cell_type": "markdown",
   "metadata": {},
   "source": [
    "9) Найти доверительные интервалы **для каждой из групп A и B по отдельности** при помощи написанной функции **get_interval()** из задания №7 для признака **purchase_mean** для $\\beta=0.99$!!!:\n",
    "   - при неизвестной дисперсии\n",
    "   \n",
    "**Будьте внимательны**, так как в лекции брали пример с 95%, то с каждой стороны мы брали по 2.5%"
   ]
  },
  {
   "cell_type": "code",
   "execution_count": null,
   "metadata": {},
   "outputs": [],
   "source": [
    "# ваш код"
   ]
  },
  {
   "cell_type": "markdown",
   "metadata": {},
   "source": [
    "10) Написать функцию **bootstrap_interval()** (пока без применения) для вычисления интервала как из задания №7, но теперь только с использованием **Bootstrap**\n",
    "\n",
    "- функция должна принимать:\n",
    "    - данные\n",
    "    - функцию для усреднения (среднее, медиана и тд), по умолчанию np.mean\n",
    "    - уровень доверия, по умолчанию $\\beta=0.95$ \n",
    "- вам уже дана функция из лекции bootstrap_resample(), вы ее можете **вызывать вннутри** bootstrap_interval() для генерации выборок \n",
    "- необходимо, чтобы функция **возвращала доверительный интервал**\n",
    "\n",
    "**ВАЖНО:**\n",
    "Описывать внутри вашей функции функцию bootstrap_resample() НЕ НУЖНО!"
   ]
  },
  {
   "cell_type": "code",
   "execution_count": null,
   "metadata": {},
   "outputs": [],
   "source": [
    "def bootstrap_resample(data: pd.Series,\n",
    "                       function: Callable,\n",
    "                       count_generate: int = 1000,\n",
    "                       random_state: int = 10) -> list:\n",
    "    \"\"\"\n",
    "    Bootstrap\n",
    "    \"\"\"\n",
    "    sample_size = len(data)\n",
    "    np.random.seed(random_state)\n",
    "    bootstrap_sample = []\n",
    "\n",
    "    for i in range(count_generate):\n",
    "        # replace - параметр возвращения\n",
    "        sample = data.sample(sample_size, replace=True)\n",
    "        bootstrap_sample.append(function(sample))\n",
    "\n",
    "    return bootstrap_sample"
   ]
  },
  {
   "cell_type": "code",
   "execution_count": null,
   "metadata": {},
   "outputs": [],
   "source": [
    "# ваш код"
   ]
  },
  {
   "cell_type": "markdown",
   "metadata": {},
   "source": [
    "11) Найти доверительный интервал **для каждой из групп A и B отдельно** для признака **purchase_mean** при помощи написанной функции из задания №10 при уровне доверия $\\beta=0.99$"
   ]
  },
  {
   "cell_type": "code",
   "execution_count": null,
   "metadata": {},
   "outputs": [],
   "source": [
    "# ваш код"
   ]
  },
  {
   "cell_type": "markdown",
   "metadata": {},
   "source": [
    "12) Выберите **ТОЛЬКО ОДИН** из статистических методов (t-критерий или Манна-Уитни) для **сравнения средних двух выборок** (группы A с группой B) по признаку **purchase_mean** согласно проведенным выше исследованиям с **учетом типа распределения обеих выборок и их размера**. \n",
    "\n",
    "Схожи ли будут выборки? Взять уровень значимости $\\alpha=0.05$"
   ]
  },
  {
   "cell_type": "code",
   "execution_count": null,
   "metadata": {},
   "outputs": [],
   "source": [
    "# ваш код"
   ]
  },
  {
   "cell_type": "markdown",
   "metadata": {},
   "source": [
    "13) Проделайте то же самое сравнение, но уже при помощи **Bootstrap**:\n",
    "- Используйте функцию **bootstrap_compare()** из лекции\n",
    "- В качестве **function возьмите np.median**!!!\n",
    "\n",
    "Выведите график **РАСПРЕДЕЛЕНИЯ** (не частоты значений) разности двух групп (пример в лекции), а также доверительный интервал\n",
    "\n",
    "Схожи ли результаты эксеримента?"
   ]
  },
  {
   "cell_type": "code",
   "execution_count": null,
   "metadata": {},
   "outputs": [],
   "source": [
    "# ваш код"
   ]
  }
 ],
 "metadata": {
  "hide_input": false,
  "kernelspec": {
   "display_name": "Python 3 (ipykernel)",
   "language": "python",
   "name": "python3"
  },
  "language_info": {
   "codemirror_mode": {
    "name": "ipython",
    "version": 3
   },
   "file_extension": ".py",
   "mimetype": "text/x-python",
   "name": "python",
   "nbconvert_exporter": "python",
   "pygments_lexer": "ipython3",
   "version": "3.11.4"
  },
  "toc": {
   "base_numbering": 1,
   "nav_menu": {},
   "number_sections": true,
   "sideBar": true,
   "skip_h1_title": false,
   "title_cell": "Table of Contents",
   "title_sidebar": "Contents",
   "toc_cell": false,
   "toc_position": {
    "height": "calc(100% - 180px)",
    "left": "10px",
    "top": "150px",
    "width": "338.8125px"
   },
   "toc_section_display": true,
   "toc_window_display": false
  }
 },
 "nbformat": 4,
 "nbformat_minor": 4
}
