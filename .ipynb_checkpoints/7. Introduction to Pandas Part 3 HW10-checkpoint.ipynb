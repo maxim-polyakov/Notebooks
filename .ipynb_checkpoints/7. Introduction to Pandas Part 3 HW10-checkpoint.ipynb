{
 "cells": [
  {
   "cell_type": "markdown",
   "metadata": {},
   "source": [
    "# Pandas. Доверительный интервал. Меры различий"
   ]
  },
  {
   "cell_type": "code",
   "execution_count": 30,
   "metadata": {},
   "outputs": [],
   "source": [
    "import pandas as pd\n",
    "import numpy as np\n",
    "\n",
    "import matplotlib.pyplot as plt\n",
    "import seaborn as sns\n",
    "\n",
    "import math\n",
    "from scipy import stats\n",
    "\n",
    "from typing import Callable\n",
    "\n",
    "RAND = 10"
   ]
  },
  {
   "cell_type": "markdown",
   "metadata": {},
   "source": [
    "1) Загрузка и первичная предобработка\n",
    "\n",
    "- Загрузить данные **orders.csv** и **visitors.csv** в датафреймы и записать в соответвующие переменные **orders** и **visitors**\n",
    "- При считывании обоих файлов при помощи read_csv() установите параметр parse_dates=['date'] для перевода даты из типа str в Timestamp\n",
    "- Удалить пересечения по клиентам (visitorId) в группе A и B (код можно взять из лекции, таблицу visitors не трогать в этом случае!) и записать результат в переменную **orders**\n",
    "\n",
    "ВСЕ ПРИМЕРЫ ЕСТЬ В ЛЕКЦИИ"
   ]
  },
  {
   "cell_type": "code",
   "execution_count": 31,
   "metadata": {},
   "outputs": [],
   "source": [
    "# ваш код\n",
    "orders = pd.read_csv('orders.csv', parse_dates=['date'])\n",
    "visitors = pd.read_csv('visitors.csv', parse_dates=['date'])"
   ]
  },
  {
   "cell_type": "code",
   "execution_count": 32,
   "metadata": {},
   "outputs": [],
   "source": [
    "# ваш код\n",
    "orders = orders"
   ]
  },
  {
   "cell_type": "markdown",
   "metadata": {},
   "source": [
    "2) Создать новую таблицу **orders_group**, произведя группировку таблицы **orders** по полям 'date', 'group' и подсчитав: \n",
    "- кол-во уникальных транзакций\n",
    "- кол-во уникальных клиентов\n",
    "- сумму прибыли revenue \n",
    "\n",
    "Далее объединить получившийся датасет после группировки с таблицей **visitors** по полям 'date' и 'group' и записать в переменную **orders_group**\n",
    "\n",
    "ВСЕ ПРИМЕРЫ ЕСТЬ В ЛЕКЦИИ"
   ]
  },
  {
   "cell_type": "code",
   "execution_count": 33,
   "metadata": {},
   "outputs": [],
   "source": [
    "# ваш код\n",
    "unique_A = orders[orders['group'] == 'A']['visitorId'].unique()\n",
    "unique_B = orders[orders['group'] == 'B']['visitorId'].unique()\n",
    "\n",
    "# убираем пересечения\n",
    "orders = orders[~orders['visitorId'].isin(np.intersect1d(unique_A, unique_B))]"
   ]
  },
  {
   "cell_type": "code",
   "execution_count": 34,
   "metadata": {},
   "outputs": [
    {
     "data": {
      "text/html": [
       "<div>\n",
       "<style scoped>\n",
       "    .dataframe tbody tr th:only-of-type {\n",
       "        vertical-align: middle;\n",
       "    }\n",
       "\n",
       "    .dataframe tbody tr th {\n",
       "        vertical-align: top;\n",
       "    }\n",
       "\n",
       "    .dataframe thead th {\n",
       "        text-align: right;\n",
       "    }\n",
       "</style>\n",
       "<table border=\"1\" class=\"dataframe\">\n",
       "  <thead>\n",
       "    <tr style=\"text-align: right;\">\n",
       "      <th></th>\n",
       "      <th>date</th>\n",
       "      <th>group</th>\n",
       "      <th>transactionId</th>\n",
       "      <th>visitorId</th>\n",
       "      <th>revenue</th>\n",
       "    </tr>\n",
       "  </thead>\n",
       "  <tbody>\n",
       "    <tr>\n",
       "      <th>0</th>\n",
       "      <td>2021-03-01</td>\n",
       "      <td>A</td>\n",
       "      <td>23</td>\n",
       "      <td>19</td>\n",
       "      <td>141459</td>\n",
       "    </tr>\n",
       "    <tr>\n",
       "      <th>1</th>\n",
       "      <td>2021-03-01</td>\n",
       "      <td>B</td>\n",
       "      <td>17</td>\n",
       "      <td>17</td>\n",
       "      <td>59242</td>\n",
       "    </tr>\n",
       "    <tr>\n",
       "      <th>2</th>\n",
       "      <td>2021-03-02</td>\n",
       "      <td>A</td>\n",
       "      <td>19</td>\n",
       "      <td>18</td>\n",
       "      <td>90960</td>\n",
       "    </tr>\n",
       "    <tr>\n",
       "      <th>3</th>\n",
       "      <td>2021-03-02</td>\n",
       "      <td>B</td>\n",
       "      <td>23</td>\n",
       "      <td>22</td>\n",
       "      <td>161192</td>\n",
       "    </tr>\n",
       "  </tbody>\n",
       "</table>\n",
       "</div>"
      ],
      "text/plain": [
       "        date group  transactionId  visitorId  revenue\n",
       "0 2021-03-01     A             23         19   141459\n",
       "1 2021-03-01     B             17         17    59242\n",
       "2 2021-03-02     A             19         18    90960\n",
       "3 2021-03-02     B             23         22   161192"
      ]
     },
     "execution_count": 34,
     "metadata": {},
     "output_type": "execute_result"
    }
   ],
   "source": [
    "orders.groupby(['date', 'group']).agg({\n",
    "    'transactionId': 'nunique',\n",
    "    'visitorId': 'nunique',\n",
    "    'revenue': 'sum'}\n",
    ").reset_index()[:4]"
   ]
  },
  {
   "cell_type": "code",
   "execution_count": 35,
   "metadata": {},
   "outputs": [
    {
     "data": {
      "text/html": [
       "<div>\n",
       "<style scoped>\n",
       "    .dataframe tbody tr th:only-of-type {\n",
       "        vertical-align: middle;\n",
       "    }\n",
       "\n",
       "    .dataframe tbody tr th {\n",
       "        vertical-align: top;\n",
       "    }\n",
       "\n",
       "    .dataframe thead th {\n",
       "        text-align: right;\n",
       "    }\n",
       "</style>\n",
       "<table border=\"1\" class=\"dataframe\">\n",
       "  <thead>\n",
       "    <tr style=\"text-align: right;\">\n",
       "      <th></th>\n",
       "      <th>date</th>\n",
       "      <th>group</th>\n",
       "      <th>trans_count</th>\n",
       "      <th>buyers_count</th>\n",
       "      <th>revenue</th>\n",
       "    </tr>\n",
       "  </thead>\n",
       "  <tbody>\n",
       "    <tr>\n",
       "      <th>0</th>\n",
       "      <td>2021-03-01</td>\n",
       "      <td>A</td>\n",
       "      <td>23</td>\n",
       "      <td>19</td>\n",
       "      <td>141459</td>\n",
       "    </tr>\n",
       "    <tr>\n",
       "      <th>1</th>\n",
       "      <td>2021-03-01</td>\n",
       "      <td>B</td>\n",
       "      <td>17</td>\n",
       "      <td>17</td>\n",
       "      <td>59242</td>\n",
       "    </tr>\n",
       "    <tr>\n",
       "      <th>2</th>\n",
       "      <td>2021-03-02</td>\n",
       "      <td>A</td>\n",
       "      <td>19</td>\n",
       "      <td>18</td>\n",
       "      <td>90960</td>\n",
       "    </tr>\n",
       "    <tr>\n",
       "      <th>3</th>\n",
       "      <td>2021-03-02</td>\n",
       "      <td>B</td>\n",
       "      <td>23</td>\n",
       "      <td>22</td>\n",
       "      <td>161192</td>\n",
       "    </tr>\n",
       "    <tr>\n",
       "      <th>4</th>\n",
       "      <td>2021-03-03</td>\n",
       "      <td>A</td>\n",
       "      <td>24</td>\n",
       "      <td>24</td>\n",
       "      <td>111486</td>\n",
       "    </tr>\n",
       "    <tr>\n",
       "      <th>...</th>\n",
       "      <td>...</td>\n",
       "      <td>...</td>\n",
       "      <td>...</td>\n",
       "      <td>...</td>\n",
       "      <td>...</td>\n",
       "    </tr>\n",
       "    <tr>\n",
       "      <th>57</th>\n",
       "      <td>2021-03-29</td>\n",
       "      <td>B</td>\n",
       "      <td>15</td>\n",
       "      <td>15</td>\n",
       "      <td>105283</td>\n",
       "    </tr>\n",
       "    <tr>\n",
       "      <th>58</th>\n",
       "      <td>2021-03-30</td>\n",
       "      <td>A</td>\n",
       "      <td>9</td>\n",
       "      <td>8</td>\n",
       "      <td>77786</td>\n",
       "    </tr>\n",
       "    <tr>\n",
       "      <th>59</th>\n",
       "      <td>2021-03-30</td>\n",
       "      <td>B</td>\n",
       "      <td>21</td>\n",
       "      <td>21</td>\n",
       "      <td>208365</td>\n",
       "    </tr>\n",
       "    <tr>\n",
       "      <th>60</th>\n",
       "      <td>2021-03-31</td>\n",
       "      <td>A</td>\n",
       "      <td>8</td>\n",
       "      <td>8</td>\n",
       "      <td>53067</td>\n",
       "    </tr>\n",
       "    <tr>\n",
       "      <th>61</th>\n",
       "      <td>2021-03-31</td>\n",
       "      <td>B</td>\n",
       "      <td>17</td>\n",
       "      <td>17</td>\n",
       "      <td>112644</td>\n",
       "    </tr>\n",
       "  </tbody>\n",
       "</table>\n",
       "<p>62 rows × 5 columns</p>\n",
       "</div>"
      ],
      "text/plain": [
       "         date group  trans_count  buyers_count  revenue\n",
       "0  2021-03-01     A           23            19   141459\n",
       "1  2021-03-01     B           17            17    59242\n",
       "2  2021-03-02     A           19            18    90960\n",
       "3  2021-03-02     B           23            22   161192\n",
       "4  2021-03-03     A           24            24   111486\n",
       "..        ...   ...          ...           ...      ...\n",
       "57 2021-03-29     B           15            15   105283\n",
       "58 2021-03-30     A            9             8    77786\n",
       "59 2021-03-30     B           21            21   208365\n",
       "60 2021-03-31     A            8             8    53067\n",
       "61 2021-03-31     B           17            17   112644\n",
       "\n",
       "[62 rows x 5 columns]"
      ]
     },
     "execution_count": 35,
     "metadata": {},
     "output_type": "execute_result"
    }
   ],
   "source": [
    "orders_group = orders.groupby(['date', 'group']).agg({\n",
    "    'transactionId': 'nunique',\n",
    "    'visitorId': 'nunique',\n",
    "    'revenue': 'sum'}\n",
    ").reset_index()\n",
    "\n",
    "orders_group.columns = ['date', 'group',\n",
    "                        'trans_count', 'buyers_count', 'revenue']\n",
    "orders_group"
   ]
  },
  {
   "cell_type": "markdown",
   "metadata": {},
   "source": [
    "3) Создайте новую колонку **purchase_mean** в таблице **orders_group** - средний чек, разделив сумму дохода на кол-во уникальных транзакци (пример в лекции)"
   ]
  },
  {
   "cell_type": "code",
   "execution_count": 41,
   "metadata": {},
   "outputs": [
    {
     "data": {
      "text/html": [
       "<div>\n",
       "<style scoped>\n",
       "    .dataframe tbody tr th:only-of-type {\n",
       "        vertical-align: middle;\n",
       "    }\n",
       "\n",
       "    .dataframe tbody tr th {\n",
       "        vertical-align: top;\n",
       "    }\n",
       "\n",
       "    .dataframe thead th {\n",
       "        text-align: right;\n",
       "    }\n",
       "</style>\n",
       "<table border=\"1\" class=\"dataframe\">\n",
       "  <thead>\n",
       "    <tr style=\"text-align: right;\">\n",
       "      <th></th>\n",
       "      <th>date</th>\n",
       "      <th>group</th>\n",
       "      <th>trans_count</th>\n",
       "      <th>buyers_count</th>\n",
       "      <th>revenue</th>\n",
       "      <th>purchase_mean</th>\n",
       "    </tr>\n",
       "  </thead>\n",
       "  <tbody>\n",
       "    <tr>\n",
       "      <th>0</th>\n",
       "      <td>2021-03-01</td>\n",
       "      <td>A</td>\n",
       "      <td>23</td>\n",
       "      <td>19</td>\n",
       "      <td>141459</td>\n",
       "      <td>7072.95</td>\n",
       "    </tr>\n",
       "    <tr>\n",
       "      <th>1</th>\n",
       "      <td>2021-03-01</td>\n",
       "      <td>B</td>\n",
       "      <td>17</td>\n",
       "      <td>17</td>\n",
       "      <td>59242</td>\n",
       "      <td>2962.10</td>\n",
       "    </tr>\n",
       "    <tr>\n",
       "      <th>2</th>\n",
       "      <td>2021-03-02</td>\n",
       "      <td>A</td>\n",
       "      <td>19</td>\n",
       "      <td>18</td>\n",
       "      <td>90960</td>\n",
       "      <td>4548.00</td>\n",
       "    </tr>\n",
       "    <tr>\n",
       "      <th>3</th>\n",
       "      <td>2021-03-02</td>\n",
       "      <td>B</td>\n",
       "      <td>23</td>\n",
       "      <td>22</td>\n",
       "      <td>161192</td>\n",
       "      <td>8059.60</td>\n",
       "    </tr>\n",
       "    <tr>\n",
       "      <th>4</th>\n",
       "      <td>2021-03-03</td>\n",
       "      <td>A</td>\n",
       "      <td>24</td>\n",
       "      <td>24</td>\n",
       "      <td>111486</td>\n",
       "      <td>5574.30</td>\n",
       "    </tr>\n",
       "    <tr>\n",
       "      <th>...</th>\n",
       "      <td>...</td>\n",
       "      <td>...</td>\n",
       "      <td>...</td>\n",
       "      <td>...</td>\n",
       "      <td>...</td>\n",
       "      <td>...</td>\n",
       "    </tr>\n",
       "    <tr>\n",
       "      <th>57</th>\n",
       "      <td>2021-03-29</td>\n",
       "      <td>B</td>\n",
       "      <td>15</td>\n",
       "      <td>15</td>\n",
       "      <td>105283</td>\n",
       "      <td>5264.15</td>\n",
       "    </tr>\n",
       "    <tr>\n",
       "      <th>58</th>\n",
       "      <td>2021-03-30</td>\n",
       "      <td>A</td>\n",
       "      <td>9</td>\n",
       "      <td>8</td>\n",
       "      <td>77786</td>\n",
       "      <td>3889.30</td>\n",
       "    </tr>\n",
       "    <tr>\n",
       "      <th>59</th>\n",
       "      <td>2021-03-30</td>\n",
       "      <td>B</td>\n",
       "      <td>21</td>\n",
       "      <td>21</td>\n",
       "      <td>208365</td>\n",
       "      <td>10418.25</td>\n",
       "    </tr>\n",
       "    <tr>\n",
       "      <th>60</th>\n",
       "      <td>2021-03-31</td>\n",
       "      <td>A</td>\n",
       "      <td>8</td>\n",
       "      <td>8</td>\n",
       "      <td>53067</td>\n",
       "      <td>2653.35</td>\n",
       "    </tr>\n",
       "    <tr>\n",
       "      <th>61</th>\n",
       "      <td>2021-03-31</td>\n",
       "      <td>B</td>\n",
       "      <td>17</td>\n",
       "      <td>17</td>\n",
       "      <td>112644</td>\n",
       "      <td>5632.20</td>\n",
       "    </tr>\n",
       "  </tbody>\n",
       "</table>\n",
       "<p>62 rows × 6 columns</p>\n",
       "</div>"
      ],
      "text/plain": [
       "         date group  trans_count  buyers_count  revenue  purchase_mean\n",
       "0  2021-03-01     A           23            19   141459        7072.95\n",
       "1  2021-03-01     B           17            17    59242        2962.10\n",
       "2  2021-03-02     A           19            18    90960        4548.00\n",
       "3  2021-03-02     B           23            22   161192        8059.60\n",
       "4  2021-03-03     A           24            24   111486        5574.30\n",
       "..        ...   ...          ...           ...      ...            ...\n",
       "57 2021-03-29     B           15            15   105283        5264.15\n",
       "58 2021-03-30     A            9             8    77786        3889.30\n",
       "59 2021-03-30     B           21            21   208365       10418.25\n",
       "60 2021-03-31     A            8             8    53067        2653.35\n",
       "61 2021-03-31     B           17            17   112644        5632.20\n",
       "\n",
       "[62 rows x 6 columns]"
      ]
     },
     "execution_count": 41,
     "metadata": {},
     "output_type": "execute_result"
    }
   ],
   "source": [
    "#orders_group['purchase_mean'] = orders_group['revenue']\n",
    "\n",
    "orders_group['purchase_mean'] = orders_group['revenue'] / orders_group['trans_count'].nunique()\n",
    "orders_group"
   ]
  },
  {
   "cell_type": "markdown",
   "metadata": {},
   "source": [
    "4) Создайте две переменные **orders_group_a** и **orders_group_b**, куда запишите данные группы А и группы B соответственно (пример в лекции)"
   ]
  },
  {
   "cell_type": "code",
   "execution_count": 42,
   "metadata": {},
   "outputs": [],
   "source": [
    "# ваш код\n",
    "orders_group_a = orders_group.query(\"group == 'A'\")\n",
    "orders_group_b = orders_group.query(\"group == 'B'\")"
   ]
  },
  {
   "cell_type": "markdown",
   "metadata": {},
   "source": [
    "5) Построить графики распределений (histplot) среднего чека отдельно для A и B групп.\n",
    "\n",
    "Отобразить графики **в ОДНОЙ строке, но в РАЗНЫХ столбцах и с РАЗНЫМИ цветами**"
   ]
  },
  {
   "cell_type": "code",
   "execution_count": 43,
   "metadata": {},
   "outputs": [
    {
     "data": {
      "image/png": "[encoded data removed]",
      "text/plain": [
       "<Figure size 1500x500 with 2 Axes>"
      ]
     },
     "metadata": {},
     "output_type": "display_data"
    }
   ],
   "source": [
    "fig, axes = plt.subplots(ncols=2, figsize=(15, 5))\n",
    "\n",
    "sns.histplot(orders_group.query(\"group == 'A'\")['purchase_mean'],\n",
    "             kde=True,\n",
    "             ax=axes[0],\n",
    "             color='orange')\n",
    "sns.histplot(orders_group.query(\"group == 'B'\")['purchase_mean'],\n",
    "             kde=True,\n",
    "             ax=axes[1]);\n",
    "axes[0].set_title('Группа A')\n",
    "axes[1].set_title('Группа B')\n",
    "plt.show()"
   ]
  },
  {
   "cell_type": "markdown",
   "metadata": {},
   "source": [
    "6) Проверка на нормальность:\n",
    "\n",
    "- Напишите функцию **check_normal()** для проверки на нормальность по критерию Шапиро-Уилка, которая будет выводить **относится ли распределение к нормальному или не**т, а также **выводить значение p-value с 3мя знаками после запятой**\n",
    "\n",
    "- Проверьте распределения среднего чека (признак purchase_mean) **для группы A** на нормальность, используя написанную функцию\n",
    "- Проверьте распределения среднего чека (признак purchase_mean) **для группы B** на нормальность, используя написанную функцию"
   ]
  },
  {
   "cell_type": "code",
   "execution_count": 62,
   "metadata": {},
   "outputs": [],
   "source": [
    "def check_normal(input_data):\n",
    "    \n",
    "    check_normal_flag = False\n",
    "    \n",
    "    if stats.shapiro(input_data).pvalue >= 0.05:\n",
    "        check_normal = True\n",
    "    else:\n",
    "        ckeck_normal = False\n",
    "    \n",
    "    return {check_normal, stats.shapiro(input_data).pvalue}"
   ]
  },
  {
   "cell_type": "code",
   "execution_count": 64,
   "metadata": {},
   "outputs": [
    {
     "ename": "NameError",
     "evalue": "name 'input_data' is not defined",
     "output_type": "error",
     "traceback": [
      "\u001b[1;31m---------------------------------------------------------------------------\u001b[0m",
      "\u001b[1;31mNameError\u001b[0m                                 Traceback (most recent call last)",
      "Cell \u001b[1;32mIn[64], line 1\u001b[0m\n\u001b[1;32m----> 1\u001b[0m \u001b[38;5;28mprint\u001b[39m(\u001b[38;5;124mf\u001b[39m\u001b[38;5;124m\"\u001b[39m\u001b[38;5;124mТест Шапиро-Уилка для A: \u001b[39m\u001b[38;5;132;01m{\u001b[39;00mcheck_normal(input_data)\u001b[38;5;132;01m}\u001b[39;00m\u001b[38;5;124m\"\u001b[39m)\n\u001b[0;32m      2\u001b[0m \u001b[38;5;28mprint\u001b[39m(\n\u001b[0;32m      3\u001b[0m     \u001b[38;5;124mf\u001b[39m\u001b[38;5;124m\"\u001b[39m\u001b[38;5;124mТест Шапиро-Уилка для B: \u001b[39m\u001b[38;5;132;01m{\u001b[39;00mcheck_normal(input_data)\u001b[38;5;132;01m}\u001b[39;00m\u001b[38;5;130;01m\\n\u001b[39;00m\u001b[38;5;124m\"\u001b[39m\n\u001b[0;32m      4\u001b[0m )\n\u001b[0;32m      6\u001b[0m \u001b[38;5;28mprint\u001b[39m(\u001b[38;5;124mf\u001b[39m\u001b[38;5;124m\"\u001b[39m\u001b[38;5;124mmean A = \u001b[39m\u001b[38;5;132;01m{\u001b[39;00mnp\u001b[38;5;241m.\u001b[39mmean(sample_means)\u001b[38;5;132;01m}\u001b[39;00m\u001b[38;5;124m\"\u001b[39m)\n",
      "\u001b[1;31mNameError\u001b[0m: name 'input_data' is not defined"
     ]
    }
   ],
   "source": [
    "print(f\"Тест Шапиро-Уилка для A: {check_normal(input_data)}\")\n",
    "print(\n",
    "    f\"Тест Шапиро-Уилка для B: {check_normal(input_data)}\\n\"\n",
    ")\n",
    "\n",
    "print(f\"mean A = {np.mean(sample_means)}\")\n",
    "print(f\"mean B = {np.mean(orders_group_b.convers)}\\n\")"
   ]
  },
  {
   "cell_type": "markdown",
   "metadata": {},
   "source": [
    "7) Напишите функцию **get_interval()** (пока без применения), которая бы:\n",
    "\n",
    "- вычисляла доверительный интервал **при помощи z критерия** при известной дисперсии (использовать дисперсию при вычислении, которую будете подавать на вход функции)\n",
    "- вычисляла доверительный интервал **при помощи t-критерия**, если дисперсия неизвестна\n",
    "- выводила как и сам интервал, так и условие: известна дисперсия, либо не известна\n",
    "- также нужно учесть, что функция должна принимать на вход:\n",
    "    - данные\n",
    "    - дисперсию (при известной дисперсии) - по умолчанию = None\n",
    "    - уровень доверия, по умолчанию $\\beta=0.95$ **здесь аккуратнее!!** см в лекции почему\n",
    "    \n",
    "У вас должна получиться **ОДНА функция**, которая вычисляет интервал для разных случаев"
   ]
  },
  {
   "cell_type": "code",
   "execution_count": 46,
   "metadata": {},
   "outputs": [],
   "source": [
    "def get_interval():\n",
    "    pass"
   ]
  },
  {
   "cell_type": "markdown",
   "metadata": {},
   "source": [
    "8) Найти доверительные интервалы **для каждой из групп A и B по отдельности** при помощи написанной функции **get_interval()** из задания №7 для признака **purchase_mean** при уровне доверия $\\beta=0.99$!!!:\n",
    "   - при известной дисперсии\n",
    "\n",
    "- За известную дисперсию возьмите значение для группы A = 11088900\n",
    "- За известную дисперсию возьмите значение для группы B = 122102500\n",
    "\n",
    "\n",
    "**Будьте внимательны**, так как в лекции брали пример с 95%, то с каждой стороны мы брали по 2.5%"
   ]
  },
  {
   "cell_type": "code",
   "execution_count": 47,
   "metadata": {},
   "outputs": [],
   "source": [
    "# ваш код"
   ]
  },
  {
   "cell_type": "markdown",
   "metadata": {},
   "source": [
    "9) Найти доверительные интервалы **для каждой из групп A и B по отдельности** при помощи написанной функции **get_interval()** из задания №7 для признака **purchase_mean** для $\\beta=0.99$!!!:\n",
    "   - при неизвестной дисперсии\n",
    "   \n",
    "**Будьте внимательны**, так как в лекции брали пример с 95%, то с каждой стороны мы брали по 2.5%"
   ]
  },
  {
   "cell_type": "code",
   "execution_count": 48,
   "metadata": {},
   "outputs": [],
   "source": [
    "# ваш код"
   ]
  },
  {
   "cell_type": "markdown",
   "metadata": {},
   "source": [
    "10) Написать функцию **bootstrap_interval()** (пока без применения) для вычисления интервала как из задания №7, но теперь только с использованием **Bootstrap**\n",
    "\n",
    "- функция должна принимать:\n",
    "    - данные\n",
    "    - функцию для усреднения (среднее, медиана и тд), по умолчанию np.mean\n",
    "    - уровень доверия, по умолчанию $\\beta=0.95$ \n",
    "- вам уже дана функция из лекции bootstrap_resample(), вы ее можете **вызывать вннутри** bootstrap_interval() для генерации выборок \n",
    "- необходимо, чтобы функция **возвращала доверительный интервал**\n",
    "\n",
    "**ВАЖНО:**\n",
    "Описывать внутри вашей функции функцию bootstrap_resample() НЕ НУЖНО!"
   ]
  },
  {
   "cell_type": "code",
   "execution_count": 49,
   "metadata": {},
   "outputs": [],
   "source": [
    "def bootstrap_resample(data: pd.Series,\n",
    "                       function: Callable,\n",
    "                       count_generate: int = 1000,\n",
    "                       random_state: int = 10) -> list:\n",
    "    \"\"\"\n",
    "    Bootstrap\n",
    "    \"\"\"\n",
    "    sample_size = len(data)\n",
    "    np.random.seed(random_state)\n",
    "    bootstrap_sample = []\n",
    "\n",
    "    for i in range(count_generate):\n",
    "        # replace - параметр возвращения\n",
    "        sample = data.sample(sample_size, replace=True)\n",
    "        bootstrap_sample.append(function(sample))\n",
    "\n",
    "    return bootstrap_sample"
   ]
  },
  {
   "cell_type": "code",
   "execution_count": 50,
   "metadata": {},
   "outputs": [],
   "source": [
    "# ваш код"
   ]
  },
  {
   "cell_type": "markdown",
   "metadata": {},
   "source": [
    "11) Найти доверительный интервал **для каждой из групп A и B отдельно** для признака **purchase_mean** при помощи написанной функции из задания №10 при уровне доверия $\\beta=0.99$"
   ]
  },
  {
   "cell_type": "code",
   "execution_count": 51,
   "metadata": {},
   "outputs": [],
   "source": [
    "# ваш код"
   ]
  },
  {
   "cell_type": "markdown",
   "metadata": {},
   "source": [
    "12) Выберите **ТОЛЬКО ОДИН** из статистических методов (t-критерий или Манна-Уитни) для **сравнения средних двух выборок** (группы A с группой B) по признаку **purchase_mean** согласно проведенным выше исследованиям с **учетом типа распределения обеих выборок и их размера**. \n",
    "\n",
    "Схожи ли будут выборки? Взять уровень значимости $\\alpha=0.05$"
   ]
  },
  {
   "cell_type": "code",
   "execution_count": 52,
   "metadata": {},
   "outputs": [],
   "source": [
    "# ваш код"
   ]
  },
  {
   "cell_type": "markdown",
   "metadata": {},
   "source": [
    "13) Проделайте то же самое сравнение, но уже при помощи **Bootstrap**:\n",
    "- Используйте функцию **bootstrap_compare()** из лекции\n",
    "- В качестве **function возьмите np.median**!!!\n",
    "\n",
    "Выведите график **РАСПРЕДЕЛЕНИЯ** (не частоты значений) разности двух групп (пример в лекции), а также доверительный интервал\n",
    "\n",
    "Схожи ли результаты эксеримента?"
   ]
  },
  {
   "cell_type": "code",
   "execution_count": 20,
   "metadata": {},
   "outputs": [],
   "source": [
    "# ваш код"
   ]
  },
  {
   "cell_type": "code",
   "execution_count": null,
   "metadata": {},
   "outputs": [],
   "source": []
  },
  {
   "cell_type": "code",
   "execution_count": null,
   "metadata": {},
   "outputs": [],
   "source": []
  }
 ],
 "metadata": {
  "hide_input": false,
  "kernelspec": {
   "display_name": "Python 3 (ipykernel)",
   "language": "python",
   "name": "python3"
  },
  "language_info": {
   "codemirror_mode": {
    "name": "ipython",
    "version": 3
   },
   "file_extension": ".py",
   "mimetype": "text/x-python",
   "name": "python",
   "nbconvert_exporter": "python",
   "pygments_lexer": "ipython3",
   "version": "3.11.4"
  },
  "toc": {
   "base_numbering": 1,
   "nav_menu": {},
   "number_sections": true,
   "sideBar": true,
   "skip_h1_title": false,
   "title_cell": "Table of Contents",
   "title_sidebar": "Contents",
   "toc_cell": false,
   "toc_position": {
    "height": "calc(100% - 180px)",
    "left": "10px",
    "top": "150px",
    "width": "338.8125px"
   },
   "toc_section_display": true,
   "toc_window_display": false
  }
 },
 "nbformat": 4,
 "nbformat_minor": 4
}
