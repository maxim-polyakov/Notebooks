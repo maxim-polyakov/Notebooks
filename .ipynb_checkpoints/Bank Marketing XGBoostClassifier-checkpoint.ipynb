{
 "cells": [
  {
   "cell_type": "code",
   "execution_count": null,
   "id": "03ee9890",
   "metadata": {},
   "outputs": [],
   "source": [
    "import cv2\n",
    "import os\n",
    "\n",
    "# Load the image\n",
    "total_con=os.listdir('Woman_data_set')\n",
    "count = len(total_con)\n",
    "images = []\n",
    "for i in range (0, count):\n",
    "    image = cv2.imread(\"Woman_data_set/\" + str(i) + \".png\",cv2.IMREAD_UNCHANGED)\n",
    "    images.append(image)\n",
    "    print(images)\n",
    "\n",
    "# Wait for the user to press a key\n",
    "cv2.waitKey(0)\n",
    " \n",
    "# Close all windows\n",
    "cv2.destroyAllWindows()"
   ]
  },
  {
   "cell_type": "code",
   "execution_count": null,
   "id": "9ddf0d54",
   "metadata": {},
   "outputs": [],
   "source": [
    "import matplotlib.pyplot as plt\n",
    "\n",
    "for image in images:\n",
    "    plt.figure(figsize=(20,10))\n",
    "    plt.imshow(image)\n",
    "    plt.axis('off')"
   ]
  },
  {
   "cell_type": "code",
   "execution_count": null,
   "id": "cc0f479a",
   "metadata": {},
   "outputs": [],
   "source": []
  }
 ],
 "metadata": {
  "kernelspec": {
   "display_name": "Python 3 (ipykernel)",
   "language": "python",
   "name": "python3"
  },
  "language_info": {
   "codemirror_mode": {
    "name": "ipython",
    "version": 3
   },
   "file_extension": ".py",
   "mimetype": "text/x-python",
   "name": "python",
   "nbconvert_exporter": "python",
   "pygments_lexer": "ipython3",
   "version": "3.11.4"
  }
 },
 "nbformat": 4,
 "nbformat_minor": 5
}
