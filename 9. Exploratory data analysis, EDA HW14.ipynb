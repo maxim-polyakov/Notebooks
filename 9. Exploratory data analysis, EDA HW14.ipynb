{
 "cells": [
  {
   "cell_type": "markdown",
   "metadata": {},
   "source": [
    "# Exploratory data analysis, EDA"
   ]
  },
  {
   "cell_type": "code",
   "execution_count": 20,
   "metadata": {},
   "outputs": [],
   "source": [
    "import pandas as pd"
   ]
  },
  {
   "cell_type": "markdown",
   "metadata": {},
   "source": [
    "- item_id : item id wich can be used later to merge with other IKEA dataframes\n",
    "- name: the commercial name of items\n",
    "- category: the furniture category that the item belongs to (Sofas, beds, chairs, Trolleys,…)\n",
    "- Price: the current price in Saudi Riyals as it is shown in the website by 4/20/2020\n",
    "- old_price: the price of item in Saudi Riyals before discount\n",
    "- Short_description: a brief description of the item\n",
    "- full_Description: a very detailed description of the item. Because it is long, it is dropped from the final dataframe, but it is available in the code in case it needs to be analyzed.\n",
    "- designer: The name of the designer who designed the item. this is extracted from the full_description column.\n",
    "- size: the dimensions of the item including a lot of details.As a lot of dimensions mentioned and they vary from item to item, the most common dimensions have been extracted which are: Height, Wideh, and Depth. This column is dropped from the final dataframe, but it is available in the code in case it is needed.\n",
    "- width: Width of the item in Centimeter\n",
    "- height: Height of the item in Centimeter\n",
    "- depth: Depth of the item in Centimeter\n",
    "- sellable_Online: if the item is available for online purchasing or in-stores only (Boolean)\n",
    "- other_colors: if other colors are available for the item, or just one color as displayed in the website (Boolean)\n",
    "- link: the web link of the item\n",
    "\n",
    "\n",
    "**Какие типы задач можно решать с данным датасетом:**\n",
    "\n",
    "- Регрессия: Прогнозирование продажной цены новых товаров\n",
    "- Классификация: Предсказать категорию новых товаров\n",
    "- Классификация: Предсказать, будет ли товар со скидкой"
   ]
  },
  {
   "cell_type": "markdown",
   "metadata": {},
   "source": [
    "1) Прочитать файл IKEA_SA_Furniture_Web_Scrapings.csv и записать в переменную df"
   ]
  },
  {
   "cell_type": "code",
   "execution_count": 21,
   "metadata": {},
   "outputs": [],
   "source": [
    "df = pd.read_csv('IKEA_SA_Furniture_Web_Scrapings.csv')"
   ]
  },
  {
   "cell_type": "markdown",
   "metadata": {},
   "source": [
    "2) Вывести первые пять строк"
   ]
  },
  {
   "cell_type": "code",
   "execution_count": 22,
   "metadata": {},
   "outputs": [
    {
     "data": {
      "text/html": [
       "<div>\n",
       "<style scoped>\n",
       "    .dataframe tbody tr th:only-of-type {\n",
       "        vertical-align: middle;\n",
       "    }\n",
       "\n",
       "    .dataframe tbody tr th {\n",
       "        vertical-align: top;\n",
       "    }\n",
       "\n",
       "    .dataframe thead th {\n",
       "        text-align: right;\n",
       "    }\n",
       "</style>\n",
       "<table border=\"1\" class=\"dataframe\">\n",
       "  <thead>\n",
       "    <tr style=\"text-align: right;\">\n",
       "      <th></th>\n",
       "      <th>item_id</th>\n",
       "      <th>name</th>\n",
       "      <th>category</th>\n",
       "      <th>price</th>\n",
       "      <th>old_price</th>\n",
       "      <th>sellable_online</th>\n",
       "      <th>link</th>\n",
       "      <th>other_colors</th>\n",
       "      <th>short_description</th>\n",
       "      <th>designer</th>\n",
       "      <th>depth</th>\n",
       "      <th>height</th>\n",
       "      <th>width</th>\n",
       "    </tr>\n",
       "  </thead>\n",
       "  <tbody>\n",
       "    <tr>\n",
       "      <th>0</th>\n",
       "      <td>90420332</td>\n",
       "      <td>FREKVENS</td>\n",
       "      <td>Bar furniture</td>\n",
       "      <td>265.0</td>\n",
       "      <td>No old price</td>\n",
       "      <td>True</td>\n",
       "      <td>https://www.ikea.com/sa/en/p/frekvens-bar-tabl...</td>\n",
       "      <td>No</td>\n",
       "      <td>Bar table, in/outdoor,          51x51 cm</td>\n",
       "      <td>Nicholai Wiig Hansen</td>\n",
       "      <td>NaN</td>\n",
       "      <td>99.0</td>\n",
       "      <td>51.0</td>\n",
       "    </tr>\n",
       "    <tr>\n",
       "      <th>1</th>\n",
       "      <td>368814</td>\n",
       "      <td>NORDVIKEN</td>\n",
       "      <td>Bar furniture</td>\n",
       "      <td>995.0</td>\n",
       "      <td>No old price</td>\n",
       "      <td>False</td>\n",
       "      <td>https://www.ikea.com/sa/en/p/nordviken-bar-tab...</td>\n",
       "      <td>No</td>\n",
       "      <td>Bar table,          140x80 cm</td>\n",
       "      <td>Francis Cayouette</td>\n",
       "      <td>NaN</td>\n",
       "      <td>105.0</td>\n",
       "      <td>80.0</td>\n",
       "    </tr>\n",
       "    <tr>\n",
       "      <th>2</th>\n",
       "      <td>9333523</td>\n",
       "      <td>NORDVIKEN / NORDVIKEN</td>\n",
       "      <td>Bar furniture</td>\n",
       "      <td>2095.0</td>\n",
       "      <td>No old price</td>\n",
       "      <td>False</td>\n",
       "      <td>https://www.ikea.com/sa/en/p/nordviken-nordvik...</td>\n",
       "      <td>No</td>\n",
       "      <td>Bar table and 4 bar stools</td>\n",
       "      <td>Francis Cayouette</td>\n",
       "      <td>NaN</td>\n",
       "      <td>NaN</td>\n",
       "      <td>NaN</td>\n",
       "    </tr>\n",
       "    <tr>\n",
       "      <th>3</th>\n",
       "      <td>80155205</td>\n",
       "      <td>STIG</td>\n",
       "      <td>Bar furniture</td>\n",
       "      <td>69.0</td>\n",
       "      <td>No old price</td>\n",
       "      <td>True</td>\n",
       "      <td>https://www.ikea.com/sa/en/p/stig-bar-stool-wi...</td>\n",
       "      <td>Yes</td>\n",
       "      <td>Bar stool with backrest,          74 cm</td>\n",
       "      <td>Henrik Preutz</td>\n",
       "      <td>50.0</td>\n",
       "      <td>100.0</td>\n",
       "      <td>60.0</td>\n",
       "    </tr>\n",
       "    <tr>\n",
       "      <th>4</th>\n",
       "      <td>30180504</td>\n",
       "      <td>NORBERG</td>\n",
       "      <td>Bar furniture</td>\n",
       "      <td>225.0</td>\n",
       "      <td>No old price</td>\n",
       "      <td>True</td>\n",
       "      <td>https://www.ikea.com/sa/en/p/norberg-wall-moun...</td>\n",
       "      <td>No</td>\n",
       "      <td>Wall-mounted drop-leaf table,         ...</td>\n",
       "      <td>Marcus Arvonen</td>\n",
       "      <td>60.0</td>\n",
       "      <td>43.0</td>\n",
       "      <td>74.0</td>\n",
       "    </tr>\n",
       "  </tbody>\n",
       "</table>\n",
       "</div>"
      ],
      "text/plain": [
       "    item_id                   name       category   price     old_price  \\\n",
       "0  90420332               FREKVENS  Bar furniture   265.0  No old price   \n",
       "1    368814              NORDVIKEN  Bar furniture   995.0  No old price   \n",
       "2   9333523  NORDVIKEN / NORDVIKEN  Bar furniture  2095.0  No old price   \n",
       "3  80155205                   STIG  Bar furniture    69.0  No old price   \n",
       "4  30180504                NORBERG  Bar furniture   225.0  No old price   \n",
       "\n",
       "   sellable_online                                               link  \\\n",
       "0             True  https://www.ikea.com/sa/en/p/frekvens-bar-tabl...   \n",
       "1            False  https://www.ikea.com/sa/en/p/nordviken-bar-tab...   \n",
       "2            False  https://www.ikea.com/sa/en/p/nordviken-nordvik...   \n",
       "3             True  https://www.ikea.com/sa/en/p/stig-bar-stool-wi...   \n",
       "4             True  https://www.ikea.com/sa/en/p/norberg-wall-moun...   \n",
       "\n",
       "  other_colors                                  short_description  \\\n",
       "0           No           Bar table, in/outdoor,          51x51 cm   \n",
       "1           No                      Bar table,          140x80 cm   \n",
       "2           No                         Bar table and 4 bar stools   \n",
       "3          Yes            Bar stool with backrest,          74 cm   \n",
       "4           No          Wall-mounted drop-leaf table,         ...   \n",
       "\n",
       "               designer  depth  height  width  \n",
       "0  Nicholai Wiig Hansen    NaN    99.0   51.0  \n",
       "1     Francis Cayouette    NaN   105.0   80.0  \n",
       "2     Francis Cayouette    NaN     NaN    NaN  \n",
       "3         Henrik Preutz   50.0   100.0   60.0  \n",
       "4        Marcus Arvonen   60.0    43.0   74.0  "
      ]
     },
     "execution_count": 22,
     "metadata": {},
     "output_type": "execute_result"
    }
   ],
   "source": [
    "df.head()"
   ]
  },
  {
   "cell_type": "markdown",
   "metadata": {},
   "source": [
    "Внимательно изучите данные и попробуйте их осознать без применения пока графиков и стат параметров. Прочитайте подробнее, что значит каждое поле"
   ]
  },
  {
   "cell_type": "markdown",
   "metadata": {},
   "source": [
    "3) Выведите размер датасета"
   ]
  },
  {
   "cell_type": "code",
   "execution_count": 23,
   "metadata": {},
   "outputs": [
    {
     "data": {
      "text/plain": [
       "48022"
      ]
     },
     "execution_count": 23,
     "metadata": {},
     "output_type": "execute_result"
    }
   ],
   "source": [
    "df.size"
   ]
  },
  {
   "cell_type": "markdown",
   "metadata": {},
   "source": [
    "4) Вывести общую информацию о датафрейме при помощи метода info()"
   ]
  },
  {
   "cell_type": "code",
   "execution_count": 24,
   "metadata": {},
   "outputs": [
    {
     "name": "stdout",
     "output_type": "stream",
     "text": [
      "<class 'pandas.core.frame.DataFrame'>\n",
      "RangeIndex: 3694 entries, 0 to 3693\n",
      "Data columns (total 13 columns):\n",
      " #   Column             Non-Null Count  Dtype  \n",
      "---  ------             --------------  -----  \n",
      " 0   item_id            3694 non-null   int64  \n",
      " 1   name               3694 non-null   object \n",
      " 2   category           3694 non-null   object \n",
      " 3   price              3694 non-null   float64\n",
      " 4   old_price          3694 non-null   object \n",
      " 5   sellable_online    3694 non-null   bool   \n",
      " 6   link               3694 non-null   object \n",
      " 7   other_colors       3694 non-null   object \n",
      " 8   short_description  3694 non-null   object \n",
      " 9   designer           3694 non-null   object \n",
      " 10  depth              2231 non-null   float64\n",
      " 11  height             2706 non-null   float64\n",
      " 12  width              3105 non-null   float64\n",
      "dtypes: bool(1), float64(4), int64(1), object(7)\n",
      "memory usage: 350.0+ KB\n"
     ]
    }
   ],
   "source": [
    "df.info()"
   ]
  },
  {
   "cell_type": "markdown",
   "metadata": {},
   "source": [
    "5) Проанализировать кол-во пропусков, а также посмотреть сколько это в процентах от размера датасета (кол-ва строк)"
   ]
  },
  {
   "cell_type": "code",
   "execution_count": 25,
   "metadata": {},
   "outputs": [
    {
     "data": {
      "text/html": [
       "<div>\n",
       "<style scoped>\n",
       "    .dataframe tbody tr th:only-of-type {\n",
       "        vertical-align: middle;\n",
       "    }\n",
       "\n",
       "    .dataframe tbody tr th {\n",
       "        vertical-align: top;\n",
       "    }\n",
       "\n",
       "    .dataframe thead th {\n",
       "        text-align: right;\n",
       "    }\n",
       "</style>\n",
       "<table border=\"1\" class=\"dataframe\">\n",
       "  <thead>\n",
       "    <tr style=\"text-align: right;\">\n",
       "      <th></th>\n",
       "      <th>item_id</th>\n",
       "      <th>name</th>\n",
       "      <th>category</th>\n",
       "      <th>price</th>\n",
       "      <th>old_price</th>\n",
       "      <th>sellable_online</th>\n",
       "      <th>link</th>\n",
       "      <th>other_colors</th>\n",
       "      <th>short_description</th>\n",
       "      <th>designer</th>\n",
       "      <th>depth</th>\n",
       "      <th>height</th>\n",
       "      <th>width</th>\n",
       "    </tr>\n",
       "  </thead>\n",
       "  <tbody>\n",
       "    <tr>\n",
       "      <th>0</th>\n",
       "      <td>NaN</td>\n",
       "      <td>None</td>\n",
       "      <td>None</td>\n",
       "      <td>NaN</td>\n",
       "      <td>None</td>\n",
       "      <td>NaN</td>\n",
       "      <td>None</td>\n",
       "      <td>None</td>\n",
       "      <td>None</td>\n",
       "      <td>None</td>\n",
       "      <td>NaN</td>\n",
       "      <td>NaN</td>\n",
       "      <td>NaN</td>\n",
       "    </tr>\n",
       "    <tr>\n",
       "      <th>1</th>\n",
       "      <td>90420332.0</td>\n",
       "      <td>FREKVENS</td>\n",
       "      <td>Bar furniture</td>\n",
       "      <td>265.0</td>\n",
       "      <td>No old price</td>\n",
       "      <td>True</td>\n",
       "      <td>https://www.ikea.com/sa/en/p/frekvens-bar-tabl...</td>\n",
       "      <td>No</td>\n",
       "      <td>Bar table, in/outdoor,          51x51 cm</td>\n",
       "      <td>Nicholai Wiig Hansen</td>\n",
       "      <td>NaN</td>\n",
       "      <td>99.0</td>\n",
       "      <td>51.0</td>\n",
       "    </tr>\n",
       "    <tr>\n",
       "      <th>2</th>\n",
       "      <td>368814.0</td>\n",
       "      <td>NORDVIKEN</td>\n",
       "      <td>Bar furniture</td>\n",
       "      <td>995.0</td>\n",
       "      <td>No old price</td>\n",
       "      <td>False</td>\n",
       "      <td>https://www.ikea.com/sa/en/p/nordviken-bar-tab...</td>\n",
       "      <td>No</td>\n",
       "      <td>Bar table,          140x80 cm</td>\n",
       "      <td>Francis Cayouette</td>\n",
       "      <td>NaN</td>\n",
       "      <td>105.0</td>\n",
       "      <td>80.0</td>\n",
       "    </tr>\n",
       "    <tr>\n",
       "      <th>3</th>\n",
       "      <td>9333523.0</td>\n",
       "      <td>NORDVIKEN / NORDVIKEN</td>\n",
       "      <td>Bar furniture</td>\n",
       "      <td>2095.0</td>\n",
       "      <td>No old price</td>\n",
       "      <td>False</td>\n",
       "      <td>https://www.ikea.com/sa/en/p/nordviken-nordvik...</td>\n",
       "      <td>No</td>\n",
       "      <td>Bar table and 4 bar stools</td>\n",
       "      <td>Francis Cayouette</td>\n",
       "      <td>NaN</td>\n",
       "      <td>NaN</td>\n",
       "      <td>NaN</td>\n",
       "    </tr>\n",
       "    <tr>\n",
       "      <th>4</th>\n",
       "      <td>80155205.0</td>\n",
       "      <td>STIG</td>\n",
       "      <td>Bar furniture</td>\n",
       "      <td>69.0</td>\n",
       "      <td>No old price</td>\n",
       "      <td>True</td>\n",
       "      <td>https://www.ikea.com/sa/en/p/stig-bar-stool-wi...</td>\n",
       "      <td>Yes</td>\n",
       "      <td>Bar stool with backrest,          74 cm</td>\n",
       "      <td>Henrik Preutz</td>\n",
       "      <td>50.0</td>\n",
       "      <td>100.0</td>\n",
       "      <td>60.0</td>\n",
       "    </tr>\n",
       "    <tr>\n",
       "      <th>...</th>\n",
       "      <td>...</td>\n",
       "      <td>...</td>\n",
       "      <td>...</td>\n",
       "      <td>...</td>\n",
       "      <td>...</td>\n",
       "      <td>...</td>\n",
       "      <td>...</td>\n",
       "      <td>...</td>\n",
       "      <td>...</td>\n",
       "      <td>...</td>\n",
       "      <td>...</td>\n",
       "      <td>...</td>\n",
       "      <td>...</td>\n",
       "    </tr>\n",
       "    <tr>\n",
       "      <th>3689</th>\n",
       "      <td>89330653.0</td>\n",
       "      <td>PAX / MEHAMN/AULI</td>\n",
       "      <td>Wardrobes</td>\n",
       "      <td>2045.0</td>\n",
       "      <td>No old price</td>\n",
       "      <td>True</td>\n",
       "      <td>https://www.ikea.com/sa/en/p/pax-mehamn-auli-w...</td>\n",
       "      <td>No</td>\n",
       "      <td>Wardrobe combination,          200x66x...</td>\n",
       "      <td>IKEA of Sweden/Ehlén Johansson</td>\n",
       "      <td>66.0</td>\n",
       "      <td>236.0</td>\n",
       "      <td>200.0</td>\n",
       "    </tr>\n",
       "    <tr>\n",
       "      <th>3690</th>\n",
       "      <td>99157902.0</td>\n",
       "      <td>ELVARLI</td>\n",
       "      <td>Wardrobes</td>\n",
       "      <td>750.0</td>\n",
       "      <td>SR 820</td>\n",
       "      <td>True</td>\n",
       "      <td>https://www.ikea.com/sa/en/p/elvarli-1-section...</td>\n",
       "      <td>No</td>\n",
       "      <td>1 section,          92x51x222-350 cm</td>\n",
       "      <td>Ehlén Johansson</td>\n",
       "      <td>50.0</td>\n",
       "      <td>NaN</td>\n",
       "      <td>91.0</td>\n",
       "    </tr>\n",
       "    <tr>\n",
       "      <th>3691</th>\n",
       "      <td>9158152.0</td>\n",
       "      <td>ELVARLI</td>\n",
       "      <td>Wardrobes</td>\n",
       "      <td>1572.0</td>\n",
       "      <td>SR 1,755</td>\n",
       "      <td>True</td>\n",
       "      <td>https://www.ikea.com/sa/en/p/elvarli-2-section...</td>\n",
       "      <td>No</td>\n",
       "      <td>2 sections,          135x51x222-350 cm</td>\n",
       "      <td>Ehlén Johansson</td>\n",
       "      <td>50.0</td>\n",
       "      <td>NaN</td>\n",
       "      <td>135.0</td>\n",
       "    </tr>\n",
       "    <tr>\n",
       "      <th>3692</th>\n",
       "      <td>59157541.0</td>\n",
       "      <td>ELVARLI</td>\n",
       "      <td>Wardrobes</td>\n",
       "      <td>924.0</td>\n",
       "      <td>SR 1,050</td>\n",
       "      <td>True</td>\n",
       "      <td>https://www.ikea.com/sa/en/p/elvarli-2-section...</td>\n",
       "      <td>No</td>\n",
       "      <td>2 sections,          175x51x222-350 cm</td>\n",
       "      <td>Ehlén Johansson</td>\n",
       "      <td>50.0</td>\n",
       "      <td>NaN</td>\n",
       "      <td>175.0</td>\n",
       "    </tr>\n",
       "    <tr>\n",
       "      <th>3693</th>\n",
       "      <td>89157573.0</td>\n",
       "      <td>ELVARLI</td>\n",
       "      <td>Wardrobes</td>\n",
       "      <td>2745.0</td>\n",
       "      <td>SR 3,130</td>\n",
       "      <td>True</td>\n",
       "      <td>https://www.ikea.com/sa/en/p/elvarli-3-section...</td>\n",
       "      <td>No</td>\n",
       "      <td>3 sections,          178x51x222-350 cm</td>\n",
       "      <td>Ehlén Johansson</td>\n",
       "      <td>50.0</td>\n",
       "      <td>NaN</td>\n",
       "      <td>178.0</td>\n",
       "    </tr>\n",
       "  </tbody>\n",
       "</table>\n",
       "<p>3694 rows × 13 columns</p>\n",
       "</div>"
      ],
      "text/plain": [
       "         item_id                   name       category   price     old_price  \\\n",
       "0            NaN                   None           None     NaN          None   \n",
       "1     90420332.0               FREKVENS  Bar furniture   265.0  No old price   \n",
       "2       368814.0              NORDVIKEN  Bar furniture   995.0  No old price   \n",
       "3      9333523.0  NORDVIKEN / NORDVIKEN  Bar furniture  2095.0  No old price   \n",
       "4     80155205.0                   STIG  Bar furniture    69.0  No old price   \n",
       "...          ...                    ...            ...     ...           ...   \n",
       "3689  89330653.0      PAX / MEHAMN/AULI      Wardrobes  2045.0  No old price   \n",
       "3690  99157902.0                ELVARLI      Wardrobes   750.0        SR 820   \n",
       "3691   9158152.0                ELVARLI      Wardrobes  1572.0      SR 1,755   \n",
       "3692  59157541.0                ELVARLI      Wardrobes   924.0      SR 1,050   \n",
       "3693  89157573.0                ELVARLI      Wardrobes  2745.0      SR 3,130   \n",
       "\n",
       "     sellable_online                                               link  \\\n",
       "0                NaN                                               None   \n",
       "1               True  https://www.ikea.com/sa/en/p/frekvens-bar-tabl...   \n",
       "2              False  https://www.ikea.com/sa/en/p/nordviken-bar-tab...   \n",
       "3              False  https://www.ikea.com/sa/en/p/nordviken-nordvik...   \n",
       "4               True  https://www.ikea.com/sa/en/p/stig-bar-stool-wi...   \n",
       "...              ...                                                ...   \n",
       "3689            True  https://www.ikea.com/sa/en/p/pax-mehamn-auli-w...   \n",
       "3690            True  https://www.ikea.com/sa/en/p/elvarli-1-section...   \n",
       "3691            True  https://www.ikea.com/sa/en/p/elvarli-2-section...   \n",
       "3692            True  https://www.ikea.com/sa/en/p/elvarli-2-section...   \n",
       "3693            True  https://www.ikea.com/sa/en/p/elvarli-3-section...   \n",
       "\n",
       "     other_colors                                  short_description  \\\n",
       "0            None                                               None   \n",
       "1              No           Bar table, in/outdoor,          51x51 cm   \n",
       "2              No                      Bar table,          140x80 cm   \n",
       "3              No                         Bar table and 4 bar stools   \n",
       "4             Yes            Bar stool with backrest,          74 cm   \n",
       "...           ...                                                ...   \n",
       "3689           No          Wardrobe combination,          200x66x...   \n",
       "3690           No               1 section,          92x51x222-350 cm   \n",
       "3691           No             2 sections,          135x51x222-350 cm   \n",
       "3692           No             2 sections,          175x51x222-350 cm   \n",
       "3693           No             3 sections,          178x51x222-350 cm   \n",
       "\n",
       "                            designer  depth  height  width  \n",
       "0                               None    NaN     NaN    NaN  \n",
       "1               Nicholai Wiig Hansen    NaN    99.0   51.0  \n",
       "2                  Francis Cayouette    NaN   105.0   80.0  \n",
       "3                  Francis Cayouette    NaN     NaN    NaN  \n",
       "4                      Henrik Preutz   50.0   100.0   60.0  \n",
       "...                              ...    ...     ...    ...  \n",
       "3689  IKEA of Sweden/Ehlén Johansson   66.0   236.0  200.0  \n",
       "3690                 Ehlén Johansson   50.0     NaN   91.0  \n",
       "3691                 Ehlén Johansson   50.0     NaN  135.0  \n",
       "3692                 Ehlén Johansson   50.0     NaN  175.0  \n",
       "3693                 Ehlén Johansson   50.0     NaN  178.0  \n",
       "\n",
       "[3694 rows x 13 columns]"
      ]
     },
     "execution_count": 25,
     "metadata": {},
     "output_type": "execute_result"
    }
   ],
   "source": [
    "df.shift()"
   ]
  },
  {
   "cell_type": "markdown",
   "metadata": {},
   "source": [
    "6) Вывести основные описательные статистики для числовых признаков"
   ]
  },
  {
   "cell_type": "code",
   "execution_count": 26,
   "metadata": {},
   "outputs": [
    {
     "name": "stderr",
     "output_type": "stream",
     "text": [
      "C:\\Users\\maxim\\AppData\\Local\\Temp\\ipykernel_9804\\3698961737.py:1: FutureWarning: The default value of numeric_only in DataFrame.mean is deprecated. In a future version, it will default to False. In addition, specifying 'numeric_only=None' is deprecated. Select only valid columns or specify the value of numeric_only to silence this warning.\n",
      "  df.mean()\n"
     ]
    },
    {
     "data": {
      "text/plain": [
       "item_id            4.863240e+07\n",
       "price              1.078208e+03\n",
       "sellable_online    9.924201e-01\n",
       "depth              5.437920e+01\n",
       "height             1.016800e+02\n",
       "width              1.044709e+02\n",
       "dtype: float64"
      ]
     },
     "execution_count": 26,
     "metadata": {},
     "output_type": "execute_result"
    }
   ],
   "source": [
    "df.mean()"
   ]
  },
  {
   "cell_type": "code",
   "execution_count": 27,
   "metadata": {},
   "outputs": [
    {
     "name": "stderr",
     "output_type": "stream",
     "text": [
      "C:\\Users\\maxim\\AppData\\Local\\Temp\\ipykernel_9804\\530051474.py:1: FutureWarning: The default value of numeric_only in DataFrame.median is deprecated. In a future version, it will default to False. In addition, specifying 'numeric_only=None' is deprecated. Select only valid columns or specify the value of numeric_only to silence this warning.\n",
      "  df.median()\n"
     ]
    },
    {
     "data": {
      "text/plain": [
       "item_id            49288078.0\n",
       "price                   544.7\n",
       "sellable_online           1.0\n",
       "depth                    47.0\n",
       "height                   83.0\n",
       "width                    80.0\n",
       "dtype: float64"
      ]
     },
     "execution_count": 27,
     "metadata": {},
     "output_type": "execute_result"
    }
   ],
   "source": [
    "df.median()"
   ]
  },
  {
   "cell_type": "code",
   "execution_count": 28,
   "metadata": {},
   "outputs": [
    {
     "name": "stderr",
     "output_type": "stream",
     "text": [
      "C:\\Users\\maxim\\AppData\\Local\\Temp\\ipykernel_9804\\1568254755.py:1: FutureWarning: The default value of numeric_only in DataFrame.var is deprecated. In a future version, it will default to False. In addition, specifying 'numeric_only=None' is deprecated. Select only valid columns or specify the value of numeric_only to silence this warning.\n",
      "  df.var()\n"
     ]
    },
    {
     "data": {
      "text/plain": [
       "item_id            8.344642e+14\n",
       "price              1.889669e+06\n",
       "sellable_online    7.524442e-03\n",
       "depth              8.975028e+02\n",
       "height             3.732915e+03\n",
       "width              5.060013e+03\n",
       "dtype: float64"
      ]
     },
     "execution_count": 28,
     "metadata": {},
     "output_type": "execute_result"
    }
   ],
   "source": [
    "df.var()"
   ]
  },
  {
   "cell_type": "markdown",
   "metadata": {},
   "source": [
    "7) Вывести основные описательные статистики для булевых и категориальных признаков"
   ]
  },
  {
   "cell_type": "code",
   "execution_count": 29,
   "metadata": {},
   "outputs": [
    {
     "data": {
      "text/html": [
       "<div>\n",
       "<style scoped>\n",
       "    .dataframe tbody tr th:only-of-type {\n",
       "        vertical-align: middle;\n",
       "    }\n",
       "\n",
       "    .dataframe tbody tr th {\n",
       "        vertical-align: top;\n",
       "    }\n",
       "\n",
       "    .dataframe thead th {\n",
       "        text-align: right;\n",
       "    }\n",
       "</style>\n",
       "<table border=\"1\" class=\"dataframe\">\n",
       "  <thead>\n",
       "    <tr style=\"text-align: right;\">\n",
       "      <th></th>\n",
       "      <th>item_id</th>\n",
       "      <th>price</th>\n",
       "      <th>depth</th>\n",
       "      <th>height</th>\n",
       "      <th>width</th>\n",
       "    </tr>\n",
       "  </thead>\n",
       "  <tbody>\n",
       "    <tr>\n",
       "      <th>count</th>\n",
       "      <td>3.694000e+03</td>\n",
       "      <td>3694.000000</td>\n",
       "      <td>2231.000000</td>\n",
       "      <td>2706.000000</td>\n",
       "      <td>3105.000000</td>\n",
       "    </tr>\n",
       "    <tr>\n",
       "      <th>mean</th>\n",
       "      <td>4.863240e+07</td>\n",
       "      <td>1078.208419</td>\n",
       "      <td>54.379202</td>\n",
       "      <td>101.679970</td>\n",
       "      <td>104.470853</td>\n",
       "    </tr>\n",
       "    <tr>\n",
       "      <th>std</th>\n",
       "      <td>2.888709e+07</td>\n",
       "      <td>1374.652494</td>\n",
       "      <td>29.958351</td>\n",
       "      <td>61.097585</td>\n",
       "      <td>71.133771</td>\n",
       "    </tr>\n",
       "    <tr>\n",
       "      <th>min</th>\n",
       "      <td>5.848700e+04</td>\n",
       "      <td>3.000000</td>\n",
       "      <td>1.000000</td>\n",
       "      <td>1.000000</td>\n",
       "      <td>1.000000</td>\n",
       "    </tr>\n",
       "    <tr>\n",
       "      <th>25%</th>\n",
       "      <td>2.039057e+07</td>\n",
       "      <td>180.900000</td>\n",
       "      <td>38.000000</td>\n",
       "      <td>67.000000</td>\n",
       "      <td>60.000000</td>\n",
       "    </tr>\n",
       "    <tr>\n",
       "      <th>50%</th>\n",
       "      <td>4.928808e+07</td>\n",
       "      <td>544.700000</td>\n",
       "      <td>47.000000</td>\n",
       "      <td>83.000000</td>\n",
       "      <td>80.000000</td>\n",
       "    </tr>\n",
       "    <tr>\n",
       "      <th>75%</th>\n",
       "      <td>7.040357e+07</td>\n",
       "      <td>1429.500000</td>\n",
       "      <td>60.000000</td>\n",
       "      <td>124.000000</td>\n",
       "      <td>140.000000</td>\n",
       "    </tr>\n",
       "    <tr>\n",
       "      <th>max</th>\n",
       "      <td>9.993262e+07</td>\n",
       "      <td>9585.000000</td>\n",
       "      <td>257.000000</td>\n",
       "      <td>700.000000</td>\n",
       "      <td>420.000000</td>\n",
       "    </tr>\n",
       "  </tbody>\n",
       "</table>\n",
       "</div>"
      ],
      "text/plain": [
       "            item_id        price        depth       height        width\n",
       "count  3.694000e+03  3694.000000  2231.000000  2706.000000  3105.000000\n",
       "mean   4.863240e+07  1078.208419    54.379202   101.679970   104.470853\n",
       "std    2.888709e+07  1374.652494    29.958351    61.097585    71.133771\n",
       "min    5.848700e+04     3.000000     1.000000     1.000000     1.000000\n",
       "25%    2.039057e+07   180.900000    38.000000    67.000000    60.000000\n",
       "50%    4.928808e+07   544.700000    47.000000    83.000000    80.000000\n",
       "75%    7.040357e+07  1429.500000    60.000000   124.000000   140.000000\n",
       "max    9.993262e+07  9585.000000   257.000000   700.000000   420.000000"
      ]
     },
     "execution_count": 29,
     "metadata": {},
     "output_type": "execute_result"
    }
   ],
   "source": [
    "df.describe()"
   ]
  },
  {
   "cell_type": "markdown",
   "metadata": {},
   "source": [
    "8) Проанализировать признак old_price, посмотреть на **уникальные значения** (понадобится в следующем задании)"
   ]
  },
  {
   "cell_type": "code",
   "execution_count": 30,
   "metadata": {
    "scrolled": true
   },
   "outputs": [
    {
     "data": {
      "text/plain": [
       "array(['No old price', 'SR 2,375', 'SR 295', 'SR 175', 'SR 995',\n",
       "       'SR 1,385', 'SR 445', 'SR 925', 'SR 2,205', 'SR 895', 'SR 2,435',\n",
       "       'SR 125', 'SR 1,595', 'SR 2,880', 'SR 940', 'SR 800', 'SR 1,995',\n",
       "       'SR 3,245', 'SR 8,735', 'SR 2,310', 'SR 2,560', 'SR 3,760',\n",
       "       'SR 3,130', 'SR 9,745', 'SR 1,885', 'SR 3,265', 'SR 50/4 pack',\n",
       "       'SR 1,450', 'SR 250', 'SR 1,590', 'SR 2,360', 'SR 4,040',\n",
       "       'SR 1,715', 'SR 2,100', 'SR 2,395', 'SR 1,250', 'SR 5,610',\n",
       "       'SR 7,225', 'SR 2,795', 'SR 8,540', 'SR 1,950', 'SR 5,400',\n",
       "       'SR 375', 'SR 5,045', 'SR 5,640', 'SR 3,665', 'SR 2,095',\n",
       "       'SR 2,495', 'SR 9,430', 'SR 6,530', 'SR 138', 'SR 350', 'SR 1,023',\n",
       "       'SR 437', 'SR 1,390', 'SR 50', 'SR 595', 'SR 275', 'SR 395',\n",
       "       'SR 26', 'SR 695', 'SR 645', 'SR 649', 'SR 232', 'SR 750', 'SR 30',\n",
       "       'SR 892', 'SR 10', 'SR 490', 'SR 4,185', 'SR 655', 'SR 27',\n",
       "       'SR 455', 'SR 7', 'SR 657', 'SR 1,120', 'SR 237', 'SR 22',\n",
       "       'SR 1,180', 'SR 15', 'SR 10/4 pack', 'SR 2,138', 'SR 452',\n",
       "       'SR 2,605', 'SR 55', 'SR 65', 'SR 444', 'SR 732', 'SR 266',\n",
       "       'SR 2,485', 'SR 438', 'SR 550', 'SR 1,948', 'SR 1,865', 'SR 178',\n",
       "       'SR 840', 'SR 1,098', 'SR 530', 'SR 785', 'SR 205', 'SR 446',\n",
       "       'SR 951', 'SR 326', 'SR 310', 'SR 1,277', 'SR 627', 'SR 557',\n",
       "       'SR 587', 'SR 340', 'SR 776', 'SR 1,378', 'SR 671', 'SR 977',\n",
       "       'SR 981', 'SR 1,365', 'SR 569', 'SR 345', 'SR 690', 'SR 380',\n",
       "       'SR 370', 'SR 1,395', 'SR 432', 'SR 795', 'SR 1,505', 'SR 845',\n",
       "       'SR 1,307', 'SR 1,190', 'SR 1,695', 'SR 1,650', 'SR 45',\n",
       "       'SR 1,895', 'SR 1,182', 'SR 2,985', 'SR 745', 'SR 225', 'SR 75',\n",
       "       'SR 99', 'SR 1,315', 'SR 20', 'SR 1,300', 'SR 19', 'SR 545',\n",
       "       'SR 640', 'SR 1,620', 'SR 915', 'SR 95', 'SR 35', 'SR 325',\n",
       "       'SR 1,835', 'SR 425', 'SR 263', 'SR 105', 'SR 1,645', 'SR 1,109',\n",
       "       'SR 3,945', 'SR 1,099', 'SR 3,790', 'SR 1,495', 'SR 383', 'SR 699',\n",
       "       'SR 2,175', 'SR 3,250', 'SR 1,045', 'SR 2,125', 'SR 4,475',\n",
       "       'SR 2,045', 'SR 349', 'SR 4,445', 'SR 2,275', 'SR 179', 'SR 525',\n",
       "       'SR 1,625', 'SR 570', 'SR 2,325', 'SR 1,150', 'SR 635', 'SR 1,125',\n",
       "       'SR 575', 'SR 300', 'SR 2,350', 'SR 625', 'SR 475', 'SR 400',\n",
       "       'SR 505', 'SR 1,225', 'SR 1,925', 'SR 1,200', 'SR 775', 'SR 1,525',\n",
       "       'SR 2,050', 'SR 725', 'SR 1,325', 'SR 500', 'SR 1,975', 'SR 1,350',\n",
       "       'SR 520', 'SR 435', 'SR 59', 'SR 185', 'SR 1,193', 'SR 3,208',\n",
       "       'SR 519', 'SR 3,965', 'SR 29', 'SR 2,745', 'SR 2,165', 'SR 1,295',\n",
       "       'SR 3,145', 'SR 39', 'SR 2,105', 'SR 752', 'SR 2,368', 'SR 24',\n",
       "       'SR 2,225', 'SR 855', 'SR 1,243', 'SR 3,269', 'SR 445/2 pack',\n",
       "       'SR 3,735', 'SR 540', 'SR 3,025', 'SR 2,945', 'SR 1,535',\n",
       "       'SR 1,010', 'SR 1,570', 'SR 3,045', 'SR 1,545', 'SR 1,345',\n",
       "       'SR 4,125', 'SR 5,725', 'SR 2,525', 'SR 1,210', 'SR 2,075',\n",
       "       'SR 2,995', 'SR 8,350', 'SR 2,295', 'SR 215', 'SR 100', 'SR 6,795',\n",
       "       'SR 150', 'SR 8,475', 'SR 200', 'SR 100/4 pack', 'SR 2,875',\n",
       "       'SR 4,870', 'SR 130', 'SR 5,275', 'SR 850', 'SR 6,875', 'SR 4,495',\n",
       "       'SR 175/2 pack', 'SR 4,750', 'SR 145', 'SR 1,275', 'SR 5,755',\n",
       "       'SR 9,985', 'SR 5,145', 'SR 4,235', 'SR 6,625', 'SR 1,600',\n",
       "       'SR 6,785', 'SR 3,885', 'SR 1,700', 'SR 7,245', 'SR 3,370',\n",
       "       'SR 450', 'SR 2,695', 'SR 5,560', 'SR 8,000', 'SR 7,700',\n",
       "       'SR 2,900', 'SR 4,885', 'SR 4,450', 'SR 5,890', 'SR 5,215',\n",
       "       'SR 7,785', 'SR 1,675', 'SR 3,995', 'SR 9,685', 'SR 315', 'SR 90',\n",
       "       'SR 955', 'SR 265', 'SR 865', 'SR 235', 'SR 85', 'SR 390',\n",
       "       'SR 410', 'SR 495', 'SR 1,400', 'SR 2,240', 'SR 385', 'SR 7,090',\n",
       "       'SR 6,590', 'SR 240', 'SR 6,660', 'SR 8,180', 'SR 4,140',\n",
       "       'SR 4,090', 'SR 3,690', 'SR 900', 'SR 2,590', 'SR 7,380',\n",
       "       'SR 3,585', 'SR 360', 'SR 420', 'SR 1,090', 'SR 2,010', 'SR 2,155',\n",
       "       'SR 2,230', 'SR 2,770', 'SR 2,580', 'SR 1,230', 'SR 1,420',\n",
       "       'SR 1,030', 'SR 3,425', 'SR 3,275', 'SR 535', 'SR 885', 'SR 2,870',\n",
       "       'SR 2,760', 'SR 2,220', 'SR 1,985', 'SR 780', 'SR 660', 'SR 1,735',\n",
       "       'SR 4,920', 'SR 4,490', 'SR 3,435', 'SR 980', 'SR 1,580', 'SR 730',\n",
       "       'SR 2,245', 'SR 5,975', 'SR 2,270', 'SR 3,040', 'SR 3,535',\n",
       "       'SR 910', 'SR 3,500', 'SR 3,440', 'SR 2,565', 'SR 4,195',\n",
       "       'SR 1,355', 'SR 965', 'SR 1,145', 'SR 1,785', 'SR 3,375',\n",
       "       'SR 1,655', 'SR 3,490', 'SR 2,035', 'SR 890', 'SR 2,815', 'SR 765',\n",
       "       'SR 2,090', 'SR 2,830', 'SR 2,750', 'SR 2,235', 'SR 4,510',\n",
       "       'SR 2,160', 'SR 3,290', 'SR 1,460', 'SR 1,815', 'SR 820',\n",
       "       'SR 1,755', 'SR 1,050'], dtype=object)"
      ]
     },
     "execution_count": 30,
     "metadata": {},
     "output_type": "execute_result"
    }
   ],
   "source": [
    "df['old_price'].unique()"
   ]
  },
  {
   "cell_type": "markdown",
   "metadata": {},
   "source": [
    "9) **Написать функцию** (пока без применения) получения цены в формате float из признака **old_price** (преобразование значений признака в этой же колонке). \n",
    "\n",
    "Пояснение:\n",
    "\n",
    "- Если имеем значение = 'No old price' в old_price, то оставляем исходную цену, то есть берем значение из признака **price**\n",
    "- Там, где присутствует значение **pack** в old_price, нужно просто убрать все то, что идет после знака /\n",
    "- Например, цена SR 5,640 в old_price читается как SR 5640 (то есть без запятой), по итогу должны получить новое значение 5640\n",
    "- На вход должны подаваться значения старой и новой цены"
   ]
  },
  {
   "cell_type": "markdown",
   "metadata": {},
   "source": [
    "<div class=\"alert alert-block alert-warning\"> \n",
    "Написать функцию (пока без применения) получения цены в формате float из признака old_price\n",
    "\n",
    "\n",
    "Нужно читать правильно задание, где получение цены в формате float??\n",
    "</div>"
   ]
  },
  {
   "cell_type": "code",
   "execution_count": 31,
   "metadata": {},
   "outputs": [],
   "source": [
    "# data_old - значение из old_price\n",
    "# data_price - значение из price\n",
    "# return transform old_price\n",
    "\n",
    "def change_old_price(data_old_price: str, data_price: float) -> float:\n",
    "    if data_old_price.__contains__('a'):\n",
    "        if data_old_price == 'No old price':\n",
    "            return data_price\n",
    "    return data_old_price"
   ]
  },
  {
   "cell_type": "code",
   "execution_count": 32,
   "metadata": {
    "scrolled": true
   },
   "outputs": [
    {
     "data": {
      "text/plain": [
       "0       No old price\n",
       "1       No old price\n",
       "2       No old price\n",
       "3       No old price\n",
       "4       No old price\n",
       "            ...     \n",
       "3689          SR 820\n",
       "3690        SR 1,755\n",
       "3691        SR 1,050\n",
       "3692        SR 3,130\n",
       "3693        SR 1,535\n",
       "Name: old_price, Length: 3694, dtype: object"
      ]
     },
     "execution_count": 32,
     "metadata": {},
     "output_type": "execute_result"
    }
   ],
   "source": [
    "change_old_price(df['old_price'], df['price'])"
   ]
  },
  {
   "cell_type": "markdown",
   "metadata": {},
   "source": [
    "10) Генерация и преобразование признаков\n",
    "- Создать признак **flg_old_price**, где 0 - это означает, что есть значение **'No old price'** в признаке **old_price**, иначе поставить 1 (флаг)\n",
    "- Преобразовать признак **old_price** при помощи написанной функции **change_old_price()** в задании 9\n",
    "- Создать признак **discount_amount = старая цена - цена**\n",
    "\n",
    "**Подсказка для преобразования old_price**:\n",
    "\n",
    "```python\n",
    "... = df.apply(lambda x: change_old_price(x['old_price'], x['price']), axis=1)\n",
    "```"
   ]
  },
  {
   "cell_type": "code",
   "execution_count": 33,
   "metadata": {},
   "outputs": [
    {
     "data": {
      "text/html": [
       "<div>\n",
       "<style scoped>\n",
       "    .dataframe tbody tr th:only-of-type {\n",
       "        vertical-align: middle;\n",
       "    }\n",
       "\n",
       "    .dataframe tbody tr th {\n",
       "        vertical-align: top;\n",
       "    }\n",
       "\n",
       "    .dataframe thead th {\n",
       "        text-align: right;\n",
       "    }\n",
       "</style>\n",
       "<table border=\"1\" class=\"dataframe\">\n",
       "  <thead>\n",
       "    <tr style=\"text-align: right;\">\n",
       "      <th></th>\n",
       "      <th>item_id</th>\n",
       "      <th>name</th>\n",
       "      <th>category</th>\n",
       "      <th>price</th>\n",
       "      <th>old_price</th>\n",
       "      <th>sellable_online</th>\n",
       "      <th>link</th>\n",
       "      <th>other_colors</th>\n",
       "      <th>short_description</th>\n",
       "      <th>designer</th>\n",
       "      <th>depth</th>\n",
       "      <th>height</th>\n",
       "      <th>width</th>\n",
       "      <th>flg_old_price</th>\n",
       "    </tr>\n",
       "  </thead>\n",
       "  <tbody>\n",
       "    <tr>\n",
       "      <th>0</th>\n",
       "      <td>90420332</td>\n",
       "      <td>FREKVENS</td>\n",
       "      <td>Bar furniture</td>\n",
       "      <td>265.0</td>\n",
       "      <td>No old price</td>\n",
       "      <td>True</td>\n",
       "      <td>https://www.ikea.com/sa/en/p/frekvens-bar-tabl...</td>\n",
       "      <td>No</td>\n",
       "      <td>Bar table, in/outdoor,          51x51 cm</td>\n",
       "      <td>Nicholai Wiig Hansen</td>\n",
       "      <td>NaN</td>\n",
       "      <td>99.0</td>\n",
       "      <td>51.0</td>\n",
       "      <td>No old price</td>\n",
       "    </tr>\n",
       "    <tr>\n",
       "      <th>1</th>\n",
       "      <td>368814</td>\n",
       "      <td>NORDVIKEN</td>\n",
       "      <td>Bar furniture</td>\n",
       "      <td>995.0</td>\n",
       "      <td>No old price</td>\n",
       "      <td>False</td>\n",
       "      <td>https://www.ikea.com/sa/en/p/nordviken-bar-tab...</td>\n",
       "      <td>No</td>\n",
       "      <td>Bar table,          140x80 cm</td>\n",
       "      <td>Francis Cayouette</td>\n",
       "      <td>NaN</td>\n",
       "      <td>105.0</td>\n",
       "      <td>80.0</td>\n",
       "      <td>No old price</td>\n",
       "    </tr>\n",
       "    <tr>\n",
       "      <th>2</th>\n",
       "      <td>9333523</td>\n",
       "      <td>NORDVIKEN / NORDVIKEN</td>\n",
       "      <td>Bar furniture</td>\n",
       "      <td>2095.0</td>\n",
       "      <td>No old price</td>\n",
       "      <td>False</td>\n",
       "      <td>https://www.ikea.com/sa/en/p/nordviken-nordvik...</td>\n",
       "      <td>No</td>\n",
       "      <td>Bar table and 4 bar stools</td>\n",
       "      <td>Francis Cayouette</td>\n",
       "      <td>NaN</td>\n",
       "      <td>NaN</td>\n",
       "      <td>NaN</td>\n",
       "      <td>No old price</td>\n",
       "    </tr>\n",
       "    <tr>\n",
       "      <th>3</th>\n",
       "      <td>80155205</td>\n",
       "      <td>STIG</td>\n",
       "      <td>Bar furniture</td>\n",
       "      <td>69.0</td>\n",
       "      <td>No old price</td>\n",
       "      <td>True</td>\n",
       "      <td>https://www.ikea.com/sa/en/p/stig-bar-stool-wi...</td>\n",
       "      <td>Yes</td>\n",
       "      <td>Bar stool with backrest,          74 cm</td>\n",
       "      <td>Henrik Preutz</td>\n",
       "      <td>50.0</td>\n",
       "      <td>100.0</td>\n",
       "      <td>60.0</td>\n",
       "      <td>No old price</td>\n",
       "    </tr>\n",
       "    <tr>\n",
       "      <th>4</th>\n",
       "      <td>30180504</td>\n",
       "      <td>NORBERG</td>\n",
       "      <td>Bar furniture</td>\n",
       "      <td>225.0</td>\n",
       "      <td>No old price</td>\n",
       "      <td>True</td>\n",
       "      <td>https://www.ikea.com/sa/en/p/norberg-wall-moun...</td>\n",
       "      <td>No</td>\n",
       "      <td>Wall-mounted drop-leaf table,         ...</td>\n",
       "      <td>Marcus Arvonen</td>\n",
       "      <td>60.0</td>\n",
       "      <td>43.0</td>\n",
       "      <td>74.0</td>\n",
       "      <td>No old price</td>\n",
       "    </tr>\n",
       "    <tr>\n",
       "      <th>...</th>\n",
       "      <td>...</td>\n",
       "      <td>...</td>\n",
       "      <td>...</td>\n",
       "      <td>...</td>\n",
       "      <td>...</td>\n",
       "      <td>...</td>\n",
       "      <td>...</td>\n",
       "      <td>...</td>\n",
       "      <td>...</td>\n",
       "      <td>...</td>\n",
       "      <td>...</td>\n",
       "      <td>...</td>\n",
       "      <td>...</td>\n",
       "      <td>...</td>\n",
       "    </tr>\n",
       "    <tr>\n",
       "      <th>3689</th>\n",
       "      <td>99157902</td>\n",
       "      <td>ELVARLI</td>\n",
       "      <td>Wardrobes</td>\n",
       "      <td>750.0</td>\n",
       "      <td>SR 820</td>\n",
       "      <td>True</td>\n",
       "      <td>https://www.ikea.com/sa/en/p/elvarli-1-section...</td>\n",
       "      <td>No</td>\n",
       "      <td>1 section,          92x51x222-350 cm</td>\n",
       "      <td>Ehlén Johansson</td>\n",
       "      <td>50.0</td>\n",
       "      <td>NaN</td>\n",
       "      <td>91.0</td>\n",
       "      <td>SR 820</td>\n",
       "    </tr>\n",
       "    <tr>\n",
       "      <th>3690</th>\n",
       "      <td>9158152</td>\n",
       "      <td>ELVARLI</td>\n",
       "      <td>Wardrobes</td>\n",
       "      <td>1572.0</td>\n",
       "      <td>SR 1,755</td>\n",
       "      <td>True</td>\n",
       "      <td>https://www.ikea.com/sa/en/p/elvarli-2-section...</td>\n",
       "      <td>No</td>\n",
       "      <td>2 sections,          135x51x222-350 cm</td>\n",
       "      <td>Ehlén Johansson</td>\n",
       "      <td>50.0</td>\n",
       "      <td>NaN</td>\n",
       "      <td>135.0</td>\n",
       "      <td>SR 1,755</td>\n",
       "    </tr>\n",
       "    <tr>\n",
       "      <th>3691</th>\n",
       "      <td>59157541</td>\n",
       "      <td>ELVARLI</td>\n",
       "      <td>Wardrobes</td>\n",
       "      <td>924.0</td>\n",
       "      <td>SR 1,050</td>\n",
       "      <td>True</td>\n",
       "      <td>https://www.ikea.com/sa/en/p/elvarli-2-section...</td>\n",
       "      <td>No</td>\n",
       "      <td>2 sections,          175x51x222-350 cm</td>\n",
       "      <td>Ehlén Johansson</td>\n",
       "      <td>50.0</td>\n",
       "      <td>NaN</td>\n",
       "      <td>175.0</td>\n",
       "      <td>SR 1,050</td>\n",
       "    </tr>\n",
       "    <tr>\n",
       "      <th>3692</th>\n",
       "      <td>89157573</td>\n",
       "      <td>ELVARLI</td>\n",
       "      <td>Wardrobes</td>\n",
       "      <td>2745.0</td>\n",
       "      <td>SR 3,130</td>\n",
       "      <td>True</td>\n",
       "      <td>https://www.ikea.com/sa/en/p/elvarli-3-section...</td>\n",
       "      <td>No</td>\n",
       "      <td>3 sections,          178x51x222-350 cm</td>\n",
       "      <td>Ehlén Johansson</td>\n",
       "      <td>50.0</td>\n",
       "      <td>NaN</td>\n",
       "      <td>178.0</td>\n",
       "      <td>SR 3,130</td>\n",
       "    </tr>\n",
       "    <tr>\n",
       "      <th>3693</th>\n",
       "      <td>69157376</td>\n",
       "      <td>ELVARLI</td>\n",
       "      <td>Wardrobes</td>\n",
       "      <td>1231.0</td>\n",
       "      <td>SR 1,535</td>\n",
       "      <td>True</td>\n",
       "      <td>https://www.ikea.com/sa/en/p/elvarli-2-section...</td>\n",
       "      <td>No</td>\n",
       "      <td>2 sections,          175x51x222-350 cm</td>\n",
       "      <td>Ehlén Johansson</td>\n",
       "      <td>50.0</td>\n",
       "      <td>NaN</td>\n",
       "      <td>175.0</td>\n",
       "      <td>SR 1,535</td>\n",
       "    </tr>\n",
       "  </tbody>\n",
       "</table>\n",
       "<p>3694 rows × 14 columns</p>\n",
       "</div>"
      ],
      "text/plain": [
       "       item_id                   name       category   price     old_price  \\\n",
       "0     90420332               FREKVENS  Bar furniture   265.0  No old price   \n",
       "1       368814              NORDVIKEN  Bar furniture   995.0  No old price   \n",
       "2      9333523  NORDVIKEN / NORDVIKEN  Bar furniture  2095.0  No old price   \n",
       "3     80155205                   STIG  Bar furniture    69.0  No old price   \n",
       "4     30180504                NORBERG  Bar furniture   225.0  No old price   \n",
       "...        ...                    ...            ...     ...           ...   \n",
       "3689  99157902                ELVARLI      Wardrobes   750.0        SR 820   \n",
       "3690   9158152                ELVARLI      Wardrobes  1572.0      SR 1,755   \n",
       "3691  59157541                ELVARLI      Wardrobes   924.0      SR 1,050   \n",
       "3692  89157573                ELVARLI      Wardrobes  2745.0      SR 3,130   \n",
       "3693  69157376                ELVARLI      Wardrobes  1231.0      SR 1,535   \n",
       "\n",
       "      sellable_online                                               link  \\\n",
       "0                True  https://www.ikea.com/sa/en/p/frekvens-bar-tabl...   \n",
       "1               False  https://www.ikea.com/sa/en/p/nordviken-bar-tab...   \n",
       "2               False  https://www.ikea.com/sa/en/p/nordviken-nordvik...   \n",
       "3                True  https://www.ikea.com/sa/en/p/stig-bar-stool-wi...   \n",
       "4                True  https://www.ikea.com/sa/en/p/norberg-wall-moun...   \n",
       "...               ...                                                ...   \n",
       "3689             True  https://www.ikea.com/sa/en/p/elvarli-1-section...   \n",
       "3690             True  https://www.ikea.com/sa/en/p/elvarli-2-section...   \n",
       "3691             True  https://www.ikea.com/sa/en/p/elvarli-2-section...   \n",
       "3692             True  https://www.ikea.com/sa/en/p/elvarli-3-section...   \n",
       "3693             True  https://www.ikea.com/sa/en/p/elvarli-2-section...   \n",
       "\n",
       "     other_colors                                  short_description  \\\n",
       "0              No           Bar table, in/outdoor,          51x51 cm   \n",
       "1              No                      Bar table,          140x80 cm   \n",
       "2              No                         Bar table and 4 bar stools   \n",
       "3             Yes            Bar stool with backrest,          74 cm   \n",
       "4              No          Wall-mounted drop-leaf table,         ...   \n",
       "...           ...                                                ...   \n",
       "3689           No               1 section,          92x51x222-350 cm   \n",
       "3690           No             2 sections,          135x51x222-350 cm   \n",
       "3691           No             2 sections,          175x51x222-350 cm   \n",
       "3692           No             3 sections,          178x51x222-350 cm   \n",
       "3693           No             2 sections,          175x51x222-350 cm   \n",
       "\n",
       "                  designer  depth  height  width flg_old_price  \n",
       "0     Nicholai Wiig Hansen    NaN    99.0   51.0  No old price  \n",
       "1        Francis Cayouette    NaN   105.0   80.0  No old price  \n",
       "2        Francis Cayouette    NaN     NaN    NaN  No old price  \n",
       "3            Henrik Preutz   50.0   100.0   60.0  No old price  \n",
       "4           Marcus Arvonen   60.0    43.0   74.0  No old price  \n",
       "...                    ...    ...     ...    ...           ...  \n",
       "3689       Ehlén Johansson   50.0     NaN   91.0        SR 820  \n",
       "3690       Ehlén Johansson   50.0     NaN  135.0      SR 1,755  \n",
       "3691       Ehlén Johansson   50.0     NaN  175.0      SR 1,050  \n",
       "3692       Ehlén Johansson   50.0     NaN  178.0      SR 3,130  \n",
       "3693       Ehlén Johansson   50.0     NaN  175.0      SR 1,535  \n",
       "\n",
       "[3694 rows x 14 columns]"
      ]
     },
     "execution_count": 33,
     "metadata": {},
     "output_type": "execute_result"
    }
   ],
   "source": [
    "df['flg_old_price'] = df.apply(lambda x: change_old_price(x['old_price'], x['price']), axis=1)\n",
    "df"
   ]
  },
  {
   "cell_type": "markdown",
   "metadata": {},
   "source": [
    "<div class=\"alert alert-block alert-success\">\n",
    "    \n",
    "Представим, что мы будем решать задачу регрессии и на новых товарах предсказывать **новую** цену.\n",
    "\n",
    "С учетом этого выдвините свои гипотезы далее\n",
    "</div>"
   ]
  },
  {
   "cell_type": "markdown",
   "metadata": {},
   "source": [
    "## 1 Гипотеза\n",
    "\n",
    "- Старые и новые цены отличаются друг от друга, новые цены выше"
   ]
  },
  {
   "cell_type": "markdown",
   "metadata": {},
   "source": [
    "Построить график распределения старой и текущих цен (уместить на одном графике), есть ли видимые отличия?"
   ]
  },
  {
   "cell_type": "code",
   "execution_count": 53,
   "metadata": {},
   "outputs": [
    {
     "name": "stderr",
     "output_type": "stream",
     "text": [
      "C:\\Users\\maxim\\AppData\\Local\\Temp\\ipykernel_9804\\333796266.py:11: UserWarning: \n",
      "\n",
      "`distplot` is a deprecated function and will be removed in seaborn v0.14.0.\n",
      "\n",
      "Please adapt your code to use either `displot` (a figure-level function with\n",
      "similar flexibility) or `kdeplot` (an axes-level function for kernel density plots).\n",
      "\n",
      "For a guide to updating your code to use the new functions, please see\n",
      "https://gist.github.com/mwaskom/de44147ed2974457ad6372750bbe5751\n",
      "\n",
      "  ax = sns.distplot(x, hist=False, rug=True, bins=10)\n"
     ]
    },
    {
     "data": {
      "image/png": "[encoded data removed]",
      "text/plain": [
       "<Figure size 800x600 with 1 Axes>"
      ]
     },
     "metadata": {},
     "output_type": "display_data"
    }
   ],
   "source": [
    "import numpy as np\n",
    "import matplotlib.pyplot as plt\n",
    "import matplotlib\n",
    "import seaborn as sns\n",
    "\n",
    "matplotlib.rcParams.update({'font.size': 12})\n",
    "\n",
    "x = np.linspace(-1, 1, 250)\n",
    "f, ax = plt.subplots(figsize=(8,6))\n",
    "x = df['price']\n",
    "ax = sns.distplot(x, hist=False, rug=True, bins=10)\n",
    "plt.show()"
   ]
  },
  {
   "cell_type": "markdown",
   "metadata": {},
   "source": [
    "<div class=\"alert alert-block alert-warning\"> \n",
    "Как то понятнее график нужно сделать\n",
    "</div>"
   ]
  },
  {
   "cell_type": "markdown",
   "metadata": {},
   "source": [
    "**Сделайте выводы**\n",
    "\n",
    "Если график построен верно то видимые отличия на лицо."
   ]
  },
  {
   "cell_type": "markdown",
   "metadata": {},
   "source": [
    "## 2 Гипотеза\n",
    "\n",
    "- Текущие цены онлайн и оффлайн не отличаются в разрезе наличия скидки (можно использовать признак flg_old_price)"
   ]
  },
  {
   "cell_type": "markdown",
   "metadata": {},
   "source": [
    "<div class=\"alert alert-block alert-warning\"> \n",
    "Читаем правильно задание\n",
    "</div>"
   ]
  },
  {
   "cell_type": "markdown",
   "metadata": {},
   "source": [
    "Сравнить при помощи boxplot и displot текущую цену при разных значениях sellable_online, есть ли разница?\n",
    "\n",
    "Для графика boxplot также проанализировать различия в разрезе flg_old_price (параметр hue)"
   ]
  },
  {
   "cell_type": "code",
   "execution_count": 62,
   "metadata": {},
   "outputs": [
    {
     "name": "stderr",
     "output_type": "stream",
     "text": [
      "C:\\Users\\maxim\\AppData\\Local\\Temp\\ipykernel_14352\\2436017819.py:3: UserWarning: \n",
      "\n",
      "`distplot` is a deprecated function and will be removed in seaborn v0.14.0.\n",
      "\n",
      "Please adapt your code to use either `displot` (a figure-level function with\n",
      "similar flexibility) or `histplot` (an axes-level function for histograms).\n",
      "\n",
      "For a guide to updating your code to use the new functions, please see\n",
      "https://gist.github.com/mwaskom/de44147ed2974457ad6372750bbe5751\n",
      "\n",
      "  sns.distplot(df['price']);\n"
     ]
    },
    {
     "data": {
      "image/png": "[encoded data removed]",
      "text/plain": [
       "<Figure size 640x480 with 1 Axes>"
      ]
     },
     "metadata": {},
     "output_type": "display_data"
    }
   ],
   "source": [
    "#create boxplot of one column\n",
    "sns.distplot(df['price']);"
   ]
  },
  {
   "cell_type": "code",
   "execution_count": 63,
   "metadata": {},
   "outputs": [
    {
     "data": {
      "text/plain": [
       "<Axes: >"
      ]
     },
     "execution_count": 63,
     "metadata": {},
     "output_type": "execute_result"
    },
    {
     "data": {
      "image/png": "[encoded data removed]",
      "text/plain": [
       "<Figure size 640x480 with 1 Axes>"
      ]
     },
     "metadata": {},
     "output_type": "display_data"
    }
   ],
   "source": [
    "sns.boxplot(df['price'])"
   ]
  },
  {
   "cell_type": "markdown",
   "metadata": {},
   "source": [
    "**Сделайте выводы**\n",
    "\n",
    "- \n",
    "- "
   ]
  },
  {
   "cell_type": "markdown",
   "metadata": {},
   "source": [
    "## 3 Гипотеза\n",
    "\n",
    "- Цены на товары, которые имеют несколько цветов, больше (многообразие цветов связано со значением цены)"
   ]
  },
  {
   "cell_type": "markdown",
   "metadata": {},
   "source": [
    "<div class=\"alert alert-block alert-warning\"> \n",
    "У нас теперь везде будут на все гипотезы одинаковые графики? =) \n",
    "</div>"
   ]
  },
  {
   "cell_type": "markdown",
   "metadata": {},
   "source": [
    "Сравнить при помощи boxplot и displot цену при разных значениях other_colors, есть ли разница?"
   ]
  },
  {
   "cell_type": "code",
   "execution_count": 64,
   "metadata": {},
   "outputs": [
    {
     "name": "stderr",
     "output_type": "stream",
     "text": [
      "C:\\Users\\maxim\\AppData\\Local\\Temp\\ipykernel_14352\\2013158146.py:1: UserWarning: \n",
      "\n",
      "`distplot` is a deprecated function and will be removed in seaborn v0.14.0.\n",
      "\n",
      "Please adapt your code to use either `displot` (a figure-level function with\n",
      "similar flexibility) or `histplot` (an axes-level function for histograms).\n",
      "\n",
      "For a guide to updating your code to use the new functions, please see\n",
      "https://gist.github.com/mwaskom/de44147ed2974457ad6372750bbe5751\n",
      "\n",
      "  sns.distplot(df['price']);\n"
     ]
    },
    {
     "data": {
      "image/png": "[encoded data removed]",
      "text/plain": [
       "<Figure size 640x480 with 1 Axes>"
      ]
     },
     "metadata": {},
     "output_type": "display_data"
    }
   ],
   "source": [
    "sns.distplot(df['price']);"
   ]
  },
  {
   "cell_type": "code",
   "execution_count": 65,
   "metadata": {},
   "outputs": [
    {
     "data": {
      "text/plain": [
       "<Axes: >"
      ]
     },
     "execution_count": 65,
     "metadata": {},
     "output_type": "execute_result"
    },
    {
     "data": {
      "image/png": "[encoded data removed]",
      "text/plain": [
       "<Figure size 640x480 with 1 Axes>"
      ]
     },
     "metadata": {},
     "output_type": "display_data"
    }
   ],
   "source": [
    "sns.boxplot(df['price'])"
   ]
  },
  {
   "cell_type": "markdown",
   "metadata": {},
   "source": [
    "**Сделайте выводы**\n",
    "\n",
    "- \n",
    "- "
   ]
  },
  {
   "cell_type": "markdown",
   "metadata": {},
   "source": [
    "## Ваши гипотезы"
   ]
  },
  {
   "cell_type": "markdown",
   "metadata": {},
   "source": [
    "Необходимо написать как минимум еще 4 гипотезы, которые в последствии нужно проанализировать при помощи графиков\n",
    "- Использовать обязательно heatmap (подсказка: его не обязательно использовать только для корреляции, можно оценивать наглядно сами числовые значения в той или иной группе), boxplot, pairplot, countplot, если необходимо, то и другие типы графиков\n",
    "- В гипотезах постарайтесь задействовать такие признаки как: цена, категория, ширина, высота, глубина, discount_amount, other_colors и дргуие\n",
    "- Исходить из той задачи, что мы хотим предсказать **ЦЕНУ ТОВАРА на новых данных**, постараться написать и исследовать гипотезы так, чтобы они были **понятны бизнесу со всеми пояснениями**\n",
    "- Обязательно проанализировать взаимосвязь габаритов товаров в разрезе категории, а также взаимосвязь габаритов с ценой товара\n",
    "- Если вы хотите создать новые признаки, то обязательно это нужно сделать с учетом бизнес-задачи, и чтобы это помогло в анализе ваших данных\n",
    "- Если вы хотите как-то задействовать дизайнеров в своем анализе, лучше смотреть дизайнеры ИКЕА/НЕ ИКЕА, так как очень много уникальных значений\n",
    "\n",
    "\n",
    "**Также важно учесть:**"
   ]
  },
  {
   "cell_type": "markdown",
   "metadata": {},
   "source": [
    "<div class=\"alert alert-block alert-danger\">\n",
    "\n",
    "- Если ваша гипотеза никак не будет связана с итоговой целью напрямую/опосредовано - предсказать цену товара, то она не засчитывается\n",
    "\n",
    "    - Например, такая гипотеза - в разных категориях есть разные дизайнеры. Не совсем понятно, о чем гипотеза, что мы хотим этим показать, какой value для нас она может принести? Таких гипотез быть не должно\n",
    "- Не обязательно напрямую анализировать все признаки в разрезе цены, можно, к примеру анализировать и величину скидки, так как это нам тоже говорит, изменится цена или нет, либо анализировать габариты товаров и соответствующую скидку на них и так далее\n",
    "- Также здорово посмотреть чуть дальше, чем просто цена, например, а какие товары занимают больше места на складе, потенциально и это может влиять на множество бизнес-показателей\n",
    "\n",
    "</div> "
   ]
  },
  {
   "cell_type": "code",
   "execution_count": 87,
   "metadata": {},
   "outputs": [],
   "source": []
  },
  {
   "cell_type": "markdown",
   "metadata": {},
   "source": [
    "# Выводы"
   ]
  },
  {
   "cell_type": "markdown",
   "metadata": {},
   "source": [
    "Какие из ваших гипотез подтвердились? Попробуйте сделать краткие выводы о данных на основании анализа"
   ]
  },
  {
   "cell_type": "code",
   "execution_count": 88,
   "metadata": {},
   "outputs": [],
   "source": []
  },
  {
   "cell_type": "code",
   "execution_count": null,
   "metadata": {},
   "outputs": [],
   "source": []
  }
 ],
 "metadata": {
  "hide_input": false,
  "kernelspec": {
   "display_name": "Python 3 (ipykernel)",
   "language": "python",
   "name": "python3"
  },
  "language_info": {
   "codemirror_mode": {
    "name": "ipython",
    "version": 3
   },
   "file_extension": ".py",
   "mimetype": "text/x-python",
   "name": "python",
   "nbconvert_exporter": "python",
   "pygments_lexer": "ipython3",
   "version": "3.11.4"
  },
  "toc": {
   "base_numbering": 1,
   "nav_menu": {},
   "number_sections": true,
   "sideBar": true,
   "skip_h1_title": false,
   "title_cell": "Table of Contents",
   "title_sidebar": "Contents",
   "toc_cell": false,
   "toc_position": {},
   "toc_section_display": true,
   "toc_window_display": true
  }
 },
 "nbformat": 4,
 "nbformat_minor": 4
}
