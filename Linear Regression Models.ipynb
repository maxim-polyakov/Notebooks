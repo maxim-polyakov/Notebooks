{
 "cells": [
  {
   "cell_type": "code",
   "execution_count": 1,
   "id": "963407d6",
   "metadata": {},
   "outputs": [],
   "source": [
    "import numpy as np\n",
    "import pandas as pd\n",
    "\n",
    "import os\n",
    "for dirname, _, filenames in os.walk('/kaggle/input'):\n",
    "    for filename in filenames:\n",
    "        print(os.path.join(dirname, filename))"
   ]
  },
  {
   "cell_type": "code",
   "execution_count": 2,
   "id": "51e49bed",
   "metadata": {},
   "outputs": [],
   "source": [
    "from sklearn.model_selection import train_test_split\n",
    "from sklearn.linear_model import LinearRegression\n",
    "import matplotlib.pyplot as plt"
   ]
  },
  {
   "cell_type": "markdown",
   "id": "b9bf759a",
   "metadata": {},
   "source": [
    "### Reading dataset"
   ]
  },
  {
   "cell_type": "code",
   "execution_count": 3,
   "id": "d0dd1bfe",
   "metadata": {},
   "outputs": [],
   "source": [
    "data=pd.read_csv('Linear Regression - Sheet1.csv')"
   ]
  },
  {
   "cell_type": "markdown",
   "id": "f248c11e",
   "metadata": {},
   "source": [
    "### EDA"
   ]
  },
  {
   "cell_type": "code",
   "execution_count": 4,
   "id": "e88d141d",
   "metadata": {},
   "outputs": [
    {
     "data": {
      "text/html": [
       "<div>\n",
       "<style scoped>\n",
       "    .dataframe tbody tr th:only-of-type {\n",
       "        vertical-align: middle;\n",
       "    }\n",
       "\n",
       "    .dataframe tbody tr th {\n",
       "        vertical-align: top;\n",
       "    }\n",
       "\n",
       "    .dataframe thead th {\n",
       "        text-align: right;\n",
       "    }\n",
       "</style>\n",
       "<table border=\"1\" class=\"dataframe\">\n",
       "  <thead>\n",
       "    <tr style=\"text-align: right;\">\n",
       "      <th></th>\n",
       "      <th>X</th>\n",
       "      <th>Y</th>\n",
       "    </tr>\n",
       "  </thead>\n",
       "  <tbody>\n",
       "    <tr>\n",
       "      <th>0</th>\n",
       "      <td>1</td>\n",
       "      <td>3.888889</td>\n",
       "    </tr>\n",
       "    <tr>\n",
       "      <th>1</th>\n",
       "      <td>2</td>\n",
       "      <td>4.555556</td>\n",
       "    </tr>\n",
       "    <tr>\n",
       "      <th>2</th>\n",
       "      <td>3</td>\n",
       "      <td>5.222222</td>\n",
       "    </tr>\n",
       "    <tr>\n",
       "      <th>3</th>\n",
       "      <td>4</td>\n",
       "      <td>5.888889</td>\n",
       "    </tr>\n",
       "    <tr>\n",
       "      <th>4</th>\n",
       "      <td>5</td>\n",
       "      <td>6.555556</td>\n",
       "    </tr>\n",
       "  </tbody>\n",
       "</table>\n",
       "</div>"
      ],
      "text/plain": [
       "   X         Y\n",
       "0  1  3.888889\n",
       "1  2  4.555556\n",
       "2  3  5.222222\n",
       "3  4  5.888889\n",
       "4  5  6.555556"
      ]
     },
     "execution_count": 4,
     "metadata": {},
     "output_type": "execute_result"
    }
   ],
   "source": [
    "data.head()"
   ]
  },
  {
   "cell_type": "code",
   "execution_count": 5,
   "id": "64775573",
   "metadata": {},
   "outputs": [
    {
     "data": {
      "text/plain": [
       "(300, 2)"
      ]
     },
     "execution_count": 5,
     "metadata": {},
     "output_type": "execute_result"
    }
   ],
   "source": [
    "data.shape"
   ]
  },
  {
   "cell_type": "code",
   "execution_count": 6,
   "id": "84cd44d7",
   "metadata": {},
   "outputs": [
    {
     "data": {
      "text/plain": [
       "X    0\n",
       "Y    0\n",
       "dtype: int64"
      ]
     },
     "execution_count": 6,
     "metadata": {},
     "output_type": "execute_result"
    }
   ],
   "source": [
    "data.isnull().sum()"
   ]
  },
  {
   "cell_type": "code",
   "execution_count": 7,
   "id": "885e0a8f",
   "metadata": {},
   "outputs": [],
   "source": [
    "#Assigning Dependent and Independent variables:\n",
    "x=data.iloc[:,:1].values\n",
    "y=data.iloc[:, 1:2].values"
   ]
  },
  {
   "cell_type": "markdown",
   "id": "b6f85f38",
   "metadata": {},
   "source": [
    "### train/test split"
   ]
  },
  {
   "cell_type": "code",
   "execution_count": 8,
   "id": "59a709b8",
   "metadata": {},
   "outputs": [],
   "source": [
    "#Splitting the dataset into Training and Testing Dataset:\n",
    "x_train, x_test, y_train, y_test = train_test_split(x,y,test_size=0.2, random_state = 42)"
   ]
  },
  {
   "cell_type": "code",
   "execution_count": 9,
   "id": "b2c53d34",
   "metadata": {},
   "outputs": [],
   "source": [
    "#Fitting the Model (Linear Regression):\n",
    "model=LinearRegression()\n",
    "model.fit(x_train, y_train)\n",
    "y_pred=model.predict(x_test)"
   ]
  },
  {
   "cell_type": "code",
   "execution_count": 10,
   "id": "e10eff6f",
   "metadata": {},
   "outputs": [
    {
     "name": "stdout",
     "output_type": "stream",
     "text": [
      "[[135.74657151]\n",
      " [175.63456787]\n",
      " [103.45628874]\n",
      " [ 12.91686842]\n",
      " [154.74085549]\n",
      " [150.3088559 ]\n",
      " [131.31457191]\n",
      " [ 76.23114836]\n",
      " [ 10.38429722]\n",
      " [118.01857313]\n",
      " [157.27342669]\n",
      " [ 43.30772279]\n",
      " [145.2437135 ]\n",
      " [ 35.7100092 ]\n",
      " [122.45057272]\n",
      " [147.1431419 ]\n",
      " [190.19685226]\n",
      " [140.8117139 ]\n",
      " [100.92371754]\n",
      " [111.68714513]\n",
      " [ 56.60372158]\n",
      " [ 78.76371956]\n",
      " [164.87114028]\n",
      " [165.50428308]\n",
      " [ 73.06543437]\n",
      " [ 33.8105808 ]\n",
      " [185.13170986]\n",
      " [193.99570906]\n",
      " [106.62200274]\n",
      " [157.90656949]\n",
      " [ 17.98201082]\n",
      " [111.05400233]\n",
      " [ 28.11229561]\n",
      " [ 22.41401041]\n",
      " [143.3442851 ]\n",
      " [ 82.56257636]\n",
      " [ 11.65058282]\n",
      " [ 64.20143517]\n",
      " [ 36.343152  ]\n",
      " [ 53.43800758]\n",
      " [ 66.10086357]\n",
      " [ 55.33743598]\n",
      " [188.29742386]\n",
      " [ 45.20715119]\n",
      " [ 55.97057878]\n",
      " [ 47.10657959]\n",
      " [155.37399829]\n",
      " [152.20828429]\n",
      " [ 77.49743396]\n",
      " [153.47456989]\n",
      " [121.18428712]\n",
      " [ 98.39114634]\n",
      " [158.53971229]\n",
      " [ 54.70429318]\n",
      " [195.26199465]\n",
      " [183.23228147]\n",
      " [ 68.63343477]\n",
      " [ 65.46772077]\n",
      " [128.78200072]\n",
      " [ 23.04715321]]\n",
      "[[139.2222222 ]\n",
      " [181.2222222 ]\n",
      " [105.2222222 ]\n",
      " [  9.88888889]\n",
      " [159.2222222 ]\n",
      " [154.5555556 ]\n",
      " [134.5555556 ]\n",
      " [ 76.55555556]\n",
      " [  7.22222222]\n",
      " [120.5555556 ]\n",
      " [161.8888889 ]\n",
      " [ 41.88888889]\n",
      " [149.2222222 ]\n",
      " [ 33.88888889]\n",
      " [125.2222222 ]\n",
      " [151.2222222 ]\n",
      " [196.5555556 ]\n",
      " [144.5555556 ]\n",
      " [102.5555556 ]\n",
      " [113.8888889 ]\n",
      " [ 55.88888889]\n",
      " [ 79.22222222]\n",
      " [169.8888889 ]\n",
      " [170.5555556 ]\n",
      " [ 73.22222222]\n",
      " [ 31.88888889]\n",
      " [191.2222222 ]\n",
      " [200.5555556 ]\n",
      " [108.5555556 ]\n",
      " [162.5555556 ]\n",
      " [ 15.22222222]\n",
      " [113.2222222 ]\n",
      " [ 25.88888889]\n",
      " [ 19.88888889]\n",
      " [147.2222222 ]\n",
      " [ 83.22222222]\n",
      " [  8.55555556]\n",
      " [ 63.88888889]\n",
      " [ 34.55555556]\n",
      " [ 52.55555556]\n",
      " [ 65.88888889]\n",
      " [ 54.55555556]\n",
      " [194.5555556 ]\n",
      " [ 43.88888889]\n",
      " [ 55.22222222]\n",
      " [ 45.88888889]\n",
      " [159.8888889 ]\n",
      " [156.5555556 ]\n",
      " [ 77.88888889]\n",
      " [157.8888889 ]\n",
      " [123.8888889 ]\n",
      " [ 99.88888889]\n",
      " [163.2222222 ]\n",
      " [ 53.88888889]\n",
      " [201.8888889 ]\n",
      " [189.2222222 ]\n",
      " [ 68.55555556]\n",
      " [ 65.22222222]\n",
      " [131.8888889 ]\n",
      " [ 20.55555556]]\n"
     ]
    }
   ],
   "source": [
    "print(y_pred)\n",
    "print(y_test)"
   ]
  },
  {
   "cell_type": "code",
   "execution_count": 14,
   "id": "d5b40a7a",
   "metadata": {},
   "outputs": [
    {
     "data": {
      "image/png": "[encoded data removed]",
      "text/plain": [
       "<Figure size 640x480 with 1 Axes>"
      ]
     },
     "metadata": {},
     "output_type": "display_data"
    }
   ],
   "source": [
    "#Plot for Training dataset\n",
    "plt.scatter(x_train, y_train, color='blue')\n",
    "plt.plot(x_train, model.predict(x_train), color='red')\n",
    "plt.title('Y VS X (train set)')\n",
    "plt.xlabel('X')\n",
    "plt.ylabel('Y')\n",
    "plt.show()"
   ]
  },
  {
   "cell_type": "code",
   "execution_count": 13,
   "id": "91d9e932",
   "metadata": {},
   "outputs": [
    {
     "data": {
      "image/png": "[encoded data removed]",
      "text/plain": [
       "<Figure size 640x480 with 1 Axes>"
      ]
     },
     "metadata": {},
     "output_type": "display_data"
    }
   ],
   "source": [
    "plt.scatter(x_test, y_test, color='blue')\n",
    "plt.plot(x_train, model.predict(x_train), color='red')\n",
    "plt.title('Y VS X (test set)')\n",
    "plt.xlabel('X')\n",
    "plt.ylabel('Y')\n",
    "plt.show()"
   ]
  },
  {
   "cell_type": "code",
   "execution_count": null,
   "id": "b1d1adba",
   "metadata": {},
   "outputs": [],
   "source": []
  }
 ],
 "metadata": {
  "kernelspec": {
   "display_name": "Python 3 (ipykernel)",
   "language": "python",
   "name": "python3"
  },
  "language_info": {
   "codemirror_mode": {
    "name": "ipython",
    "version": 3
   },
   "file_extension": ".py",
   "mimetype": "text/x-python",
   "name": "python",
   "nbconvert_exporter": "python",
   "pygments_lexer": "ipython3",
   "version": "3.11.4"
  }
 },
 "nbformat": 4,
 "nbformat_minor": 5
}
