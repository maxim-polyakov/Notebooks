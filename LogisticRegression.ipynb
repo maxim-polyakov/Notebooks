{
 "cells": [
  {
   "cell_type": "code",
   "execution_count": 1,
   "id": "e442b5d5",
   "metadata": {},
   "outputs": [
    {
     "name": "stdout",
     "output_type": "stream",
     "text": [
      "Requirement already satisfied: pandas in c:\\users\\maxim\\anaconda3\\lib\\site-packages (1.5.3)\n",
      "Collecting convertdate\n",
      "  Downloading convertdate-2.4.0-py3-none-any.whl (47 kB)\n",
      "     ---------------------------------------- 0.0/47.9 kB ? eta -:--:--\n",
      "     -------- ------------------------------- 10.2/47.9 kB ? eta -:--:--\n",
      "     -------------------------------- ----- 41.0/47.9 kB 393.8 kB/s eta 0:00:01\n",
      "     -------------------------------------- 47.9/47.9 kB 342.6 kB/s eta 0:00:00\n",
      "Collecting pystan==2.19.1.1\n",
      "  Downloading pystan-2.19.1.1.tar.gz (16.2 MB)\n",
      "     ---------------------------------------- 0.0/16.2 MB ? eta -:--:--\n",
      "     --------------------------------------- 0.0/16.2 MB 991.0 kB/s eta 0:00:17\n",
      "     ---------------------------------------- 0.1/16.2 MB 1.1 MB/s eta 0:00:16\n",
      "     ---------------------------------------- 0.2/16.2 MB 1.3 MB/s eta 0:00:13\n",
      "      --------------------------------------- 0.2/16.2 MB 1.4 MB/s eta 0:00:12\n",
      "     - -------------------------------------- 0.5/16.2 MB 2.2 MB/s eta 0:00:08\n",
      "     -- ------------------------------------- 0.8/16.2 MB 3.0 MB/s eta 0:00:06\n",
      "     -- ------------------------------------- 1.2/16.2 MB 3.9 MB/s eta 0:00:04\n",
      "     --- ------------------------------------ 1.5/16.2 MB 4.5 MB/s eta 0:00:04\n",
      "     --- ------------------------------------ 1.5/16.2 MB 4.5 MB/s eta 0:00:04\n",
      "     --- ------------------------------------ 1.5/16.2 MB 3.6 MB/s eta 0:00:05\n",
      "     --- ------------------------------------ 1.6/16.2 MB 3.3 MB/s eta 0:00:05\n",
      "     --- ------------------------------------ 1.6/16.2 MB 3.3 MB/s eta 0:00:05\n",
      "     --- ------------------------------------ 1.6/16.2 MB 3.3 MB/s eta 0:00:05\n",
      "     ------- -------------------------------- 3.1/16.2 MB 5.1 MB/s eta 0:00:03\n",
      "     -------- ------------------------------- 3.2/16.2 MB 4.8 MB/s eta 0:00:03\n",
      "     --------- ------------------------------ 3.7/16.2 MB 5.2 MB/s eta 0:00:03\n",
      "     --------- ------------------------------ 3.8/16.2 MB 5.1 MB/s eta 0:00:03\n",
      "     ---------- ----------------------------- 4.2/16.2 MB 5.1 MB/s eta 0:00:03\n",
      "     ---------- ----------------------------- 4.4/16.2 MB 5.3 MB/s eta 0:00:03\n",
      "     ----------- ---------------------------- 4.6/16.2 MB 5.0 MB/s eta 0:00:03\n",
      "     -------------- ------------------------- 5.7/16.2 MB 6.0 MB/s eta 0:00:02\n",
      "     ---------------- ----------------------- 6.7/16.2 MB 6.7 MB/s eta 0:00:02\n",
      "     ---------------- ----------------------- 6.8/16.2 MB 6.5 MB/s eta 0:00:02\n",
      "     ----------------- ---------------------- 6.9/16.2 MB 6.5 MB/s eta 0:00:02\n",
      "     ------------------ --------------------- 7.5/16.2 MB 6.6 MB/s eta 0:00:02\n",
      "     -------------------- ------------------- 8.1/16.2 MB 6.8 MB/s eta 0:00:02\n",
      "     -------------------- ------------------- 8.1/16.2 MB 6.8 MB/s eta 0:00:02\n",
      "     --------------------- ------------------ 8.9/16.2 MB 6.9 MB/s eta 0:00:02\n",
      "     --------------------- ------------------ 8.9/16.2 MB 6.9 MB/s eta 0:00:02\n",
      "     ---------------------- ----------------- 9.0/16.2 MB 6.8 MB/s eta 0:00:02\n",
      "     ---------------------- ----------------- 9.2/16.2 MB 6.4 MB/s eta 0:00:02\n",
      "     ---------------------------- ----------- 11.7/16.2 MB 9.6 MB/s eta 0:00:01\n",
      "     ----------------------------- --------- 12.1/16.2 MB 11.5 MB/s eta 0:00:01\n",
      "     ----------------------------- --------- 12.1/16.2 MB 11.5 MB/s eta 0:00:01\n",
      "     ------------------------------ -------- 12.6/16.2 MB 10.4 MB/s eta 0:00:01\n",
      "     --------------------------------- ----- 13.8/16.2 MB 10.7 MB/s eta 0:00:01\n",
      "     ---------------------------------- ---- 14.3/16.2 MB 11.5 MB/s eta 0:00:01\n",
      "     ----------------------------------- --- 14.6/16.2 MB 11.3 MB/s eta 0:00:01\n",
      "     ----------------------------------- --- 14.6/16.2 MB 11.3 MB/s eta 0:00:01\n",
      "     ------------------------------------ -- 15.1/16.2 MB 11.1 MB/s eta 0:00:01\n",
      "     --------------------------------------  16.2/16.2 MB 11.3 MB/s eta 0:00:01\n",
      "     --------------------------------------  16.2/16.2 MB 11.3 MB/s eta 0:00:01\n",
      "     --------------------------------------- 16.2/16.2 MB 10.4 MB/s eta 0:00:00\n",
      "  Preparing metadata (setup.py): started\n",
      "  Preparing metadata (setup.py): finished with status 'error'\n"
     ]
    },
    {
     "name": "stderr",
     "output_type": "stream",
     "text": [
      "  error: subprocess-exited-with-error\n",
      "  \n",
      "  python setup.py egg_info did not run successfully.\n",
      "  exit code: 1\n",
      "  \n",
      "  [6 lines of output]\n",
      "  Traceback (most recent call last):\n",
      "    File \"<string>\", line 2, in <module>\n",
      "    File \"<pip-setuptools-caller>\", line 34, in <module>\n",
      "    File \"C:\\Users\\maxim\\AppData\\Local\\Temp\\pip-install-3ckaujza\\pystan_2c26f9505bd642f7a9bd8663953b15e2\\setup.py\", line 122, in <module>\n",
      "      from Cython.Build.Inline import _get_build_extension\n",
      "  ModuleNotFoundError: No module named 'Cython'\n",
      "  [end of output]\n",
      "  \n",
      "  note: This error originates from a subprocess, and is likely not a problem with pip.\n",
      "error: metadata-generation-failed\n",
      "\n",
      "Encountered error while generating package metadata.\n",
      "\n",
      "See above for output.\n",
      "\n",
      "note: This is an issue with the package mentioned above, not pip.\n",
      "hint: See above for details.\n"
     ]
    }
   ],
   "source": [
    "!pip install pandas convertdate pystan==2.19.1.1 fbprophet==0.7.1"
   ]
  },
  {
   "cell_type": "code",
   "execution_count": null,
   "id": "24e2a56c",
   "metadata": {},
   "outputs": [],
   "source": []
  }
 ],
 "metadata": {
  "kernelspec": {
   "display_name": "Python 3 (ipykernel)",
   "language": "python",
   "name": "python3"
  },
  "language_info": {
   "codemirror_mode": {
    "name": "ipython",
    "version": 3
   },
   "file_extension": ".py",
   "mimetype": "text/x-python",
   "name": "python",
   "nbconvert_exporter": "python",
   "pygments_lexer": "ipython3",
   "version": "3.11.4"
  }
 },
 "nbformat": 4,
 "nbformat_minor": 5
}
