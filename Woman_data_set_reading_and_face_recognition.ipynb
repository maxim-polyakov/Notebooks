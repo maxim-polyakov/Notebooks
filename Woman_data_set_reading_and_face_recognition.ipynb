{
 "cells": [
  {
   "cell_type": "code",
   "id": "03ee9890",
   "metadata": {
    "ExecuteTime": {
     "end_time": "2024-06-12T11:20:37.019243Z",
     "start_time": "2024-06-12T11:20:26.967562Z"
    }
   },
   "source": [
    "import cv2\n",
    "import os\n",
    "\n",
    "# Load the image\n",
    "total_con=os.listdir('Woman_data_set')\n",
    "count = len(total_con)\n",
    "\n",
    "# font \n",
    "font = cv2.FONT_HERSHEY_SIMPLEX \n",
    "\n",
    "# fontScale \n",
    "fontScale = 1\n",
    "   \n",
    "# Blue color in BGR \n",
    "color = (255, 0, 0) \n",
    "  \n",
    "# Line thickness of 2 px \n",
    "thickness = 2\n",
    "\n",
    "faces = []\n",
    "images = []\n",
    "\n",
    "face_classifier = cv2.CascadeClassifier(\n",
    "    cv2.data.haarcascades + \"haarcascade_frontalface_default.xml\"\n",
    ")\n",
    "\n",
    "for con in total_con:\n",
    "    image = cv2.imread(\"Woman_data_set/\" + con, cv2.COLOR_BGR2GRAY)\n",
    "    images.append(image)"
   ],
   "outputs": [],
   "execution_count": 1
  },
  {
   "cell_type": "code",
   "id": "197f6840",
   "metadata": {
    "ExecuteTime": {
     "end_time": "2024-06-12T09:26:50.322029Z",
     "start_time": "2024-06-12T09:25:42.769592Z"
    }
   },
   "source": [
    "for image in images:\n",
    "\n",
    "    gray = cv2.cvtColor(image, cv2.COLOR_BGR2GRAY)\n",
    "    \n",
    "    faces = face_classifier.detectMultiScale(\n",
    "            gray,\n",
    "            scaleFactor=1.1,\n",
    "            minNeighbors=5,\n",
    "            minSize=(30, 30),\n",
    "            flags=cv2.CASCADE_SCALE_IMAGE)\n",
    "    \n",
    "    for (x, y, w, h) in faces:\n",
    "        cv2.rectangle(image, (x, y), (x + w, y + h), (0, 255, 0), 3)\n",
    "        cv2.putText(image, 'Woman', (x, y), font,  \n",
    "                   fontScale, color, thickness, cv2.LINE_AA)\n",
    "        \n",
    "    cv2.imshow(\"Photo\",image) \n",
    "    cv2.waitKey(1)\n",
    "    if cv2.waitKey(1) & 0xFF == ord('q'):\n",
    "        break\n",
    "\n",
    "        \n",
    "cv2.destroyAllWindows()"
   ],
   "outputs": [],
   "execution_count": 3
  },
  {
   "cell_type": "code",
   "execution_count": null,
   "id": "098087dc",
   "metadata": {},
   "outputs": [],
   "source": [
    "\n"
   ]
  },
  {
   "cell_type": "code",
   "execution_count": null,
   "id": "81005bee",
   "metadata": {},
   "outputs": [],
   "source": []
  }
 ],
 "metadata": {
  "kernelspec": {
   "display_name": "Python 3 (ipykernel)",
   "language": "python",
   "name": "python3"
  },
  "language_info": {
   "codemirror_mode": {
    "name": "ipython",
    "version": 3
   },
   "file_extension": ".py",
   "mimetype": "text/x-python",
   "name": "python",
   "nbconvert_exporter": "python",
   "pygments_lexer": "ipython3",
   "version": "3.11.7"
  }
 },
 "nbformat": 4,
 "nbformat_minor": 5
}
